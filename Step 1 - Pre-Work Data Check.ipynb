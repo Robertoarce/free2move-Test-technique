{
 "cells": [
  {
   "cell_type": "markdown",
   "metadata": {},
   "source": [
    "# Step 1 - Pre-Work Data Check"
   ]
  },
  {
   "cell_type": "markdown",
   "metadata": {},
   "source": [
    "## Agenda:\n",
    "\n",
    "    1) Data check:\n",
    "        a. Customers csv\n",
    "        b. Items csv\n",
    "        c. orders csv\n",
    "        d. products csv\n",
    "    2) Extra -  just for fun analysis\n",
    "\n",
    " We will be looking at the data given with the objective to:\n",
    "  \n",
    "     1) Detect the useful champs for our mission.\n",
    "     2) Make modifications to import the data to a table.\n",
    "  \n",
    "   "
   ]
  },
  {
   "cell_type": "markdown",
   "metadata": {},
   "source": [
    "##   Import Files and modules\n"
   ]
  },
  {
   "cell_type": "code",
   "execution_count": 1,
   "metadata": {},
   "outputs": [],
   "source": [
    "import pandas as pd\n",
    "import numpy as np\n",
    "import math\n",
    "\n",
    "customer    = pd.read_csv(\".\\\\data\\\\customer.csv\")\n",
    "items       = pd.read_csv(\".\\\\data\\\\items.csv\")\n",
    "orders      = pd.read_csv(\".\\\\data\\\\orders.csv\")\n",
    "products    = pd.read_csv(\".\\\\data\\\\products.csv\")"
   ]
  },
  {
   "cell_type": "markdown",
   "metadata": {},
   "source": [
    "## 2) Data check"
   ]
  },
  {
   "cell_type": "markdown",
   "metadata": {},
   "source": [
    "#### a. Customer csv"
   ]
  },
  {
   "cell_type": "markdown",
   "metadata": {},
   "source": [
    "*For this data set we are only interested in the customer_id and customer_unique_id.*"
   ]
  },
  {
   "cell_type": "code",
   "execution_count": 2,
   "metadata": {},
   "outputs": [
    {
     "name": "stdout",
     "output_type": "stream",
     "text": [
      "<class 'pandas.core.frame.DataFrame'>\n",
      "RangeIndex: 99443 entries, 0 to 99442\n",
      "Data columns (total 5 columns):\n",
      " #   Column                    Non-Null Count  Dtype  \n",
      "---  ------                    --------------  -----  \n",
      " 0   customer_id               99443 non-null  object \n",
      " 1   customer_unique_id        99442 non-null  object \n",
      " 2   customer_zip_code_prefix  99442 non-null  float64\n",
      " 3   customer_city             99441 non-null  object \n",
      " 4   customer_state            99443 non-null  object \n",
      "dtypes: float64(1), object(4)\n",
      "memory usage: 3.8+ MB\n"
     ]
    }
   ],
   "source": [
    "customer.info()"
   ]
  },
  {
   "cell_type": "code",
   "execution_count": 3,
   "metadata": {},
   "outputs": [
    {
     "data": {
      "text/html": [
       "<div>\n",
       "<style scoped>\n",
       "    .dataframe tbody tr th:only-of-type {\n",
       "        vertical-align: middle;\n",
       "    }\n",
       "\n",
       "    .dataframe tbody tr th {\n",
       "        vertical-align: top;\n",
       "    }\n",
       "\n",
       "    .dataframe thead th {\n",
       "        text-align: right;\n",
       "    }\n",
       "</style>\n",
       "<table border=\"1\" class=\"dataframe\">\n",
       "  <thead>\n",
       "    <tr style=\"text-align: right;\">\n",
       "      <th></th>\n",
       "      <th>customer_id</th>\n",
       "      <th>customer_unique_id</th>\n",
       "      <th>customer_zip_code_prefix</th>\n",
       "      <th>customer_city</th>\n",
       "      <th>customer_state</th>\n",
       "    </tr>\n",
       "  </thead>\n",
       "  <tbody>\n",
       "    <tr>\n",
       "      <th>0</th>\n",
       "      <td>06b8999e2fba1a1fbc88172c00ba8bc7</td>\n",
       "      <td>861eff4711a542e4b93843c6dd7febb0</td>\n",
       "      <td>14409.0</td>\n",
       "      <td>franca</td>\n",
       "      <td>SP</td>\n",
       "    </tr>\n",
       "    <tr>\n",
       "      <th>1</th>\n",
       "      <td>18955e83d337fd6b2def6b18a428ac77</td>\n",
       "      <td>290c77bc529b7ac935b93aa66c333dc3</td>\n",
       "      <td>9790.0</td>\n",
       "      <td>sao bernardo do campo</td>\n",
       "      <td>SP</td>\n",
       "    </tr>\n",
       "    <tr>\n",
       "      <th>2</th>\n",
       "      <td>4e7b3e00288586ebd08712fdd0374a03</td>\n",
       "      <td>060e732b5b29e8181a18229c7b0b2b5e</td>\n",
       "      <td>1151.0</td>\n",
       "      <td>sao paulo</td>\n",
       "      <td>SP</td>\n",
       "    </tr>\n",
       "  </tbody>\n",
       "</table>\n",
       "</div>"
      ],
      "text/plain": [
       "                        customer_id                customer_unique_id  \\\n",
       "0  06b8999e2fba1a1fbc88172c00ba8bc7  861eff4711a542e4b93843c6dd7febb0   \n",
       "1  18955e83d337fd6b2def6b18a428ac77  290c77bc529b7ac935b93aa66c333dc3   \n",
       "2  4e7b3e00288586ebd08712fdd0374a03  060e732b5b29e8181a18229c7b0b2b5e   \n",
       "\n",
       "   customer_zip_code_prefix          customer_city customer_state  \n",
       "0                   14409.0                 franca             SP  \n",
       "1                    9790.0  sao bernardo do campo             SP  \n",
       "2                    1151.0              sao paulo             SP  "
      ]
     },
     "execution_count": 3,
     "metadata": {},
     "output_type": "execute_result"
    }
   ],
   "source": [
    "customer.head(3)"
   ]
  },
  {
   "cell_type": "code",
   "execution_count": 4,
   "metadata": {},
   "outputs": [
    {
     "name": "stdout",
     "output_type": "stream",
     "text": [
      "nduplicated rows = 0\n"
     ]
    }
   ],
   "source": [
    "#are there duplicated rows?\n",
    "print(\"nduplicated rows = \" + str(customer.duplicated().sum()) )"
   ]
  },
  {
   "cell_type": "code",
   "execution_count": 5,
   "metadata": {},
   "outputs": [
    {
     "data": {
      "text/html": [
       "<div>\n",
       "<style scoped>\n",
       "    .dataframe tbody tr th:only-of-type {\n",
       "        vertical-align: middle;\n",
       "    }\n",
       "\n",
       "    .dataframe tbody tr th {\n",
       "        vertical-align: top;\n",
       "    }\n",
       "\n",
       "    .dataframe thead th {\n",
       "        text-align: right;\n",
       "    }\n",
       "</style>\n",
       "<table border=\"1\" class=\"dataframe\">\n",
       "  <thead>\n",
       "    <tr style=\"text-align: right;\">\n",
       "      <th></th>\n",
       "      <th>unique values</th>\n",
       "      <th>not null values</th>\n",
       "      <th>missing values</th>\n",
       "      <th>percentage</th>\n",
       "    </tr>\n",
       "  </thead>\n",
       "  <tbody>\n",
       "    <tr>\n",
       "      <th>customer_id</th>\n",
       "      <td>99441.0</td>\n",
       "      <td>99443.0</td>\n",
       "      <td>0.0</td>\n",
       "      <td>0.000000</td>\n",
       "    </tr>\n",
       "    <tr>\n",
       "      <th>customer_unique_id</th>\n",
       "      <td>96096.0</td>\n",
       "      <td>99442.0</td>\n",
       "      <td>1.0</td>\n",
       "      <td>0.001006</td>\n",
       "    </tr>\n",
       "    <tr>\n",
       "      <th>customer_zip_code_prefix</th>\n",
       "      <td>14994.0</td>\n",
       "      <td>99442.0</td>\n",
       "      <td>1.0</td>\n",
       "      <td>0.001006</td>\n",
       "    </tr>\n",
       "    <tr>\n",
       "      <th>customer_city</th>\n",
       "      <td>4119.0</td>\n",
       "      <td>99441.0</td>\n",
       "      <td>2.0</td>\n",
       "      <td>0.002011</td>\n",
       "    </tr>\n",
       "    <tr>\n",
       "      <th>customer_state</th>\n",
       "      <td>27.0</td>\n",
       "      <td>99443.0</td>\n",
       "      <td>0.0</td>\n",
       "      <td>0.000000</td>\n",
       "    </tr>\n",
       "  </tbody>\n",
       "</table>\n",
       "</div>"
      ],
      "text/plain": [
       "                          unique values  not null values  missing values  \\\n",
       "customer_id                     99441.0          99443.0             0.0   \n",
       "customer_unique_id              96096.0          99442.0             1.0   \n",
       "customer_zip_code_prefix        14994.0          99442.0             1.0   \n",
       "customer_city                    4119.0          99441.0             2.0   \n",
       "customer_state                     27.0          99443.0             0.0   \n",
       "\n",
       "                          percentage  \n",
       "customer_id                 0.000000  \n",
       "customer_unique_id          0.001006  \n",
       "customer_zip_code_prefix    0.001006  \n",
       "customer_city               0.002011  \n",
       "customer_state              0.000000  "
      ]
     },
     "execution_count": 5,
     "metadata": {},
     "output_type": "execute_result"
    }
   ],
   "source": [
    "#check missing/null/distinct values\n",
    "missing = pd.DataFrame( data = [ customer.nunique(),customer.notnull().sum() , customer.isna().sum() , ((customer.isna().sum()/ customer.count())*100)])\n",
    "missing.index=[ \"unique values\",\"not null values\",\"missing values\", \"percentage\"]\n",
    "missing.transpose()"
   ]
  },
  {
   "cell_type": "markdown",
   "metadata": {},
   "source": [
    "> we can see that customer_id and customer_unique_id have repeated values"
   ]
  },
  {
   "cell_type": "markdown",
   "metadata": {},
   "source": [
    "##### >> Customer_id"
   ]
  },
  {
   "cell_type": "markdown",
   "metadata": {},
   "source": [
    "customer_id has reapeated values but not so many."
   ]
  },
  {
   "cell_type": "code",
   "execution_count": 6,
   "metadata": {},
   "outputs": [
    {
     "data": {
      "text/plain": [
       "9b8ce803689b3562defaad4613ef426f    2\n",
       "7d1dd3c96c21c803f7a1a32aa8d9feb9    2\n",
       "7324ecb0ff143f561193d22bea7d63fb    1\n",
       "00fd9131670312e3292287415ee2e498    1\n",
       "6cad022a750365e31c429d9f6eae160f    1\n",
       "Name: customer_id, dtype: int64"
      ]
     },
     "execution_count": 6,
     "metadata": {},
     "output_type": "execute_result"
    }
   ],
   "source": [
    "#do the customer_id have more than one 'customer_unique_id'? (just 2 have repeated values.)\n",
    "customer['customer_id'].value_counts().sort_values(ascending=False).head()"
   ]
  },
  {
   "cell_type": "code",
   "execution_count": 7,
   "metadata": {},
   "outputs": [
    {
     "data": {
      "text/html": [
       "<div>\n",
       "<style scoped>\n",
       "    .dataframe tbody tr th:only-of-type {\n",
       "        vertical-align: middle;\n",
       "    }\n",
       "\n",
       "    .dataframe tbody tr th {\n",
       "        vertical-align: top;\n",
       "    }\n",
       "\n",
       "    .dataframe thead th {\n",
       "        text-align: right;\n",
       "    }\n",
       "</style>\n",
       "<table border=\"1\" class=\"dataframe\">\n",
       "  <thead>\n",
       "    <tr style=\"text-align: right;\">\n",
       "      <th></th>\n",
       "      <th>customer_id</th>\n",
       "      <th>customer_unique_id</th>\n",
       "      <th>customer_zip_code_prefix</th>\n",
       "      <th>customer_city</th>\n",
       "      <th>customer_state</th>\n",
       "    </tr>\n",
       "  </thead>\n",
       "  <tbody>\n",
       "    <tr>\n",
       "      <th>18</th>\n",
       "      <td>9b8ce803689b3562defaad4613ef426f</td>\n",
       "      <td>7f3a72e8f988c6e735ba118d54f47458</td>\n",
       "      <td>5416.0</td>\n",
       "      <td>sao paulo</td>\n",
       "      <td>SP</td>\n",
       "    </tr>\n",
       "    <tr>\n",
       "      <th>19</th>\n",
       "      <td>9b8ce803689b3562defaad4613ef426f</td>\n",
       "      <td>7f3a72e8f988c6e735ba118d54f47458</td>\n",
       "      <td>5416.0</td>\n",
       "      <td>NaN</td>\n",
       "      <td>SP</td>\n",
       "    </tr>\n",
       "    <tr>\n",
       "      <th>439</th>\n",
       "      <td>7d1dd3c96c21c803f7a1a32aa8d9feb9</td>\n",
       "      <td>729e9d3fa93475add3ea25424e83e1ad</td>\n",
       "      <td>2559.0</td>\n",
       "      <td>sao paulo</td>\n",
       "      <td>SP</td>\n",
       "    </tr>\n",
       "    <tr>\n",
       "      <th>440</th>\n",
       "      <td>7d1dd3c96c21c803f7a1a32aa8d9feb9</td>\n",
       "      <td>NaN</td>\n",
       "      <td>NaN</td>\n",
       "      <td>NaN</td>\n",
       "      <td>SP</td>\n",
       "    </tr>\n",
       "  </tbody>\n",
       "</table>\n",
       "</div>"
      ],
      "text/plain": [
       "                          customer_id                customer_unique_id  \\\n",
       "18   9b8ce803689b3562defaad4613ef426f  7f3a72e8f988c6e735ba118d54f47458   \n",
       "19   9b8ce803689b3562defaad4613ef426f  7f3a72e8f988c6e735ba118d54f47458   \n",
       "439  7d1dd3c96c21c803f7a1a32aa8d9feb9  729e9d3fa93475add3ea25424e83e1ad   \n",
       "440  7d1dd3c96c21c803f7a1a32aa8d9feb9                               NaN   \n",
       "\n",
       "     customer_zip_code_prefix customer_city customer_state  \n",
       "18                     5416.0     sao paulo             SP  \n",
       "19                     5416.0           NaN             SP  \n",
       "439                    2559.0     sao paulo             SP  \n",
       "440                       NaN           NaN             SP  "
      ]
     },
     "execution_count": 7,
     "metadata": {},
     "output_type": "execute_result"
    }
   ],
   "source": [
    "#show all duplicated customer_id\n",
    "customer[ customer['customer_id'].duplicated(keep=False) == True]\n"
   ]
  },
  {
   "cell_type": "markdown",
   "metadata": {},
   "source": [
    "> they are just repeated lines, with missing elements, we should delete rows 19 and 440"
   ]
  },
  {
   "cell_type": "markdown",
   "metadata": {},
   "source": [
    "##### >> Customer_unique_id"
   ]
  },
  {
   "cell_type": "code",
   "execution_count": 8,
   "metadata": {},
   "outputs": [
    {
     "data": {
      "text/plain": [
       "8d50f5eadf50201ccdcedfb9e2ac8455    17\n",
       "3e43e6105506432c953e165fb2acf44c     9\n",
       "1b6c7548a2a1f9037c1fd3ddfed95f33     7\n",
       "Name: customer_unique_id, dtype: int64"
      ]
     },
     "execution_count": 8,
     "metadata": {},
     "output_type": "execute_result"
    }
   ],
   "source": [
    "#do the customer_unique_id have more than one customer_id? \n",
    "customer['customer_unique_id'].value_counts().sort_values(ascending=False).head(3)"
   ]
  },
  {
   "cell_type": "markdown",
   "metadata": {},
   "source": [
    "> YES, it does and we do not need to search in detail since there are only 2 repeated customer_id values, thus the customer_unique_id has more than 1 customer_id (one to many)"
   ]
  },
  {
   "cell_type": "code",
   "execution_count": 9,
   "metadata": {},
   "outputs": [
    {
     "name": "stdout",
     "output_type": "stream",
     "text": [
      "the Max len on [customer_id] is =32\n",
      "the Max len on [customer_unique_id] is =32\n",
      "the Max len on [customer_city] is =32\n",
      "the Max len on [customer_state] is =2\n"
     ]
    }
   ],
   "source": [
    "#Getting to know the lenght of all spaces\n",
    "for x in ['customer_id', 'customer_unique_id','customer_city', 'customer_state']:\n",
    "    print(\"the Max len on [\" + x + \"] is =\" + str(len(max(customer[customer[x].notnull()][x].tolist(), key=len))))"
   ]
  },
  {
   "cell_type": "code",
   "execution_count": 10,
   "metadata": {},
   "outputs": [
    {
     "name": "stdout",
     "output_type": "stream",
     "text": [
      "the Max len on [customer_zip_code_prefix] is = 5\n"
     ]
    }
   ],
   "source": [
    "# Treating floats, is tricky in python, here is a simple way\n",
    "lista = customer['customer_zip_code_prefix'].to_list()\n",
    "base = 0\n",
    "for x in lista:\n",
    "    if x > base:\n",
    "        base = x\n",
    "print(\"the Max len on [customer_zip_code_prefix] is = \" + str(len(str(int(base)))))"
   ]
  },
  {
   "cell_type": "markdown",
   "metadata": {},
   "source": [
    "#### Observations :\n",
    "1) Errors on line 19 and 440. (repeated values).\n",
    "1) Customer_id do not have repeated values (after fix of line 19 & 440) and customer_unique_id have more than one customer_id.\n",
    "2) The amount of missing values in the rest of the columns is negligible (even if we will not use them). \n",
    "3) No duplicate Rows.\n",
    "\n"
   ]
  },
  {
   "cell_type": "markdown",
   "metadata": {},
   "source": [
    "# FIX - Customer File "
   ]
  },
  {
   "cell_type": "markdown",
   "metadata": {},
   "source": [
    "#### -- Fixing the repeated lines on Customer_id"
   ]
  },
  {
   "cell_type": "code",
   "execution_count": 11,
   "metadata": {},
   "outputs": [],
   "source": [
    "customer = customer.drop(customer[ customer['customer_id'].duplicated() == True].index.tolist()) #drop lines 19 and 440\n",
    "customer.to_csv(r\"data\\\\fixed\\\\fixed_customer.csv\",sep =',',index=False )"
   ]
  },
  {
   "cell_type": "code",
   "execution_count": 12,
   "metadata": {},
   "outputs": [
    {
     "name": "stdout",
     "output_type": "stream",
     "text": [
      "<class 'pandas.core.frame.DataFrame'>\n",
      "Int64Index: 99441 entries, 0 to 99442\n",
      "Data columns (total 5 columns):\n",
      " #   Column                    Non-Null Count  Dtype  \n",
      "---  ------                    --------------  -----  \n",
      " 0   customer_id               99441 non-null  object \n",
      " 1   customer_unique_id        99441 non-null  object \n",
      " 2   customer_zip_code_prefix  99441 non-null  float64\n",
      " 3   customer_city             99441 non-null  object \n",
      " 4   customer_state            99441 non-null  object \n",
      "dtypes: float64(1), object(4)\n",
      "memory usage: 4.6+ MB\n"
     ]
    }
   ],
   "source": [
    "customer.info()"
   ]
  },
  {
   "cell_type": "markdown",
   "metadata": {},
   "source": [
    "\n",
    "\n",
    "\n",
    "---\n"
   ]
  },
  {
   "cell_type": "markdown",
   "metadata": {},
   "source": [
    "\n",
    "\n",
    "## b. Items"
   ]
  },
  {
   "cell_type": "markdown",
   "metadata": {},
   "source": [
    "*Here we are interested in the **order_id, order_item_id, price, frieght_value and shipping_limit_date** *"
   ]
  },
  {
   "cell_type": "code",
   "execution_count": 13,
   "metadata": {},
   "outputs": [
    {
     "data": {
      "text/html": [
       "<div>\n",
       "<style scoped>\n",
       "    .dataframe tbody tr th:only-of-type {\n",
       "        vertical-align: middle;\n",
       "    }\n",
       "\n",
       "    .dataframe tbody tr th {\n",
       "        vertical-align: top;\n",
       "    }\n",
       "\n",
       "    .dataframe thead th {\n",
       "        text-align: right;\n",
       "    }\n",
       "</style>\n",
       "<table border=\"1\" class=\"dataframe\">\n",
       "  <thead>\n",
       "    <tr style=\"text-align: right;\">\n",
       "      <th></th>\n",
       "      <th>order_id</th>\n",
       "      <th>order_item_id</th>\n",
       "      <th>product_id</th>\n",
       "      <th>seller_id</th>\n",
       "      <th>shipping_limit_date</th>\n",
       "      <th>price</th>\n",
       "      <th>freight_value</th>\n",
       "    </tr>\n",
       "  </thead>\n",
       "  <tbody>\n",
       "    <tr>\n",
       "      <th>0</th>\n",
       "      <td>00010242fe8c5a6d1ba2dd792cb16214</td>\n",
       "      <td>1</td>\n",
       "      <td>4244733e06e7ecb4970a6e2683c13e61</td>\n",
       "      <td>48436dade18ac8b2bce089ec2a041202</td>\n",
       "      <td>2017-09-19 09:45:35</td>\n",
       "      <td>58.9</td>\n",
       "      <td>13.29</td>\n",
       "    </tr>\n",
       "    <tr>\n",
       "      <th>1</th>\n",
       "      <td>00018f77f2f0320c557190d7a144bdd3</td>\n",
       "      <td>1</td>\n",
       "      <td>e5f2d52b802189ee658865ca93d83a8f</td>\n",
       "      <td>dd7ddc04e1b6c2c614352b383efe2d36</td>\n",
       "      <td>2017-05-03 11:05:13</td>\n",
       "      <td>239.9</td>\n",
       "      <td>19.93</td>\n",
       "    </tr>\n",
       "    <tr>\n",
       "      <th>2</th>\n",
       "      <td>000229ec398224ef6ca0657da4fc703e</td>\n",
       "      <td>1</td>\n",
       "      <td>c777355d18b72b67abbeef9df44fd0fd</td>\n",
       "      <td>5b51032eddd242adc84c38acab88f23d</td>\n",
       "      <td>2018-01-18 14:48:30</td>\n",
       "      <td>199.0</td>\n",
       "      <td>17.87</td>\n",
       "    </tr>\n",
       "  </tbody>\n",
       "</table>\n",
       "</div>"
      ],
      "text/plain": [
       "                           order_id  order_item_id  \\\n",
       "0  00010242fe8c5a6d1ba2dd792cb16214              1   \n",
       "1  00018f77f2f0320c557190d7a144bdd3              1   \n",
       "2  000229ec398224ef6ca0657da4fc703e              1   \n",
       "\n",
       "                         product_id                         seller_id  \\\n",
       "0  4244733e06e7ecb4970a6e2683c13e61  48436dade18ac8b2bce089ec2a041202   \n",
       "1  e5f2d52b802189ee658865ca93d83a8f  dd7ddc04e1b6c2c614352b383efe2d36   \n",
       "2  c777355d18b72b67abbeef9df44fd0fd  5b51032eddd242adc84c38acab88f23d   \n",
       "\n",
       "  shipping_limit_date  price  freight_value  \n",
       "0 2017-09-19 09:45:35   58.9          13.29  \n",
       "1 2017-05-03 11:05:13  239.9          19.93  \n",
       "2 2018-01-18 14:48:30  199.0          17.87  "
      ]
     },
     "execution_count": 13,
     "metadata": {},
     "output_type": "execute_result"
    }
   ],
   "source": [
    "items['shipping_limit_date'] = items['shipping_limit_date'].astype('datetime64[s]') #formating the shipping limit date to a pandas time type\n",
    "#items['shipping_limit_date'] = pd.to_datetime(items['shipping_limit_date'])\n",
    "items.head(3)"
   ]
  },
  {
   "cell_type": "code",
   "execution_count": 14,
   "metadata": {},
   "outputs": [
    {
     "name": "stdout",
     "output_type": "stream",
     "text": [
      "nduplicated rows = 0\n"
     ]
    }
   ],
   "source": [
    "#are there duplicated rows?\n",
    "print(\"nduplicated rows = \" + str(items.duplicated().sum()) )"
   ]
  },
  {
   "cell_type": "code",
   "execution_count": 15,
   "metadata": {},
   "outputs": [
    {
     "data": {
      "text/html": [
       "<div>\n",
       "<style scoped>\n",
       "    .dataframe tbody tr th:only-of-type {\n",
       "        vertical-align: middle;\n",
       "    }\n",
       "\n",
       "    .dataframe tbody tr th {\n",
       "        vertical-align: top;\n",
       "    }\n",
       "\n",
       "    .dataframe thead th {\n",
       "        text-align: right;\n",
       "    }\n",
       "</style>\n",
       "<table border=\"1\" class=\"dataframe\">\n",
       "  <thead>\n",
       "    <tr style=\"text-align: right;\">\n",
       "      <th></th>\n",
       "      <th>unique values</th>\n",
       "      <th>not null values</th>\n",
       "      <th>missing values</th>\n",
       "      <th>percentage</th>\n",
       "      <th>distinct_%</th>\n",
       "    </tr>\n",
       "  </thead>\n",
       "  <tbody>\n",
       "    <tr>\n",
       "      <th>order_id</th>\n",
       "      <td>98666.0</td>\n",
       "      <td>112650.0</td>\n",
       "      <td>0.0</td>\n",
       "      <td>0.0</td>\n",
       "      <td>87.586329</td>\n",
       "    </tr>\n",
       "    <tr>\n",
       "      <th>order_item_id</th>\n",
       "      <td>21.0</td>\n",
       "      <td>112650.0</td>\n",
       "      <td>0.0</td>\n",
       "      <td>0.0</td>\n",
       "      <td>0.018642</td>\n",
       "    </tr>\n",
       "    <tr>\n",
       "      <th>product_id</th>\n",
       "      <td>32951.0</td>\n",
       "      <td>112650.0</td>\n",
       "      <td>0.0</td>\n",
       "      <td>0.0</td>\n",
       "      <td>29.250777</td>\n",
       "    </tr>\n",
       "    <tr>\n",
       "      <th>seller_id</th>\n",
       "      <td>3095.0</td>\n",
       "      <td>112650.0</td>\n",
       "      <td>0.0</td>\n",
       "      <td>0.0</td>\n",
       "      <td>2.747448</td>\n",
       "    </tr>\n",
       "    <tr>\n",
       "      <th>shipping_limit_date</th>\n",
       "      <td>93318.0</td>\n",
       "      <td>112650.0</td>\n",
       "      <td>0.0</td>\n",
       "      <td>0.0</td>\n",
       "      <td>82.838881</td>\n",
       "    </tr>\n",
       "    <tr>\n",
       "      <th>price</th>\n",
       "      <td>5968.0</td>\n",
       "      <td>112650.0</td>\n",
       "      <td>0.0</td>\n",
       "      <td>0.0</td>\n",
       "      <td>5.297825</td>\n",
       "    </tr>\n",
       "    <tr>\n",
       "      <th>freight_value</th>\n",
       "      <td>6999.0</td>\n",
       "      <td>112650.0</td>\n",
       "      <td>0.0</td>\n",
       "      <td>0.0</td>\n",
       "      <td>6.213049</td>\n",
       "    </tr>\n",
       "  </tbody>\n",
       "</table>\n",
       "</div>"
      ],
      "text/plain": [
       "                     unique values  not null values  missing values  \\\n",
       "order_id                   98666.0         112650.0             0.0   \n",
       "order_item_id                 21.0         112650.0             0.0   \n",
       "product_id                 32951.0         112650.0             0.0   \n",
       "seller_id                   3095.0         112650.0             0.0   \n",
       "shipping_limit_date        93318.0         112650.0             0.0   \n",
       "price                       5968.0         112650.0             0.0   \n",
       "freight_value               6999.0         112650.0             0.0   \n",
       "\n",
       "                     percentage  distinct_%  \n",
       "order_id                    0.0   87.586329  \n",
       "order_item_id               0.0    0.018642  \n",
       "product_id                  0.0   29.250777  \n",
       "seller_id                   0.0    2.747448  \n",
       "shipping_limit_date         0.0   82.838881  \n",
       "price                       0.0    5.297825  \n",
       "freight_value               0.0    6.213049  "
      ]
     },
     "execution_count": 15,
     "metadata": {},
     "output_type": "execute_result"
    }
   ],
   "source": [
    "missing = pd.DataFrame( data = [ items.nunique(),items.notnull().sum() , items.isna().sum() , ((items.isna().sum()/ items.count())*100), items.nunique()/items.notnull().sum()*100])\n",
    "missing.index=[ \"unique values\",\"not null values\",\"missing values\", \"percentage\", 'distinct_%']\n",
    "missing.transpose()"
   ]
  },
  {
   "cell_type": "markdown",
   "metadata": {},
   "source": [
    "> no missing values. "
   ]
  },
  {
   "cell_type": "markdown",
   "metadata": {},
   "source": [
    "##### >> order_item_id "
   ]
  },
  {
   "cell_type": "code",
   "execution_count": 16,
   "metadata": {},
   "outputs": [
    {
     "data": {
      "text/plain": [
       "array([ 1,  2,  3,  4,  5,  6,  7,  8,  9, 10, 11, 12, 13, 14, 15, 16, 17,\n",
       "       18, 19, 20, 21], dtype=int64)"
      ]
     },
     "execution_count": 16,
     "metadata": {},
     "output_type": "execute_result"
    }
   ],
   "source": [
    "#check the data is numeric and no irregular values \n",
    "items['order_item_id'].unique()"
   ]
  },
  {
   "cell_type": "markdown",
   "metadata": {},
   "source": [
    "> all good !"
   ]
  },
  {
   "cell_type": "markdown",
   "metadata": {},
   "source": [
    "##### >> price and freight_value"
   ]
  },
  {
   "cell_type": "code",
   "execution_count": 17,
   "metadata": {},
   "outputs": [
    {
     "data": {
      "text/plain": [
       "6735.0"
      ]
     },
     "execution_count": 17,
     "metadata": {},
     "output_type": "execute_result"
    }
   ],
   "source": [
    "#check if all rows have numeric values, if not a error should 'raise' otherwise the max number\n",
    "items['price'].apply(pd.to_numeric, errors='raise').max()"
   ]
  },
  {
   "cell_type": "code",
   "execution_count": 18,
   "metadata": {},
   "outputs": [
    {
     "data": {
      "text/plain": [
       "409.68"
      ]
     },
     "execution_count": 18,
     "metadata": {},
     "output_type": "execute_result"
    }
   ],
   "source": [
    "#Same as price \n",
    "items['freight_value'].apply(pd.to_numeric, errors='raise').max()"
   ]
  },
  {
   "cell_type": "markdown",
   "metadata": {},
   "source": [
    "##### >> shipping_limit_date"
   ]
  },
  {
   "cell_type": "code",
   "execution_count": 19,
   "metadata": {},
   "outputs": [
    {
     "data": {
      "text/plain": [
       "[1, 2, 3, 4, 5, 6, 7, 8, 9, 10, 11, 12]"
      ]
     },
     "execution_count": 19,
     "metadata": {},
     "output_type": "execute_result"
    }
   ],
   "source": [
    "a =items['shipping_limit_date'].dt.month.unique().tolist()\n",
    "a.sort()\n",
    "a"
   ]
  },
  {
   "cell_type": "code",
   "execution_count": 20,
   "metadata": {},
   "outputs": [
    {
     "data": {
      "text/plain": [
       "([2016, 2017, 2018, 2020], 1, 12, 1, 31)"
      ]
     },
     "execution_count": 20,
     "metadata": {},
     "output_type": "execute_result"
    }
   ],
   "source": [
    "#Check dates are ok : get all years in shipping limit date collumn\n",
    "years = items['shipping_limit_date'].dt.year.unique().tolist()\n",
    "years.sort()\n",
    "months = items['shipping_limit_date'].dt.month.unique().tolist()\n",
    "months.sort()\n",
    "days  = items['shipping_limit_date'].dt.day.unique().tolist()\n",
    "days.sort()\n",
    "years, min(months),max(months), min(days),max(days)"
   ]
  },
  {
   "cell_type": "markdown",
   "metadata": {},
   "source": [
    "> all good !"
   ]
  },
  {
   "cell_type": "code",
   "execution_count": 21,
   "metadata": {},
   "outputs": [
    {
     "name": "stdout",
     "output_type": "stream",
     "text": [
      "the Max len on [order_id] is =32\n",
      "the Max len on [product_id] is =32\n",
      "the Max len on [seller_id] is =32\n"
     ]
    }
   ],
   "source": [
    "#Getting to know the lenght of all spaces in \"strings\" columns\n",
    "for x in ['order_id', 'product_id', 'seller_id']:\n",
    "    print(\"the Max len on [\" + x + \"] is =\" + str(len(max(items[items[x].notnull()][x].tolist(), key=len))))"
   ]
  },
  {
   "cell_type": "code",
   "execution_count": 22,
   "metadata": {},
   "outputs": [
    {
     "name": "stdout",
     "output_type": "stream",
     "text": [
      "the Max len on [order_item_id] is = 2\n",
      "the Max len on [price] is = 4\n",
      "the Max len on [freight_value] is = 3\n"
     ]
    }
   ],
   "source": [
    "#Getting to know the lenght of all spaces in \"numeric\" columns\n",
    "for y in ['order_item_id','price','freight_value']:\n",
    "    lista = items[y].to_list()\n",
    "    base = 0\n",
    "    for x in lista:\n",
    "        if x > base:\n",
    "            base = x\n",
    "    print(\"the Max len on [\"+y+\"] is = \" + str(len(str(int(base)))))"
   ]
  },
  {
   "cell_type": "markdown",
   "metadata": {},
   "source": [
    "\n",
    "\n",
    "#### Observations :\n",
    ">1) Order_id has duplicates because of re-order of the same item (found in order_item_id). We need an index for the table; we will mix order_id + order_item_id.\n",
    ">2) No missing values/ nor duplicate rows. \n",
    ">3) Date time shipping_limit_date is well formated in 'shipping_limit_date'\n",
    ">4) Price and freight_value are well formated and no value is missing.\n",
    ">5) We do not need so much precision in shipping_limit_date, thus create a new time_limit in days"
   ]
  },
  {
   "cell_type": "markdown",
   "metadata": {},
   "source": [
    "# FIX - Items File "
   ]
  },
  {
   "cell_type": "code",
   "execution_count": 23,
   "metadata": {},
   "outputs": [
    {
     "data": {
      "text/html": [
       "<div>\n",
       "<style scoped>\n",
       "    .dataframe tbody tr th:only-of-type {\n",
       "        vertical-align: middle;\n",
       "    }\n",
       "\n",
       "    .dataframe tbody tr th {\n",
       "        vertical-align: top;\n",
       "    }\n",
       "\n",
       "    .dataframe thead th {\n",
       "        text-align: right;\n",
       "    }\n",
       "</style>\n",
       "<table border=\"1\" class=\"dataframe\">\n",
       "  <thead>\n",
       "    <tr style=\"text-align: right;\">\n",
       "      <th></th>\n",
       "      <th>order_id</th>\n",
       "      <th>order_item_id</th>\n",
       "      <th>product_id</th>\n",
       "      <th>seller_id</th>\n",
       "      <th>shipping_limit_date</th>\n",
       "      <th>price</th>\n",
       "      <th>freight_value</th>\n",
       "    </tr>\n",
       "  </thead>\n",
       "  <tbody>\n",
       "    <tr>\n",
       "      <th>0</th>\n",
       "      <td>00010242fe8c5a6d1ba2dd792cb16214</td>\n",
       "      <td>1</td>\n",
       "      <td>4244733e06e7ecb4970a6e2683c13e61</td>\n",
       "      <td>48436dade18ac8b2bce089ec2a041202</td>\n",
       "      <td>2017-09-19 09:45:35</td>\n",
       "      <td>58.9</td>\n",
       "      <td>13.29</td>\n",
       "    </tr>\n",
       "    <tr>\n",
       "      <th>1</th>\n",
       "      <td>00018f77f2f0320c557190d7a144bdd3</td>\n",
       "      <td>1</td>\n",
       "      <td>e5f2d52b802189ee658865ca93d83a8f</td>\n",
       "      <td>dd7ddc04e1b6c2c614352b383efe2d36</td>\n",
       "      <td>2017-05-03 11:05:13</td>\n",
       "      <td>239.9</td>\n",
       "      <td>19.93</td>\n",
       "    </tr>\n",
       "  </tbody>\n",
       "</table>\n",
       "</div>"
      ],
      "text/plain": [
       "                           order_id  order_item_id  \\\n",
       "0  00010242fe8c5a6d1ba2dd792cb16214              1   \n",
       "1  00018f77f2f0320c557190d7a144bdd3              1   \n",
       "\n",
       "                         product_id                         seller_id  \\\n",
       "0  4244733e06e7ecb4970a6e2683c13e61  48436dade18ac8b2bce089ec2a041202   \n",
       "1  e5f2d52b802189ee658865ca93d83a8f  dd7ddc04e1b6c2c614352b383efe2d36   \n",
       "\n",
       "  shipping_limit_date  price  freight_value  \n",
       "0 2017-09-19 09:45:35   58.9          13.29  \n",
       "1 2017-05-03 11:05:13  239.9          19.93  "
      ]
     },
     "execution_count": 23,
     "metadata": {},
     "output_type": "execute_result"
    }
   ],
   "source": [
    "items.head(2)"
   ]
  },
  {
   "cell_type": "markdown",
   "metadata": {},
   "source": [
    "####  -- Fixing- pount 1): primary key issue (order_id is not unique) by creating a new id for the table."
   ]
  },
  {
   "cell_type": "code",
   "execution_count": 24,
   "metadata": {},
   "outputs": [
    {
     "data": {
      "text/html": [
       "<div>\n",
       "<style scoped>\n",
       "    .dataframe tbody tr th:only-of-type {\n",
       "        vertical-align: middle;\n",
       "    }\n",
       "\n",
       "    .dataframe tbody tr th {\n",
       "        vertical-align: top;\n",
       "    }\n",
       "\n",
       "    .dataframe thead th {\n",
       "        text-align: right;\n",
       "    }\n",
       "</style>\n",
       "<table border=\"1\" class=\"dataframe\">\n",
       "  <thead>\n",
       "    <tr style=\"text-align: right;\">\n",
       "      <th></th>\n",
       "      <th>id</th>\n",
       "      <th>order_id</th>\n",
       "      <th>order_item_id</th>\n",
       "      <th>product_id</th>\n",
       "      <th>seller_id</th>\n",
       "      <th>shipping_limit_date</th>\n",
       "      <th>price</th>\n",
       "      <th>freight_value</th>\n",
       "    </tr>\n",
       "  </thead>\n",
       "  <tbody>\n",
       "    <tr>\n",
       "      <th>0</th>\n",
       "      <td>00010242fe8c5a6d1ba2dd792cb162141</td>\n",
       "      <td>00010242fe8c5a6d1ba2dd792cb16214</td>\n",
       "      <td>1</td>\n",
       "      <td>4244733e06e7ecb4970a6e2683c13e61</td>\n",
       "      <td>48436dade18ac8b2bce089ec2a041202</td>\n",
       "      <td>2017-09-19 09:45:35</td>\n",
       "      <td>58.9</td>\n",
       "      <td>13.29</td>\n",
       "    </tr>\n",
       "    <tr>\n",
       "      <th>1</th>\n",
       "      <td>00018f77f2f0320c557190d7a144bdd31</td>\n",
       "      <td>00018f77f2f0320c557190d7a144bdd3</td>\n",
       "      <td>1</td>\n",
       "      <td>e5f2d52b802189ee658865ca93d83a8f</td>\n",
       "      <td>dd7ddc04e1b6c2c614352b383efe2d36</td>\n",
       "      <td>2017-05-03 11:05:13</td>\n",
       "      <td>239.9</td>\n",
       "      <td>19.93</td>\n",
       "    </tr>\n",
       "    <tr>\n",
       "      <th>2</th>\n",
       "      <td>000229ec398224ef6ca0657da4fc703e1</td>\n",
       "      <td>000229ec398224ef6ca0657da4fc703e</td>\n",
       "      <td>1</td>\n",
       "      <td>c777355d18b72b67abbeef9df44fd0fd</td>\n",
       "      <td>5b51032eddd242adc84c38acab88f23d</td>\n",
       "      <td>2018-01-18 14:48:30</td>\n",
       "      <td>199.0</td>\n",
       "      <td>17.87</td>\n",
       "    </tr>\n",
       "  </tbody>\n",
       "</table>\n",
       "</div>"
      ],
      "text/plain": [
       "                                  id                          order_id  \\\n",
       "0  00010242fe8c5a6d1ba2dd792cb162141  00010242fe8c5a6d1ba2dd792cb16214   \n",
       "1  00018f77f2f0320c557190d7a144bdd31  00018f77f2f0320c557190d7a144bdd3   \n",
       "2  000229ec398224ef6ca0657da4fc703e1  000229ec398224ef6ca0657da4fc703e   \n",
       "\n",
       "   order_item_id                        product_id  \\\n",
       "0              1  4244733e06e7ecb4970a6e2683c13e61   \n",
       "1              1  e5f2d52b802189ee658865ca93d83a8f   \n",
       "2              1  c777355d18b72b67abbeef9df44fd0fd   \n",
       "\n",
       "                          seller_id shipping_limit_date  price  freight_value  \n",
       "0  48436dade18ac8b2bce089ec2a041202 2017-09-19 09:45:35   58.9          13.29  \n",
       "1  dd7ddc04e1b6c2c614352b383efe2d36 2017-05-03 11:05:13  239.9          19.93  \n",
       "2  5b51032eddd242adc84c38acab88f23d 2018-01-18 14:48:30  199.0          17.87  "
      ]
     },
     "execution_count": 24,
     "metadata": {},
     "output_type": "execute_result"
    }
   ],
   "source": [
    "#creating a new ID col\n",
    "items['id'] = items[['order_id','order_item_id']].apply(lambda row: ''.join(row.values.astype(str)), axis=1)\n",
    "items = items[['id','order_id', 'order_item_id', 'product_id', 'seller_id', 'shipping_limit_date', 'price', 'freight_value']] # re-organizing the columns\n",
    "items.head(3)"
   ]
  },
  {
   "cell_type": "code",
   "execution_count": 25,
   "metadata": {},
   "outputs": [
    {
     "name": "stdout",
     "output_type": "stream",
     "text": [
      "the Max len on [id] is =34\n"
     ]
    }
   ],
   "source": [
    "#Getting to know the lenght of new column 'ID'\n",
    "for x in ['id']:\n",
    "    print(\"the Max len on [\" + x + \"] is =\" + str(len(max(items[items[x].notnull()][x].tolist(), key=len))))"
   ]
  },
  {
   "cell_type": "markdown",
   "metadata": {},
   "source": [
    "####  -- Fixing - point 5): Adding a new time_limit_day (by day)"
   ]
  },
  {
   "cell_type": "code",
   "execution_count": 26,
   "metadata": {},
   "outputs": [
    {
     "data": {
      "text/html": [
       "<div>\n",
       "<style scoped>\n",
       "    .dataframe tbody tr th:only-of-type {\n",
       "        vertical-align: middle;\n",
       "    }\n",
       "\n",
       "    .dataframe tbody tr th {\n",
       "        vertical-align: top;\n",
       "    }\n",
       "\n",
       "    .dataframe thead th {\n",
       "        text-align: right;\n",
       "    }\n",
       "</style>\n",
       "<table border=\"1\" class=\"dataframe\">\n",
       "  <thead>\n",
       "    <tr style=\"text-align: right;\">\n",
       "      <th></th>\n",
       "      <th>id</th>\n",
       "      <th>order_id</th>\n",
       "      <th>order_item_id</th>\n",
       "      <th>product_id</th>\n",
       "      <th>seller_id</th>\n",
       "      <th>shipping_limit_date</th>\n",
       "      <th>price</th>\n",
       "      <th>freight_value</th>\n",
       "      <th>shipping_limit_day</th>\n",
       "    </tr>\n",
       "  </thead>\n",
       "  <tbody>\n",
       "    <tr>\n",
       "      <th>0</th>\n",
       "      <td>00010242fe8c5a6d1ba2dd792cb162141</td>\n",
       "      <td>00010242fe8c5a6d1ba2dd792cb16214</td>\n",
       "      <td>1</td>\n",
       "      <td>4244733e06e7ecb4970a6e2683c13e61</td>\n",
       "      <td>48436dade18ac8b2bce089ec2a041202</td>\n",
       "      <td>2017-09-19 09:45:35</td>\n",
       "      <td>58.9</td>\n",
       "      <td>13.29</td>\n",
       "      <td>2017-09-19</td>\n",
       "    </tr>\n",
       "    <tr>\n",
       "      <th>1</th>\n",
       "      <td>00018f77f2f0320c557190d7a144bdd31</td>\n",
       "      <td>00018f77f2f0320c557190d7a144bdd3</td>\n",
       "      <td>1</td>\n",
       "      <td>e5f2d52b802189ee658865ca93d83a8f</td>\n",
       "      <td>dd7ddc04e1b6c2c614352b383efe2d36</td>\n",
       "      <td>2017-05-03 11:05:13</td>\n",
       "      <td>239.9</td>\n",
       "      <td>19.93</td>\n",
       "      <td>2017-05-03</td>\n",
       "    </tr>\n",
       "    <tr>\n",
       "      <th>2</th>\n",
       "      <td>000229ec398224ef6ca0657da4fc703e1</td>\n",
       "      <td>000229ec398224ef6ca0657da4fc703e</td>\n",
       "      <td>1</td>\n",
       "      <td>c777355d18b72b67abbeef9df44fd0fd</td>\n",
       "      <td>5b51032eddd242adc84c38acab88f23d</td>\n",
       "      <td>2018-01-18 14:48:30</td>\n",
       "      <td>199.0</td>\n",
       "      <td>17.87</td>\n",
       "      <td>2018-01-18</td>\n",
       "    </tr>\n",
       "  </tbody>\n",
       "</table>\n",
       "</div>"
      ],
      "text/plain": [
       "                                  id                          order_id  \\\n",
       "0  00010242fe8c5a6d1ba2dd792cb162141  00010242fe8c5a6d1ba2dd792cb16214   \n",
       "1  00018f77f2f0320c557190d7a144bdd31  00018f77f2f0320c557190d7a144bdd3   \n",
       "2  000229ec398224ef6ca0657da4fc703e1  000229ec398224ef6ca0657da4fc703e   \n",
       "\n",
       "   order_item_id                        product_id  \\\n",
       "0              1  4244733e06e7ecb4970a6e2683c13e61   \n",
       "1              1  e5f2d52b802189ee658865ca93d83a8f   \n",
       "2              1  c777355d18b72b67abbeef9df44fd0fd   \n",
       "\n",
       "                          seller_id shipping_limit_date  price  freight_value  \\\n",
       "0  48436dade18ac8b2bce089ec2a041202 2017-09-19 09:45:35   58.9          13.29   \n",
       "1  dd7ddc04e1b6c2c614352b383efe2d36 2017-05-03 11:05:13  239.9          19.93   \n",
       "2  5b51032eddd242adc84c38acab88f23d 2018-01-18 14:48:30  199.0          17.87   \n",
       "\n",
       "  shipping_limit_day  \n",
       "0         2017-09-19  \n",
       "1         2017-05-03  \n",
       "2         2018-01-18  "
      ]
     },
     "execution_count": 26,
     "metadata": {},
     "output_type": "execute_result"
    }
   ],
   "source": [
    "items['shipping_limit_day'] = items['shipping_limit_date'].astype('datetime64[D]').astype('string')\n",
    "items.head(3)"
   ]
  },
  {
   "cell_type": "code",
   "execution_count": 27,
   "metadata": {},
   "outputs": [
    {
     "name": "stdout",
     "output_type": "stream",
     "text": [
      "the Max len on [shipping_limit_day] is = 10\n"
     ]
    }
   ],
   "source": [
    "#Getting to know the lenght of the new column    \n",
    "print(\"the Max len on [shipping_limit_day] is = \" + str(len(max(items['shipping_limit_day'].astype('string').tolist(), key=len))))"
   ]
  },
  {
   "cell_type": "code",
   "execution_count": 28,
   "metadata": {},
   "outputs": [],
   "source": [
    "#exporting fixed file\n",
    "items = items[['id','order_id', 'order_item_id', 'product_id', 'seller_id', 'shipping_limit_date', 'price', 'freight_value','shipping_limit_day']] # re-organizing the columns\n",
    "items.to_csv(r\"data//fixed//fixed_items.csv\",sep =',',index=False ) # exporting"
   ]
  },
  {
   "cell_type": "markdown",
   "metadata": {},
   "source": [
    "\n",
    "\n",
    "\n",
    "---"
   ]
  },
  {
   "cell_type": "markdown",
   "metadata": {},
   "source": [
    "## c. Orders"
   ]
  },
  {
   "cell_type": "markdown",
   "metadata": {},
   "source": [
    "*For this data set we are only interested in the* **order_id**, **customer_id**, **order_status, order_purchase_timestamp** and **order_estimated_delivery_date** *(since is the most non-missing date).* "
   ]
  },
  {
   "cell_type": "code",
   "execution_count": 29,
   "metadata": {},
   "outputs": [
    {
     "data": {
      "text/html": [
       "<div>\n",
       "<style scoped>\n",
       "    .dataframe tbody tr th:only-of-type {\n",
       "        vertical-align: middle;\n",
       "    }\n",
       "\n",
       "    .dataframe tbody tr th {\n",
       "        vertical-align: top;\n",
       "    }\n",
       "\n",
       "    .dataframe thead th {\n",
       "        text-align: right;\n",
       "    }\n",
       "</style>\n",
       "<table border=\"1\" class=\"dataframe\">\n",
       "  <thead>\n",
       "    <tr style=\"text-align: right;\">\n",
       "      <th></th>\n",
       "      <th>order_id</th>\n",
       "      <th>customer_id</th>\n",
       "      <th>order_status</th>\n",
       "      <th>order_purchase_timestamp</th>\n",
       "      <th>order_approved_at</th>\n",
       "      <th>order_delivered_carrier_date</th>\n",
       "      <th>order_delivered_customer_date</th>\n",
       "      <th>order_estimated_delivery_date</th>\n",
       "    </tr>\n",
       "  </thead>\n",
       "  <tbody>\n",
       "    <tr>\n",
       "      <th>0</th>\n",
       "      <td>e481f51cbdc54678b7cc49136f2d6af7</td>\n",
       "      <td>9ef432eb6251297304e76186b10a928d</td>\n",
       "      <td>delivered</td>\n",
       "      <td>2017-10-02 10:56:33</td>\n",
       "      <td>2017-10-02 11:07:15</td>\n",
       "      <td>2017-10-04 19:55:00</td>\n",
       "      <td>2017-10-10 21:25:13</td>\n",
       "      <td>2017-10-18 00:00:00</td>\n",
       "    </tr>\n",
       "    <tr>\n",
       "      <th>1</th>\n",
       "      <td>53cdb2fc8bc7dce0b6741e2150273451</td>\n",
       "      <td>b0830fb4747a6c6d20dea0b8c802d7ef</td>\n",
       "      <td>delivered</td>\n",
       "      <td>2018-07-24 20:41:37</td>\n",
       "      <td>2018-07-26 03:24:27</td>\n",
       "      <td>2018-07-26 14:31:00</td>\n",
       "      <td>2018-08-07 15:27:45</td>\n",
       "      <td>2018-08-13 00:00:00</td>\n",
       "    </tr>\n",
       "    <tr>\n",
       "      <th>2</th>\n",
       "      <td>47770eb9100c2d0c44946d9cf07ec65d</td>\n",
       "      <td>41ce2a54c0b03bf3443c3d931a367089</td>\n",
       "      <td>delivered</td>\n",
       "      <td>2018-08-08 08:38:49</td>\n",
       "      <td>2018-08-08 08:55:23</td>\n",
       "      <td>2018-08-08 13:50:00</td>\n",
       "      <td>2018-08-17 18:06:29</td>\n",
       "      <td>2018-09-04 00:00:00</td>\n",
       "    </tr>\n",
       "  </tbody>\n",
       "</table>\n",
       "</div>"
      ],
      "text/plain": [
       "                           order_id                       customer_id  \\\n",
       "0  e481f51cbdc54678b7cc49136f2d6af7  9ef432eb6251297304e76186b10a928d   \n",
       "1  53cdb2fc8bc7dce0b6741e2150273451  b0830fb4747a6c6d20dea0b8c802d7ef   \n",
       "2  47770eb9100c2d0c44946d9cf07ec65d  41ce2a54c0b03bf3443c3d931a367089   \n",
       "\n",
       "  order_status order_purchase_timestamp    order_approved_at  \\\n",
       "0    delivered      2017-10-02 10:56:33  2017-10-02 11:07:15   \n",
       "1    delivered      2018-07-24 20:41:37  2018-07-26 03:24:27   \n",
       "2    delivered      2018-08-08 08:38:49  2018-08-08 08:55:23   \n",
       "\n",
       "  order_delivered_carrier_date order_delivered_customer_date  \\\n",
       "0          2017-10-04 19:55:00           2017-10-10 21:25:13   \n",
       "1          2018-07-26 14:31:00           2018-08-07 15:27:45   \n",
       "2          2018-08-08 13:50:00           2018-08-17 18:06:29   \n",
       "\n",
       "  order_estimated_delivery_date  \n",
       "0           2017-10-18 00:00:00  \n",
       "1           2018-08-13 00:00:00  \n",
       "2           2018-09-04 00:00:00  "
      ]
     },
     "execution_count": 29,
     "metadata": {},
     "output_type": "execute_result"
    }
   ],
   "source": [
    "orders.head(3)"
   ]
  },
  {
   "cell_type": "code",
   "execution_count": 30,
   "metadata": {},
   "outputs": [],
   "source": [
    "#we need a function for the next cell,that will avoid na values\n",
    "def valid_str(x):\n",
    "    if pd.notna(x):\n",
    "        return(x[:10])"
   ]
  },
  {
   "cell_type": "code",
   "execution_count": 31,
   "metadata": {},
   "outputs": [
    {
     "data": {
      "text/html": [
       "<div>\n",
       "<style scoped>\n",
       "    .dataframe tbody tr th:only-of-type {\n",
       "        vertical-align: middle;\n",
       "    }\n",
       "\n",
       "    .dataframe tbody tr th {\n",
       "        vertical-align: top;\n",
       "    }\n",
       "\n",
       "    .dataframe thead th {\n",
       "        text-align: right;\n",
       "    }\n",
       "</style>\n",
       "<table border=\"1\" class=\"dataframe\">\n",
       "  <thead>\n",
       "    <tr style=\"text-align: right;\">\n",
       "      <th></th>\n",
       "      <th>order_id</th>\n",
       "      <th>customer_id</th>\n",
       "      <th>order_status</th>\n",
       "      <th>order_purchase_timestamp</th>\n",
       "      <th>order_approved_at</th>\n",
       "      <th>order_delivered_carrier_date</th>\n",
       "      <th>order_delivered_customer_date</th>\n",
       "      <th>order_estimated_delivery_date</th>\n",
       "      <th>order_purchase_timestamp_day</th>\n",
       "      <th>order_approved_at_day</th>\n",
       "      <th>order_delivered_carrier_date_day</th>\n",
       "      <th>order_delivered_customer_date_day</th>\n",
       "      <th>order_estimated_delivery_date_day</th>\n",
       "    </tr>\n",
       "  </thead>\n",
       "  <tbody>\n",
       "    <tr>\n",
       "      <th>0</th>\n",
       "      <td>e481f51cbdc54678b7cc49136f2d6af7</td>\n",
       "      <td>9ef432eb6251297304e76186b10a928d</td>\n",
       "      <td>delivered</td>\n",
       "      <td>2017-10-02 10:56:33</td>\n",
       "      <td>2017-10-02 11:07:15</td>\n",
       "      <td>2017-10-04 19:55:00</td>\n",
       "      <td>2017-10-10 21:25:13</td>\n",
       "      <td>2017-10-18 00:00:00</td>\n",
       "      <td>2017-10-02</td>\n",
       "      <td>2017-10-02</td>\n",
       "      <td>2017-10-04</td>\n",
       "      <td>2017-10-10</td>\n",
       "      <td>2017-10-18</td>\n",
       "    </tr>\n",
       "    <tr>\n",
       "      <th>1</th>\n",
       "      <td>53cdb2fc8bc7dce0b6741e2150273451</td>\n",
       "      <td>b0830fb4747a6c6d20dea0b8c802d7ef</td>\n",
       "      <td>delivered</td>\n",
       "      <td>2018-07-24 20:41:37</td>\n",
       "      <td>2018-07-26 03:24:27</td>\n",
       "      <td>2018-07-26 14:31:00</td>\n",
       "      <td>2018-08-07 15:27:45</td>\n",
       "      <td>2018-08-13 00:00:00</td>\n",
       "      <td>2018-07-24</td>\n",
       "      <td>2018-07-26</td>\n",
       "      <td>2018-07-26</td>\n",
       "      <td>2018-08-07</td>\n",
       "      <td>2018-08-13</td>\n",
       "    </tr>\n",
       "  </tbody>\n",
       "</table>\n",
       "</div>"
      ],
      "text/plain": [
       "                           order_id                       customer_id  \\\n",
       "0  e481f51cbdc54678b7cc49136f2d6af7  9ef432eb6251297304e76186b10a928d   \n",
       "1  53cdb2fc8bc7dce0b6741e2150273451  b0830fb4747a6c6d20dea0b8c802d7ef   \n",
       "\n",
       "  order_status order_purchase_timestamp    order_approved_at  \\\n",
       "0    delivered      2017-10-02 10:56:33  2017-10-02 11:07:15   \n",
       "1    delivered      2018-07-24 20:41:37  2018-07-26 03:24:27   \n",
       "\n",
       "  order_delivered_carrier_date order_delivered_customer_date  \\\n",
       "0          2017-10-04 19:55:00           2017-10-10 21:25:13   \n",
       "1          2018-07-26 14:31:00           2018-08-07 15:27:45   \n",
       "\n",
       "  order_estimated_delivery_date order_purchase_timestamp_day  \\\n",
       "0           2017-10-18 00:00:00                   2017-10-02   \n",
       "1           2018-08-13 00:00:00                   2018-07-24   \n",
       "\n",
       "  order_approved_at_day order_delivered_carrier_date_day  \\\n",
       "0            2017-10-02                       2017-10-04   \n",
       "1            2018-07-26                       2018-07-26   \n",
       "\n",
       "  order_delivered_customer_date_day order_estimated_delivery_date_day  \n",
       "0                        2017-10-10                        2017-10-18  \n",
       "1                        2018-08-07                        2018-08-13  "
      ]
     },
     "execution_count": 31,
     "metadata": {},
     "output_type": "execute_result"
    }
   ],
   "source": [
    "# Format all time columns + add a simpler datetime\n",
    "for x in ['order_purchase_timestamp', 'order_approved_at', 'order_delivered_carrier_date', 'order_delivered_customer_date' , 'order_estimated_delivery_date']:\n",
    "    orders[x] = orders[x].astype('datetime64[s]', errors = 'ignore')\n",
    "    orders[x+'_day'] = orders[x].astype('string', errors ='ignore').apply(lambda x: valid_str(x)).astype('datetime64[D]', errors ='ignore')\n",
    "orders.head(2)"
   ]
  },
  {
   "cell_type": "code",
   "execution_count": 32,
   "metadata": {},
   "outputs": [
    {
     "data": {
      "text/html": [
       "<div>\n",
       "<style scoped>\n",
       "    .dataframe tbody tr th:only-of-type {\n",
       "        vertical-align: middle;\n",
       "    }\n",
       "\n",
       "    .dataframe tbody tr th {\n",
       "        vertical-align: top;\n",
       "    }\n",
       "\n",
       "    .dataframe thead th {\n",
       "        text-align: right;\n",
       "    }\n",
       "</style>\n",
       "<table border=\"1\" class=\"dataframe\">\n",
       "  <thead>\n",
       "    <tr style=\"text-align: right;\">\n",
       "      <th></th>\n",
       "      <th>unique values</th>\n",
       "      <th>not null values</th>\n",
       "      <th>missing values</th>\n",
       "      <th>percentage</th>\n",
       "    </tr>\n",
       "  </thead>\n",
       "  <tbody>\n",
       "    <tr>\n",
       "      <th>order_id</th>\n",
       "      <td>99441.0</td>\n",
       "      <td>99441.0</td>\n",
       "      <td>0.0</td>\n",
       "      <td>0.000000</td>\n",
       "    </tr>\n",
       "    <tr>\n",
       "      <th>customer_id</th>\n",
       "      <td>99441.0</td>\n",
       "      <td>99441.0</td>\n",
       "      <td>0.0</td>\n",
       "      <td>0.000000</td>\n",
       "    </tr>\n",
       "    <tr>\n",
       "      <th>order_status</th>\n",
       "      <td>9.0</td>\n",
       "      <td>99441.0</td>\n",
       "      <td>0.0</td>\n",
       "      <td>0.000000</td>\n",
       "    </tr>\n",
       "    <tr>\n",
       "      <th>order_purchase_timestamp</th>\n",
       "      <td>98876.0</td>\n",
       "      <td>99441.0</td>\n",
       "      <td>0.0</td>\n",
       "      <td>0.000000</td>\n",
       "    </tr>\n",
       "    <tr>\n",
       "      <th>order_approved_at</th>\n",
       "      <td>90734.0</td>\n",
       "      <td>99281.0</td>\n",
       "      <td>160.0</td>\n",
       "      <td>0.161159</td>\n",
       "    </tr>\n",
       "    <tr>\n",
       "      <th>order_delivered_carrier_date</th>\n",
       "      <td>81018.0</td>\n",
       "      <td>97658.0</td>\n",
       "      <td>1783.0</td>\n",
       "      <td>1.825759</td>\n",
       "    </tr>\n",
       "    <tr>\n",
       "      <th>order_delivered_customer_date</th>\n",
       "      <td>95664.0</td>\n",
       "      <td>96476.0</td>\n",
       "      <td>2965.0</td>\n",
       "      <td>3.073303</td>\n",
       "    </tr>\n",
       "    <tr>\n",
       "      <th>order_estimated_delivery_date</th>\n",
       "      <td>461.0</td>\n",
       "      <td>99440.0</td>\n",
       "      <td>1.0</td>\n",
       "      <td>0.001006</td>\n",
       "    </tr>\n",
       "    <tr>\n",
       "      <th>order_purchase_timestamp_day</th>\n",
       "      <td>636.0</td>\n",
       "      <td>99441.0</td>\n",
       "      <td>0.0</td>\n",
       "      <td>0.000000</td>\n",
       "    </tr>\n",
       "    <tr>\n",
       "      <th>order_approved_at_day</th>\n",
       "      <td>613.0</td>\n",
       "      <td>99281.0</td>\n",
       "      <td>160.0</td>\n",
       "      <td>0.161159</td>\n",
       "    </tr>\n",
       "    <tr>\n",
       "      <th>order_delivered_carrier_date_day</th>\n",
       "      <td>549.0</td>\n",
       "      <td>97658.0</td>\n",
       "      <td>1783.0</td>\n",
       "      <td>1.825759</td>\n",
       "    </tr>\n",
       "    <tr>\n",
       "      <th>order_delivered_customer_date_day</th>\n",
       "      <td>647.0</td>\n",
       "      <td>96476.0</td>\n",
       "      <td>2965.0</td>\n",
       "      <td>3.073303</td>\n",
       "    </tr>\n",
       "    <tr>\n",
       "      <th>order_estimated_delivery_date_day</th>\n",
       "      <td>461.0</td>\n",
       "      <td>99440.0</td>\n",
       "      <td>1.0</td>\n",
       "      <td>0.001006</td>\n",
       "    </tr>\n",
       "  </tbody>\n",
       "</table>\n",
       "</div>"
      ],
      "text/plain": [
       "                                   unique values  not null values  \\\n",
       "order_id                                 99441.0          99441.0   \n",
       "customer_id                              99441.0          99441.0   \n",
       "order_status                                 9.0          99441.0   \n",
       "order_purchase_timestamp                 98876.0          99441.0   \n",
       "order_approved_at                        90734.0          99281.0   \n",
       "order_delivered_carrier_date             81018.0          97658.0   \n",
       "order_delivered_customer_date            95664.0          96476.0   \n",
       "order_estimated_delivery_date              461.0          99440.0   \n",
       "order_purchase_timestamp_day               636.0          99441.0   \n",
       "order_approved_at_day                      613.0          99281.0   \n",
       "order_delivered_carrier_date_day           549.0          97658.0   \n",
       "order_delivered_customer_date_day          647.0          96476.0   \n",
       "order_estimated_delivery_date_day          461.0          99440.0   \n",
       "\n",
       "                                   missing values  percentage  \n",
       "order_id                                      0.0    0.000000  \n",
       "customer_id                                   0.0    0.000000  \n",
       "order_status                                  0.0    0.000000  \n",
       "order_purchase_timestamp                      0.0    0.000000  \n",
       "order_approved_at                           160.0    0.161159  \n",
       "order_delivered_carrier_date               1783.0    1.825759  \n",
       "order_delivered_customer_date              2965.0    3.073303  \n",
       "order_estimated_delivery_date                 1.0    0.001006  \n",
       "order_purchase_timestamp_day                  0.0    0.000000  \n",
       "order_approved_at_day                       160.0    0.161159  \n",
       "order_delivered_carrier_date_day           1783.0    1.825759  \n",
       "order_delivered_customer_date_day          2965.0    3.073303  \n",
       "order_estimated_delivery_date_day             1.0    0.001006  "
      ]
     },
     "execution_count": 32,
     "metadata": {},
     "output_type": "execute_result"
    }
   ],
   "source": [
    "#lets check the missing values, repeated values and percentage\n",
    "missing = pd.DataFrame( data = [ orders.nunique(),orders.notnull().sum() , orders.isna().sum() , ((orders.isna().sum()/ orders.count())*100)])\n",
    "missing.index=[ \"unique values\",\"not null values\",\"missing values\", \"percentage\"]\n",
    "missing.transpose()"
   ]
  },
  {
   "cell_type": "markdown",
   "metadata": {},
   "source": [
    "> Order_id, customer_id, order_status, order_purchase_timestamp do not have null values and seem ok.\n",
    "> Lets check if the order_purchase_timestamp is ok*\n"
   ]
  },
  {
   "cell_type": "markdown",
   "metadata": {},
   "source": [
    "##### >> order status "
   ]
  },
  {
   "cell_type": "code",
   "execution_count": 33,
   "metadata": {},
   "outputs": [
    {
     "data": {
      "text/plain": [
       "array(['delivered', 'invoiced', 'shipped', 'processing', 'unavailable',\n",
       "       'canceled', 'created', 'approved', '2018-02-12 11:28:47'],\n",
       "      dtype=object)"
      ]
     },
     "execution_count": 33,
     "metadata": {},
     "output_type": "execute_result"
    }
   ],
   "source": [
    "#Check all different order status \n",
    "orders['order_status'].unique()"
   ]
  },
  {
   "cell_type": "markdown",
   "metadata": {},
   "source": [
    "> There is one label that is not possible ('2018-02-12 11:28:47'), lets check how many rows this wrong label has"
   ]
  },
  {
   "cell_type": "code",
   "execution_count": 34,
   "metadata": {},
   "outputs": [
    {
     "data": {
      "text/html": [
       "<div>\n",
       "<style scoped>\n",
       "    .dataframe tbody tr th:only-of-type {\n",
       "        vertical-align: middle;\n",
       "    }\n",
       "\n",
       "    .dataframe tbody tr th {\n",
       "        vertical-align: top;\n",
       "    }\n",
       "\n",
       "    .dataframe thead th {\n",
       "        text-align: right;\n",
       "    }\n",
       "</style>\n",
       "<table border=\"1\" class=\"dataframe\">\n",
       "  <thead>\n",
       "    <tr style=\"text-align: right;\">\n",
       "      <th></th>\n",
       "      <th>order_id</th>\n",
       "      <th>customer_id</th>\n",
       "      <th>order_status</th>\n",
       "      <th>order_purchase_timestamp</th>\n",
       "      <th>order_approved_at</th>\n",
       "      <th>order_delivered_carrier_date</th>\n",
       "      <th>order_delivered_customer_date</th>\n",
       "      <th>order_estimated_delivery_date</th>\n",
       "      <th>order_purchase_timestamp_day</th>\n",
       "      <th>order_approved_at_day</th>\n",
       "      <th>order_delivered_carrier_date_day</th>\n",
       "      <th>order_delivered_customer_date_day</th>\n",
       "      <th>order_estimated_delivery_date_day</th>\n",
       "    </tr>\n",
       "  </thead>\n",
       "  <tbody>\n",
       "    <tr>\n",
       "      <th>73892</th>\n",
       "      <td>2d3ae8314361346376456addbeb7e5ed</td>\n",
       "      <td>99895a9b5ea7a5e7b2bd960ade35f89a</td>\n",
       "      <td>2018-02-12 11:28:47</td>\n",
       "      <td>2018-02-12 12:28:03</td>\n",
       "      <td>2018-02-14 20:17:57</td>\n",
       "      <td>2018-02-19 12:09:33</td>\n",
       "      <td>2018-03-15 00:00:00</td>\n",
       "      <td>NaN</td>\n",
       "      <td>2018-02-12</td>\n",
       "      <td>2018-02-14</td>\n",
       "      <td>2018-02-19</td>\n",
       "      <td>2018-03-15</td>\n",
       "      <td>None</td>\n",
       "    </tr>\n",
       "  </tbody>\n",
       "</table>\n",
       "</div>"
      ],
      "text/plain": [
       "                               order_id                       customer_id  \\\n",
       "73892  2d3ae8314361346376456addbeb7e5ed  99895a9b5ea7a5e7b2bd960ade35f89a   \n",
       "\n",
       "              order_status order_purchase_timestamp    order_approved_at  \\\n",
       "73892  2018-02-12 11:28:47      2018-02-12 12:28:03  2018-02-14 20:17:57   \n",
       "\n",
       "      order_delivered_carrier_date order_delivered_customer_date  \\\n",
       "73892          2018-02-19 12:09:33           2018-03-15 00:00:00   \n",
       "\n",
       "      order_estimated_delivery_date order_purchase_timestamp_day  \\\n",
       "73892                           NaN                   2018-02-12   \n",
       "\n",
       "      order_approved_at_day order_delivered_carrier_date_day  \\\n",
       "73892            2018-02-14                       2018-02-19   \n",
       "\n",
       "      order_delivered_customer_date_day order_estimated_delivery_date_day  \n",
       "73892                        2018-03-15                              None  "
      ]
     },
     "execution_count": 34,
     "metadata": {},
     "output_type": "execute_result"
    }
   ],
   "source": [
    "#how many wrong status with the value of  ''2018-02-12 11:28:47'' exist? \n",
    "orders[orders['order_status'] == '2018-02-12 11:28:47']"
   ]
  },
  {
   "cell_type": "markdown",
   "metadata": {},
   "source": [
    "> ok just one wrong label that can be fixed, as the cliend received the order *thus delivered*"
   ]
  },
  {
   "cell_type": "markdown",
   "metadata": {},
   "source": [
    "##### >> order purchase timestamp "
   ]
  },
  {
   "cell_type": "code",
   "execution_count": 35,
   "metadata": {},
   "outputs": [
    {
     "data": {
      "text/plain": [
       "['2017', '2018', '0000', '2016', '2077']"
      ]
     },
     "execution_count": 35,
     "metadata": {},
     "output_type": "execute_result"
    }
   ],
   "source": [
    "# check dates are correct at 'order_delivered_carrier_date' \n",
    "orders['order_purchase_timestamp_day'].apply(lambda x: x[:4]).unique().tolist()"
   ]
  },
  {
   "cell_type": "markdown",
   "metadata": {},
   "source": [
    "> 2 years are wrong 0000 and 2077, how many rows have this error?"
   ]
  },
  {
   "cell_type": "code",
   "execution_count": 36,
   "metadata": {},
   "outputs": [
    {
     "data": {
      "text/html": [
       "<div>\n",
       "<style scoped>\n",
       "    .dataframe tbody tr th:only-of-type {\n",
       "        vertical-align: middle;\n",
       "    }\n",
       "\n",
       "    .dataframe tbody tr th {\n",
       "        vertical-align: top;\n",
       "    }\n",
       "\n",
       "    .dataframe thead th {\n",
       "        text-align: right;\n",
       "    }\n",
       "</style>\n",
       "<table border=\"1\" class=\"dataframe\">\n",
       "  <thead>\n",
       "    <tr style=\"text-align: right;\">\n",
       "      <th></th>\n",
       "      <th>order_id</th>\n",
       "      <th>customer_id</th>\n",
       "      <th>order_status</th>\n",
       "      <th>order_purchase_timestamp</th>\n",
       "      <th>order_approved_at</th>\n",
       "      <th>order_delivered_carrier_date</th>\n",
       "      <th>order_delivered_customer_date</th>\n",
       "      <th>order_estimated_delivery_date</th>\n",
       "      <th>order_purchase_timestamp_day</th>\n",
       "      <th>order_approved_at_day</th>\n",
       "      <th>order_delivered_carrier_date_day</th>\n",
       "      <th>order_delivered_customer_date_day</th>\n",
       "      <th>order_estimated_delivery_date_day</th>\n",
       "    </tr>\n",
       "  </thead>\n",
       "  <tbody>\n",
       "    <tr>\n",
       "      <th>130</th>\n",
       "      <td>01855f880aae9a984c7c33b26fcf2e02</td>\n",
       "      <td>2e068340b3037f667ce3224bd59260af</td>\n",
       "      <td>delivered</td>\n",
       "      <td>0000-10-19 15:08:48</td>\n",
       "      <td>0000-10-19 15:35:35</td>\n",
       "      <td>0000-10-23 13:14:16</td>\n",
       "      <td>0000-10-24 15:57:46</td>\n",
       "      <td>0000-10-31 00:00:00</td>\n",
       "      <td>0000-10-19</td>\n",
       "      <td>0000-10-19</td>\n",
       "      <td>0000-10-23</td>\n",
       "      <td>0000-10-24</td>\n",
       "      <td>0000-10-31</td>\n",
       "    </tr>\n",
       "    <tr>\n",
       "      <th>72442</th>\n",
       "      <td>e6a09c11fa9d7a43d90955406cab553c</td>\n",
       "      <td>ef2415ea1854ac041c3700df551dd63e</td>\n",
       "      <td>delivered</td>\n",
       "      <td>2077-08-15 07:55:36</td>\n",
       "      <td>2077-08-15 08:05:24</td>\n",
       "      <td>2077-08-17 15:31:03</td>\n",
       "      <td>2077-08-23 18:10:27</td>\n",
       "      <td>2077-09-04 00:00:00</td>\n",
       "      <td>2077-08-15</td>\n",
       "      <td>2077-08-15</td>\n",
       "      <td>2077-08-17</td>\n",
       "      <td>2077-08-23</td>\n",
       "      <td>2077-09-04</td>\n",
       "    </tr>\n",
       "  </tbody>\n",
       "</table>\n",
       "</div>"
      ],
      "text/plain": [
       "                               order_id                       customer_id  \\\n",
       "130    01855f880aae9a984c7c33b26fcf2e02  2e068340b3037f667ce3224bd59260af   \n",
       "72442  e6a09c11fa9d7a43d90955406cab553c  ef2415ea1854ac041c3700df551dd63e   \n",
       "\n",
       "      order_status order_purchase_timestamp    order_approved_at  \\\n",
       "130      delivered      0000-10-19 15:08:48  0000-10-19 15:35:35   \n",
       "72442    delivered      2077-08-15 07:55:36  2077-08-15 08:05:24   \n",
       "\n",
       "      order_delivered_carrier_date order_delivered_customer_date  \\\n",
       "130            0000-10-23 13:14:16           0000-10-24 15:57:46   \n",
       "72442          2077-08-17 15:31:03           2077-08-23 18:10:27   \n",
       "\n",
       "      order_estimated_delivery_date order_purchase_timestamp_day  \\\n",
       "130             0000-10-31 00:00:00                   0000-10-19   \n",
       "72442           2077-09-04 00:00:00                   2077-08-15   \n",
       "\n",
       "      order_approved_at_day order_delivered_carrier_date_day  \\\n",
       "130              0000-10-19                       0000-10-23   \n",
       "72442            2077-08-15                       2077-08-17   \n",
       "\n",
       "      order_delivered_customer_date_day order_estimated_delivery_date_day  \n",
       "130                          0000-10-24                        0000-10-31  \n",
       "72442                        2077-08-23                        2077-09-04  "
      ]
     },
     "execution_count": 36,
     "metadata": {},
     "output_type": "execute_result"
    }
   ],
   "source": [
    "#how many 'order_purchase_timestamp_year' are wrong? \n",
    "m1 = (orders['order_purchase_timestamp_day'].apply(lambda x: x[:4] == '2077')) | (orders['order_purchase_timestamp_day'].apply(lambda x: x[:4] == 'nan')) | (orders['order_purchase_timestamp_day'].apply(lambda x: x[:4] == '0000'))\n",
    "orders[m1]"
   ]
  },
  {
   "cell_type": "markdown",
   "metadata": {},
   "source": [
    "> There is only 1 row for each mistake, no way to know the year. The minimum accepted date value is 1970 thus we have to change it to it  ¯\\\\_(ツ)_/¯ "
   ]
  },
  {
   "cell_type": "code",
   "execution_count": 37,
   "metadata": {},
   "outputs": [
    {
     "data": {
      "text/plain": [
       "['invoiced',\n",
       " 'shipped',\n",
       " 'processing',\n",
       " 'unavailable',\n",
       " 'canceled',\n",
       " 'delivered',\n",
       " 'created',\n",
       " 'approved']"
      ]
     },
     "execution_count": 37,
     "metadata": {},
     "output_type": "execute_result"
    }
   ],
   "source": [
    "#what are the 'order_status' that a missing value in 'order_delivered_customer_date' have?\n",
    "orders[ orders['order_delivered_customer_date'].isnull()]['order_status'].unique().tolist()"
   ]
  },
  {
   "cell_type": "markdown",
   "metadata": {},
   "source": [
    "> even if the customer has been delivered it can still have the wrong status such as canceled or unavailable   "
   ]
  },
  {
   "cell_type": "code",
   "execution_count": 38,
   "metadata": {},
   "outputs": [
    {
     "data": {
      "text/html": [
       "<div>\n",
       "<style scoped>\n",
       "    .dataframe tbody tr th:only-of-type {\n",
       "        vertical-align: middle;\n",
       "    }\n",
       "\n",
       "    .dataframe tbody tr th {\n",
       "        vertical-align: top;\n",
       "    }\n",
       "\n",
       "    .dataframe thead th {\n",
       "        text-align: right;\n",
       "    }\n",
       "</style>\n",
       "<table border=\"1\" class=\"dataframe\">\n",
       "  <thead>\n",
       "    <tr style=\"text-align: right;\">\n",
       "      <th></th>\n",
       "      <th>order_id</th>\n",
       "      <th>customer_id</th>\n",
       "      <th>order_status</th>\n",
       "      <th>order_purchase_timestamp</th>\n",
       "      <th>order_approved_at</th>\n",
       "      <th>order_delivered_carrier_date</th>\n",
       "      <th>order_delivered_customer_date</th>\n",
       "      <th>order_estimated_delivery_date</th>\n",
       "      <th>order_purchase_timestamp_day</th>\n",
       "      <th>order_approved_at_day</th>\n",
       "      <th>order_delivered_carrier_date_day</th>\n",
       "      <th>order_delivered_customer_date_day</th>\n",
       "      <th>order_estimated_delivery_date_day</th>\n",
       "    </tr>\n",
       "  </thead>\n",
       "  <tbody>\n",
       "    <tr>\n",
       "      <th>3002</th>\n",
       "      <td>2d1e2d5bf4dc7227b3bfebb81328c15f</td>\n",
       "      <td>ec05a6d8558c6455f0cbbd8a420ad34f</td>\n",
       "      <td>delivered</td>\n",
       "      <td>2017-11-28 17:44:07</td>\n",
       "      <td>2017-11-28 17:56:40</td>\n",
       "      <td>2017-11-30 18:12:23</td>\n",
       "      <td>NaN</td>\n",
       "      <td>2017-12-18 00:00:00</td>\n",
       "      <td>2017-11-28</td>\n",
       "      <td>2017-11-28</td>\n",
       "      <td>2017-11-30</td>\n",
       "      <td>None</td>\n",
       "      <td>2017-12-18</td>\n",
       "    </tr>\n",
       "    <tr>\n",
       "      <th>20618</th>\n",
       "      <td>f5dd62b788049ad9fc0526e3ad11a097</td>\n",
       "      <td>5e89028e024b381dc84a13a3570decb4</td>\n",
       "      <td>delivered</td>\n",
       "      <td>2018-06-20 06:58:43</td>\n",
       "      <td>2018-06-20 07:19:05</td>\n",
       "      <td>2018-06-25 08:05:00</td>\n",
       "      <td>NaN</td>\n",
       "      <td>2018-07-16 00:00:00</td>\n",
       "      <td>2018-06-20</td>\n",
       "      <td>2018-06-20</td>\n",
       "      <td>2018-06-25</td>\n",
       "      <td>None</td>\n",
       "      <td>2018-07-16</td>\n",
       "    </tr>\n",
       "    <tr>\n",
       "      <th>43834</th>\n",
       "      <td>2ebdfc4f15f23b91474edf87475f108e</td>\n",
       "      <td>29f0540231702fda0cfdee0a310f11aa</td>\n",
       "      <td>delivered</td>\n",
       "      <td>2018-07-01 17:05:11</td>\n",
       "      <td>2018-07-01 17:15:12</td>\n",
       "      <td>2018-07-03 13:57:00</td>\n",
       "      <td>NaN</td>\n",
       "      <td>2018-07-30 00:00:00</td>\n",
       "      <td>2018-07-01</td>\n",
       "      <td>2018-07-01</td>\n",
       "      <td>2018-07-03</td>\n",
       "      <td>None</td>\n",
       "      <td>2018-07-30</td>\n",
       "    </tr>\n",
       "    <tr>\n",
       "      <th>79263</th>\n",
       "      <td>e69f75a717d64fc5ecdfae42b2e8e086</td>\n",
       "      <td>cfda40ca8dd0a5d486a9635b611b398a</td>\n",
       "      <td>delivered</td>\n",
       "      <td>2018-07-01 22:05:55</td>\n",
       "      <td>2018-07-01 22:15:14</td>\n",
       "      <td>2018-07-03 13:57:00</td>\n",
       "      <td>NaN</td>\n",
       "      <td>2018-07-30 00:00:00</td>\n",
       "      <td>2018-07-01</td>\n",
       "      <td>2018-07-01</td>\n",
       "      <td>2018-07-03</td>\n",
       "      <td>None</td>\n",
       "      <td>2018-07-30</td>\n",
       "    </tr>\n",
       "    <tr>\n",
       "      <th>82868</th>\n",
       "      <td>0d3268bad9b086af767785e3f0fc0133</td>\n",
       "      <td>4f1d63d35fb7c8999853b2699f5c7649</td>\n",
       "      <td>delivered</td>\n",
       "      <td>2018-07-01 21:14:02</td>\n",
       "      <td>2018-07-01 21:29:54</td>\n",
       "      <td>2018-07-03 09:28:00</td>\n",
       "      <td>NaN</td>\n",
       "      <td>2018-07-24 00:00:00</td>\n",
       "      <td>2018-07-01</td>\n",
       "      <td>2018-07-01</td>\n",
       "      <td>2018-07-03</td>\n",
       "      <td>None</td>\n",
       "      <td>2018-07-24</td>\n",
       "    </tr>\n",
       "    <tr>\n",
       "      <th>92643</th>\n",
       "      <td>2d858f451373b04fb5c984a1cc2defaf</td>\n",
       "      <td>e08caf668d499a6d643dafd7c5cc498a</td>\n",
       "      <td>delivered</td>\n",
       "      <td>2017-05-25 23:22:43</td>\n",
       "      <td>2017-05-25 23:30:16</td>\n",
       "      <td>NaN</td>\n",
       "      <td>NaN</td>\n",
       "      <td>2017-06-23 00:00:00</td>\n",
       "      <td>2017-05-25</td>\n",
       "      <td>2017-05-25</td>\n",
       "      <td>None</td>\n",
       "      <td>None</td>\n",
       "      <td>2017-06-23</td>\n",
       "    </tr>\n",
       "    <tr>\n",
       "      <th>97647</th>\n",
       "      <td>ab7c89dc1bf4a1ead9d6ec1ec8968a84</td>\n",
       "      <td>dd1b84a7286eb4524d52af4256c0ba24</td>\n",
       "      <td>delivered</td>\n",
       "      <td>2018-06-08 12:09:39</td>\n",
       "      <td>2018-06-08 12:36:39</td>\n",
       "      <td>2018-06-12 14:10:00</td>\n",
       "      <td>NaN</td>\n",
       "      <td>2018-06-26 00:00:00</td>\n",
       "      <td>2018-06-08</td>\n",
       "      <td>2018-06-08</td>\n",
       "      <td>2018-06-12</td>\n",
       "      <td>None</td>\n",
       "      <td>2018-06-26</td>\n",
       "    </tr>\n",
       "    <tr>\n",
       "      <th>98038</th>\n",
       "      <td>20edc82cf5400ce95e1afacc25798b31</td>\n",
       "      <td>28c37425f1127d887d7337f284080a0f</td>\n",
       "      <td>delivered</td>\n",
       "      <td>2018-06-27 16:09:12</td>\n",
       "      <td>2018-06-27 16:29:30</td>\n",
       "      <td>2018-07-03 19:26:00</td>\n",
       "      <td>NaN</td>\n",
       "      <td>2018-07-19 00:00:00</td>\n",
       "      <td>2018-06-27</td>\n",
       "      <td>2018-06-27</td>\n",
       "      <td>2018-07-03</td>\n",
       "      <td>None</td>\n",
       "      <td>2018-07-19</td>\n",
       "    </tr>\n",
       "  </tbody>\n",
       "</table>\n",
       "</div>"
      ],
      "text/plain": [
       "                               order_id                       customer_id  \\\n",
       "3002   2d1e2d5bf4dc7227b3bfebb81328c15f  ec05a6d8558c6455f0cbbd8a420ad34f   \n",
       "20618  f5dd62b788049ad9fc0526e3ad11a097  5e89028e024b381dc84a13a3570decb4   \n",
       "43834  2ebdfc4f15f23b91474edf87475f108e  29f0540231702fda0cfdee0a310f11aa   \n",
       "79263  e69f75a717d64fc5ecdfae42b2e8e086  cfda40ca8dd0a5d486a9635b611b398a   \n",
       "82868  0d3268bad9b086af767785e3f0fc0133  4f1d63d35fb7c8999853b2699f5c7649   \n",
       "92643  2d858f451373b04fb5c984a1cc2defaf  e08caf668d499a6d643dafd7c5cc498a   \n",
       "97647  ab7c89dc1bf4a1ead9d6ec1ec8968a84  dd1b84a7286eb4524d52af4256c0ba24   \n",
       "98038  20edc82cf5400ce95e1afacc25798b31  28c37425f1127d887d7337f284080a0f   \n",
       "\n",
       "      order_status order_purchase_timestamp    order_approved_at  \\\n",
       "3002     delivered      2017-11-28 17:44:07  2017-11-28 17:56:40   \n",
       "20618    delivered      2018-06-20 06:58:43  2018-06-20 07:19:05   \n",
       "43834    delivered      2018-07-01 17:05:11  2018-07-01 17:15:12   \n",
       "79263    delivered      2018-07-01 22:05:55  2018-07-01 22:15:14   \n",
       "82868    delivered      2018-07-01 21:14:02  2018-07-01 21:29:54   \n",
       "92643    delivered      2017-05-25 23:22:43  2017-05-25 23:30:16   \n",
       "97647    delivered      2018-06-08 12:09:39  2018-06-08 12:36:39   \n",
       "98038    delivered      2018-06-27 16:09:12  2018-06-27 16:29:30   \n",
       "\n",
       "      order_delivered_carrier_date order_delivered_customer_date  \\\n",
       "3002           2017-11-30 18:12:23                           NaN   \n",
       "20618          2018-06-25 08:05:00                           NaN   \n",
       "43834          2018-07-03 13:57:00                           NaN   \n",
       "79263          2018-07-03 13:57:00                           NaN   \n",
       "82868          2018-07-03 09:28:00                           NaN   \n",
       "92643                          NaN                           NaN   \n",
       "97647          2018-06-12 14:10:00                           NaN   \n",
       "98038          2018-07-03 19:26:00                           NaN   \n",
       "\n",
       "      order_estimated_delivery_date order_purchase_timestamp_day  \\\n",
       "3002            2017-12-18 00:00:00                   2017-11-28   \n",
       "20618           2018-07-16 00:00:00                   2018-06-20   \n",
       "43834           2018-07-30 00:00:00                   2018-07-01   \n",
       "79263           2018-07-30 00:00:00                   2018-07-01   \n",
       "82868           2018-07-24 00:00:00                   2018-07-01   \n",
       "92643           2017-06-23 00:00:00                   2017-05-25   \n",
       "97647           2018-06-26 00:00:00                   2018-06-08   \n",
       "98038           2018-07-19 00:00:00                   2018-06-27   \n",
       "\n",
       "      order_approved_at_day order_delivered_carrier_date_day  \\\n",
       "3002             2017-11-28                       2017-11-30   \n",
       "20618            2018-06-20                       2018-06-25   \n",
       "43834            2018-07-01                       2018-07-03   \n",
       "79263            2018-07-01                       2018-07-03   \n",
       "82868            2018-07-01                       2018-07-03   \n",
       "92643            2017-05-25                             None   \n",
       "97647            2018-06-08                       2018-06-12   \n",
       "98038            2018-06-27                       2018-07-03   \n",
       "\n",
       "      order_delivered_customer_date_day order_estimated_delivery_date_day  \n",
       "3002                               None                        2017-12-18  \n",
       "20618                              None                        2018-07-16  \n",
       "43834                              None                        2018-07-30  \n",
       "79263                              None                        2018-07-30  \n",
       "82868                              None                        2018-07-24  \n",
       "92643                              None                        2017-06-23  \n",
       "97647                              None                        2018-06-26  \n",
       "98038                              None                        2018-07-19  "
      ]
     },
     "execution_count": 38,
     "metadata": {},
     "output_type": "execute_result"
    }
   ],
   "source": [
    "#Are there many orders that have been 'delivered' AND do not have a 'order_delivered_customer_date' (YES)\n",
    "orders[(orders['order_status'] == 'delivered') & (orders['order_delivered_customer_date'].isnull())]"
   ]
  },
  {
   "cell_type": "markdown",
   "metadata": {},
   "source": [
    "> The column with less missing values is 'order_estimated_delivery_date' with only 1 missing row. Thus lets analyze it and use it "
   ]
  },
  {
   "cell_type": "markdown",
   "metadata": {},
   "source": [
    "##### >> order_estimated_delivery_date"
   ]
  },
  {
   "cell_type": "code",
   "execution_count": 39,
   "metadata": {},
   "outputs": [
    {
     "data": {
      "text/html": [
       "<div>\n",
       "<style scoped>\n",
       "    .dataframe tbody tr th:only-of-type {\n",
       "        vertical-align: middle;\n",
       "    }\n",
       "\n",
       "    .dataframe tbody tr th {\n",
       "        vertical-align: top;\n",
       "    }\n",
       "\n",
       "    .dataframe thead th {\n",
       "        text-align: right;\n",
       "    }\n",
       "</style>\n",
       "<table border=\"1\" class=\"dataframe\">\n",
       "  <thead>\n",
       "    <tr style=\"text-align: right;\">\n",
       "      <th></th>\n",
       "      <th>order_id</th>\n",
       "      <th>customer_id</th>\n",
       "      <th>order_status</th>\n",
       "      <th>order_purchase_timestamp</th>\n",
       "      <th>order_approved_at</th>\n",
       "      <th>order_delivered_carrier_date</th>\n",
       "      <th>order_delivered_customer_date</th>\n",
       "      <th>order_estimated_delivery_date</th>\n",
       "      <th>order_purchase_timestamp_day</th>\n",
       "      <th>order_approved_at_day</th>\n",
       "      <th>order_delivered_carrier_date_day</th>\n",
       "      <th>order_delivered_customer_date_day</th>\n",
       "      <th>order_estimated_delivery_date_day</th>\n",
       "    </tr>\n",
       "  </thead>\n",
       "  <tbody>\n",
       "    <tr>\n",
       "      <th>73892</th>\n",
       "      <td>2d3ae8314361346376456addbeb7e5ed</td>\n",
       "      <td>99895a9b5ea7a5e7b2bd960ade35f89a</td>\n",
       "      <td>2018-02-12 11:28:47</td>\n",
       "      <td>2018-02-12 12:28:03</td>\n",
       "      <td>2018-02-14 20:17:57</td>\n",
       "      <td>2018-02-19 12:09:33</td>\n",
       "      <td>2018-03-15 00:00:00</td>\n",
       "      <td>NaN</td>\n",
       "      <td>2018-02-12</td>\n",
       "      <td>2018-02-14</td>\n",
       "      <td>2018-02-19</td>\n",
       "      <td>2018-03-15</td>\n",
       "      <td>None</td>\n",
       "    </tr>\n",
       "  </tbody>\n",
       "</table>\n",
       "</div>"
      ],
      "text/plain": [
       "                               order_id                       customer_id  \\\n",
       "73892  2d3ae8314361346376456addbeb7e5ed  99895a9b5ea7a5e7b2bd960ade35f89a   \n",
       "\n",
       "              order_status order_purchase_timestamp    order_approved_at  \\\n",
       "73892  2018-02-12 11:28:47      2018-02-12 12:28:03  2018-02-14 20:17:57   \n",
       "\n",
       "      order_delivered_carrier_date order_delivered_customer_date  \\\n",
       "73892          2018-02-19 12:09:33           2018-03-15 00:00:00   \n",
       "\n",
       "      order_estimated_delivery_date order_purchase_timestamp_day  \\\n",
       "73892                           NaN                   2018-02-12   \n",
       "\n",
       "      order_approved_at_day order_delivered_carrier_date_day  \\\n",
       "73892            2018-02-14                       2018-02-19   \n",
       "\n",
       "      order_delivered_customer_date_day order_estimated_delivery_date_day  \n",
       "73892                        2018-03-15                              None  "
      ]
     },
     "execution_count": 39,
     "metadata": {},
     "output_type": "execute_result"
    }
   ],
   "source": [
    "# Check the missing row on 'order_estimated_delivery_date'\n",
    "orders[orders['order_estimated_delivery_date'].isnull()] "
   ]
  },
  {
   "cell_type": "markdown",
   "metadata": {},
   "source": [
    "> The value is missing but we can  delivered to customer."
   ]
  },
  {
   "cell_type": "code",
   "execution_count": 40,
   "metadata": {},
   "outputs": [
    {
     "data": {
      "text/plain": [
       "['2017', '2018', '0000', '2016', '2077']"
      ]
     },
     "execution_count": 40,
     "metadata": {},
     "output_type": "execute_result"
    }
   ],
   "source": [
    "#how many 'order_purchase_timestamp_year' are wrong? \n",
    "# check dates are correct at 'order_delivered_carrier_date' \n",
    "orders[~orders['order_estimated_delivery_date_day'].isnull()]['order_estimated_delivery_date_day'].apply(lambda x: x[:4]).unique().tolist()\n"
   ]
  },
  {
   "cell_type": "code",
   "execution_count": 41,
   "metadata": {},
   "outputs": [
    {
     "data": {
      "text/html": [
       "<div>\n",
       "<style scoped>\n",
       "    .dataframe tbody tr th:only-of-type {\n",
       "        vertical-align: middle;\n",
       "    }\n",
       "\n",
       "    .dataframe tbody tr th {\n",
       "        vertical-align: top;\n",
       "    }\n",
       "\n",
       "    .dataframe thead th {\n",
       "        text-align: right;\n",
       "    }\n",
       "</style>\n",
       "<table border=\"1\" class=\"dataframe\">\n",
       "  <thead>\n",
       "    <tr style=\"text-align: right;\">\n",
       "      <th></th>\n",
       "      <th>order_id</th>\n",
       "      <th>customer_id</th>\n",
       "      <th>order_status</th>\n",
       "      <th>order_purchase_timestamp</th>\n",
       "      <th>order_approved_at</th>\n",
       "      <th>order_delivered_carrier_date</th>\n",
       "      <th>order_delivered_customer_date</th>\n",
       "      <th>order_estimated_delivery_date</th>\n",
       "      <th>order_purchase_timestamp_day</th>\n",
       "      <th>order_approved_at_day</th>\n",
       "      <th>order_delivered_carrier_date_day</th>\n",
       "      <th>order_delivered_customer_date_day</th>\n",
       "      <th>order_estimated_delivery_date_day</th>\n",
       "    </tr>\n",
       "  </thead>\n",
       "  <tbody>\n",
       "    <tr>\n",
       "      <th>0</th>\n",
       "      <td>e481f51cbdc54678b7cc49136f2d6af7</td>\n",
       "      <td>9ef432eb6251297304e76186b10a928d</td>\n",
       "      <td>delivered</td>\n",
       "      <td>2017-10-02 10:56:33</td>\n",
       "      <td>2017-10-02 11:07:15</td>\n",
       "      <td>2017-10-04 19:55:00</td>\n",
       "      <td>2017-10-10 21:25:13</td>\n",
       "      <td>2017-10-18 00:00:00</td>\n",
       "      <td>2017-10-02</td>\n",
       "      <td>2017-10-02</td>\n",
       "      <td>2017-10-04</td>\n",
       "      <td>2017-10-10</td>\n",
       "      <td>2017-10-18</td>\n",
       "    </tr>\n",
       "    <tr>\n",
       "      <th>1</th>\n",
       "      <td>53cdb2fc8bc7dce0b6741e2150273451</td>\n",
       "      <td>b0830fb4747a6c6d20dea0b8c802d7ef</td>\n",
       "      <td>delivered</td>\n",
       "      <td>2018-07-24 20:41:37</td>\n",
       "      <td>2018-07-26 03:24:27</td>\n",
       "      <td>2018-07-26 14:31:00</td>\n",
       "      <td>2018-08-07 15:27:45</td>\n",
       "      <td>2018-08-13 00:00:00</td>\n",
       "      <td>2018-07-24</td>\n",
       "      <td>2018-07-26</td>\n",
       "      <td>2018-07-26</td>\n",
       "      <td>2018-08-07</td>\n",
       "      <td>2018-08-13</td>\n",
       "    </tr>\n",
       "    <tr>\n",
       "      <th>2</th>\n",
       "      <td>47770eb9100c2d0c44946d9cf07ec65d</td>\n",
       "      <td>41ce2a54c0b03bf3443c3d931a367089</td>\n",
       "      <td>delivered</td>\n",
       "      <td>2018-08-08 08:38:49</td>\n",
       "      <td>2018-08-08 08:55:23</td>\n",
       "      <td>2018-08-08 13:50:00</td>\n",
       "      <td>2018-08-17 18:06:29</td>\n",
       "      <td>2018-09-04 00:00:00</td>\n",
       "      <td>2018-08-08</td>\n",
       "      <td>2018-08-08</td>\n",
       "      <td>2018-08-08</td>\n",
       "      <td>2018-08-17</td>\n",
       "      <td>2018-09-04</td>\n",
       "    </tr>\n",
       "    <tr>\n",
       "      <th>3</th>\n",
       "      <td>949d5b44dbf5de918fe9c16f97b45f8a</td>\n",
       "      <td>f88197465ea7920adcdbec7375364d82</td>\n",
       "      <td>delivered</td>\n",
       "      <td>2017-11-18 19:28:06</td>\n",
       "      <td>2017-11-18 19:45:59</td>\n",
       "      <td>2017-11-22 13:39:59</td>\n",
       "      <td>2017-12-02 00:28:42</td>\n",
       "      <td>2017-12-15 00:00:00</td>\n",
       "      <td>2017-11-18</td>\n",
       "      <td>2017-11-18</td>\n",
       "      <td>2017-11-22</td>\n",
       "      <td>2017-12-02</td>\n",
       "      <td>2017-12-15</td>\n",
       "    </tr>\n",
       "  </tbody>\n",
       "</table>\n",
       "</div>"
      ],
      "text/plain": [
       "                           order_id                       customer_id  \\\n",
       "0  e481f51cbdc54678b7cc49136f2d6af7  9ef432eb6251297304e76186b10a928d   \n",
       "1  53cdb2fc8bc7dce0b6741e2150273451  b0830fb4747a6c6d20dea0b8c802d7ef   \n",
       "2  47770eb9100c2d0c44946d9cf07ec65d  41ce2a54c0b03bf3443c3d931a367089   \n",
       "3  949d5b44dbf5de918fe9c16f97b45f8a  f88197465ea7920adcdbec7375364d82   \n",
       "\n",
       "  order_status order_purchase_timestamp    order_approved_at  \\\n",
       "0    delivered      2017-10-02 10:56:33  2017-10-02 11:07:15   \n",
       "1    delivered      2018-07-24 20:41:37  2018-07-26 03:24:27   \n",
       "2    delivered      2018-08-08 08:38:49  2018-08-08 08:55:23   \n",
       "3    delivered      2017-11-18 19:28:06  2017-11-18 19:45:59   \n",
       "\n",
       "  order_delivered_carrier_date order_delivered_customer_date  \\\n",
       "0          2017-10-04 19:55:00           2017-10-10 21:25:13   \n",
       "1          2018-07-26 14:31:00           2018-08-07 15:27:45   \n",
       "2          2018-08-08 13:50:00           2018-08-17 18:06:29   \n",
       "3          2017-11-22 13:39:59           2017-12-02 00:28:42   \n",
       "\n",
       "  order_estimated_delivery_date order_purchase_timestamp_day  \\\n",
       "0           2017-10-18 00:00:00                   2017-10-02   \n",
       "1           2018-08-13 00:00:00                   2018-07-24   \n",
       "2           2018-09-04 00:00:00                   2018-08-08   \n",
       "3           2017-12-15 00:00:00                   2017-11-18   \n",
       "\n",
       "  order_approved_at_day order_delivered_carrier_date_day  \\\n",
       "0            2017-10-02                       2017-10-04   \n",
       "1            2018-07-26                       2018-07-26   \n",
       "2            2018-08-08                       2018-08-08   \n",
       "3            2017-11-18                       2017-11-22   \n",
       "\n",
       "  order_delivered_customer_date_day order_estimated_delivery_date_day  \n",
       "0                        2017-10-10                        2017-10-18  \n",
       "1                        2018-08-07                        2018-08-13  \n",
       "2                        2018-08-17                        2018-09-04  \n",
       "3                        2017-12-02                        2017-12-15  "
      ]
     },
     "execution_count": 41,
     "metadata": {},
     "output_type": "execute_result"
    }
   ],
   "source": [
    "orders[~orders['order_estimated_delivery_date_day'].isnull()].apply(lambda x: x[:4])"
   ]
  },
  {
   "cell_type": "code",
   "execution_count": 67,
   "metadata": {},
   "outputs": [
    {
     "data": {
      "text/plain": [
       "99441"
      ]
     },
     "execution_count": 67,
     "metadata": {},
     "output_type": "execute_result"
    }
   ],
   "source": [
    "orders['customer_id'].nunique()"
   ]
  },
  {
   "cell_type": "code",
   "execution_count": 42,
   "metadata": {},
   "outputs": [
    {
     "data": {
      "text/html": [
       "<div>\n",
       "<style scoped>\n",
       "    .dataframe tbody tr th:only-of-type {\n",
       "        vertical-align: middle;\n",
       "    }\n",
       "\n",
       "    .dataframe tbody tr th {\n",
       "        vertical-align: top;\n",
       "    }\n",
       "\n",
       "    .dataframe thead th {\n",
       "        text-align: right;\n",
       "    }\n",
       "</style>\n",
       "<table border=\"1\" class=\"dataframe\">\n",
       "  <thead>\n",
       "    <tr style=\"text-align: right;\">\n",
       "      <th></th>\n",
       "      <th>order_id</th>\n",
       "      <th>customer_id</th>\n",
       "      <th>order_status</th>\n",
       "      <th>order_purchase_timestamp</th>\n",
       "      <th>order_approved_at</th>\n",
       "      <th>order_delivered_carrier_date</th>\n",
       "      <th>order_delivered_customer_date</th>\n",
       "      <th>order_estimated_delivery_date</th>\n",
       "      <th>order_purchase_timestamp_day</th>\n",
       "      <th>order_approved_at_day</th>\n",
       "      <th>order_delivered_carrier_date_day</th>\n",
       "      <th>order_delivered_customer_date_day</th>\n",
       "      <th>order_estimated_delivery_date_day</th>\n",
       "    </tr>\n",
       "  </thead>\n",
       "  <tbody>\n",
       "    <tr>\n",
       "      <th>130</th>\n",
       "      <td>01855f880aae9a984c7c33b26fcf2e02</td>\n",
       "      <td>2e068340b3037f667ce3224bd59260af</td>\n",
       "      <td>delivered</td>\n",
       "      <td>0000-10-19 15:08:48</td>\n",
       "      <td>0000-10-19 15:35:35</td>\n",
       "      <td>0000-10-23 13:14:16</td>\n",
       "      <td>0000-10-24 15:57:46</td>\n",
       "      <td>0000-10-31 00:00:00</td>\n",
       "      <td>0000-10-19</td>\n",
       "      <td>0000-10-19</td>\n",
       "      <td>0000-10-23</td>\n",
       "      <td>0000-10-24</td>\n",
       "      <td>0000-10-31</td>\n",
       "    </tr>\n",
       "    <tr>\n",
       "      <th>72442</th>\n",
       "      <td>e6a09c11fa9d7a43d90955406cab553c</td>\n",
       "      <td>ef2415ea1854ac041c3700df551dd63e</td>\n",
       "      <td>delivered</td>\n",
       "      <td>2077-08-15 07:55:36</td>\n",
       "      <td>2077-08-15 08:05:24</td>\n",
       "      <td>2077-08-17 15:31:03</td>\n",
       "      <td>2077-08-23 18:10:27</td>\n",
       "      <td>2077-09-04 00:00:00</td>\n",
       "      <td>2077-08-15</td>\n",
       "      <td>2077-08-15</td>\n",
       "      <td>2077-08-17</td>\n",
       "      <td>2077-08-23</td>\n",
       "      <td>2077-09-04</td>\n",
       "    </tr>\n",
       "  </tbody>\n",
       "</table>\n",
       "</div>"
      ],
      "text/plain": [
       "                               order_id                       customer_id  \\\n",
       "130    01855f880aae9a984c7c33b26fcf2e02  2e068340b3037f667ce3224bd59260af   \n",
       "72442  e6a09c11fa9d7a43d90955406cab553c  ef2415ea1854ac041c3700df551dd63e   \n",
       "\n",
       "      order_status order_purchase_timestamp    order_approved_at  \\\n",
       "130      delivered      0000-10-19 15:08:48  0000-10-19 15:35:35   \n",
       "72442    delivered      2077-08-15 07:55:36  2077-08-15 08:05:24   \n",
       "\n",
       "      order_delivered_carrier_date order_delivered_customer_date  \\\n",
       "130            0000-10-23 13:14:16           0000-10-24 15:57:46   \n",
       "72442          2077-08-17 15:31:03           2077-08-23 18:10:27   \n",
       "\n",
       "      order_estimated_delivery_date order_purchase_timestamp_day  \\\n",
       "130             0000-10-31 00:00:00                   0000-10-19   \n",
       "72442           2077-09-04 00:00:00                   2077-08-15   \n",
       "\n",
       "      order_approved_at_day order_delivered_carrier_date_day  \\\n",
       "130              0000-10-19                       0000-10-23   \n",
       "72442            2077-08-15                       2077-08-17   \n",
       "\n",
       "      order_delivered_customer_date_day order_estimated_delivery_date_day  \n",
       "130                          0000-10-24                        0000-10-31  \n",
       "72442                        2077-08-23                        2077-09-04  "
      ]
     },
     "execution_count": 42,
     "metadata": {},
     "output_type": "execute_result"
    }
   ],
   "source": [
    "#how many 'order_purchase_timestamp_year' are wrong? \n",
    "m1 = (~orders['order_estimated_delivery_date_day'].isnull())\n",
    "a = orders[m1]\n",
    "a[a['order_estimated_delivery_date_day'].apply(lambda x: x[:4] == '2077') | a['order_estimated_delivery_date_day'].apply(lambda x: x[:4] == '0000')  ]"
   ]
  },
  {
   "cell_type": "markdown",
   "metadata": {},
   "source": [
    "> these are the same rows as before"
   ]
  },
  {
   "cell_type": "markdown",
   "metadata": {},
   "source": [
    "\n",
    "#### Observations :\n",
    ">1) There are several missing values, however the main cols 'order_id', 'customer_id', 'order_purchase_timestamp' and 'order_estimated_delivery_date'  have no missing values.\n",
    ">2) Typo:  row = 73892 wrong order_status and missing estimated_delivery_date. Need to be changed to 'delivered' and copy the same time as delivered to customer\n",
    ">3) Typo:  row = 72442 has the wrong year, it cant be delivered already in year 2077.\n",
    ">4) Typo:  row = 130 the year is missing in all colls, must change to 1970\n",
    ">5) Useful cols = oder_id, customer_id, order_status, \n",
    "\n",
    "For this mission we will still use the other time columns but in a real usage we should first go deeper on why the status/times are not working properly.\n"
   ]
  },
  {
   "cell_type": "markdown",
   "metadata": {},
   "source": [
    "# FIX - Orders File "
   ]
  },
  {
   "cell_type": "markdown",
   "metadata": {},
   "source": [
    "####  -- Fixing- point 2) Typo in row 73892"
   ]
  },
  {
   "cell_type": "code",
   "execution_count": 43,
   "metadata": {},
   "outputs": [
    {
     "data": {
      "text/plain": [
       "order_id                             2d3ae8314361346376456addbeb7e5ed\n",
       "customer_id                          99895a9b5ea7a5e7b2bd960ade35f89a\n",
       "order_status                                      2018-02-12 11:28:47\n",
       "order_purchase_timestamp                          2018-02-12 12:28:03\n",
       "order_approved_at                                 2018-02-14 20:17:57\n",
       "order_delivered_carrier_date                      2018-02-19 12:09:33\n",
       "order_delivered_customer_date                     2018-03-15 00:00:00\n",
       "order_estimated_delivery_date                                     NaN\n",
       "order_purchase_timestamp_day                               2018-02-12\n",
       "order_approved_at_day                                      2018-02-14\n",
       "order_delivered_carrier_date_day                           2018-02-19\n",
       "order_delivered_customer_date_day                          2018-03-15\n",
       "order_estimated_delivery_date_day                                None\n",
       "Name: 73892, dtype: object"
      ]
     },
     "execution_count": 43,
     "metadata": {},
     "output_type": "execute_result"
    }
   ],
   "source": [
    "orders.iloc[73892]"
   ]
  },
  {
   "cell_type": "code",
   "execution_count": 44,
   "metadata": {},
   "outputs": [
    {
     "data": {
      "text/plain": [
       "order_id                             2d3ae8314361346376456addbeb7e5ed\n",
       "customer_id                          99895a9b5ea7a5e7b2bd960ade35f89a\n",
       "order_status                                                delivered\n",
       "order_purchase_timestamp                          2018-02-12 12:28:03\n",
       "order_approved_at                                 2018-02-14 20:17:57\n",
       "order_delivered_carrier_date                      2018-02-19 12:09:33\n",
       "order_delivered_customer_date                     2018-03-15 00:00:00\n",
       "order_estimated_delivery_date                                     NaN\n",
       "order_purchase_timestamp_day                               2018-02-12\n",
       "order_approved_at_day                                      2018-02-14\n",
       "order_delivered_carrier_date_day                           2018-02-19\n",
       "order_delivered_customer_date_day                          2018-03-15\n",
       "order_estimated_delivery_date_day                 2018-03-15 00:00:00\n",
       "Name: 73892, dtype: object"
      ]
     },
     "execution_count": 44,
     "metadata": {},
     "output_type": "execute_result"
    }
   ],
   "source": [
    "orders['order_status'].iloc[73892] = 'delivered'\n",
    "orders['order_estimated_delivery_date_day'] = orders['order_delivered_customer_date'].iloc[73892]\n",
    "orders.iloc[73892]\n",
    "\n"
   ]
  },
  {
   "cell_type": "markdown",
   "metadata": {},
   "source": [
    "####  -- Fixing- point 5) missing year on row 130"
   ]
  },
  {
   "cell_type": "code",
   "execution_count": 45,
   "metadata": {},
   "outputs": [
    {
     "data": {
      "text/plain": [
       "order_id                             01855f880aae9a984c7c33b26fcf2e02\n",
       "customer_id                          2e068340b3037f667ce3224bd59260af\n",
       "order_status                                                delivered\n",
       "order_purchase_timestamp                          0000-10-19 15:08:48\n",
       "order_approved_at                                 0000-10-19 15:35:35\n",
       "order_delivered_carrier_date                      0000-10-23 13:14:16\n",
       "order_delivered_customer_date                     0000-10-24 15:57:46\n",
       "order_estimated_delivery_date                     0000-10-31 00:00:00\n",
       "order_purchase_timestamp_day                               0000-10-19\n",
       "order_approved_at_day                                      0000-10-19\n",
       "order_delivered_carrier_date_day                           0000-10-23\n",
       "order_delivered_customer_date_day                          0000-10-24\n",
       "order_estimated_delivery_date_day                 2018-03-15 00:00:00\n",
       "Name: 130, dtype: object"
      ]
     },
     "execution_count": 45,
     "metadata": {},
     "output_type": "execute_result"
    }
   ],
   "source": [
    "orders.iloc[130]"
   ]
  },
  {
   "cell_type": "code",
   "execution_count": 46,
   "metadata": {},
   "outputs": [],
   "source": [
    "lista = ['order_purchase_timestamp', 'order_approved_at', 'order_delivered_carrier_date', 'order_delivered_customer_date', 'order_estimated_delivery_date', 'order_purchase_timestamp_day', 'order_approved_at_day', 'order_delivered_carrier_date_day', 'order_delivered_customer_date_day']"
   ]
  },
  {
   "cell_type": "code",
   "execution_count": 47,
   "metadata": {},
   "outputs": [
    {
     "data": {
      "text/plain": [
       "order_id                             01855f880aae9a984c7c33b26fcf2e02\n",
       "customer_id                          2e068340b3037f667ce3224bd59260af\n",
       "order_status                                                delivered\n",
       "order_purchase_timestamp                          1970-10-19 15:08:48\n",
       "order_approved_at                                 1970-10-19 15:35:35\n",
       "order_delivered_carrier_date                      1970-10-23 13:14:16\n",
       "order_delivered_customer_date                     1970-10-24 15:57:46\n",
       "order_estimated_delivery_date                     1970-10-31 00:00:00\n",
       "order_purchase_timestamp_day                               1970-10-19\n",
       "order_approved_at_day                                      1970-10-19\n",
       "order_delivered_carrier_date_day                           1970-10-23\n",
       "order_delivered_customer_date_day                          1970-10-24\n",
       "order_estimated_delivery_date_day                 2018-03-15 00:00:00\n",
       "Name: 130, dtype: object"
      ]
     },
     "execution_count": 47,
     "metadata": {},
     "output_type": "execute_result"
    }
   ],
   "source": [
    "for x in lista:\n",
    "    orders[x].iloc[130] = '1970'+orders[x].iloc[130][4:]\n",
    "orders.iloc[130]"
   ]
  },
  {
   "cell_type": "code",
   "execution_count": 48,
   "metadata": {},
   "outputs": [],
   "source": [
    "#exporting fixed file\n",
    "orders.to_csv(r\"data//fixed//fixed_orders.csv\",sep =',',index=False ) # exporting"
   ]
  },
  {
   "cell_type": "markdown",
   "metadata": {},
   "source": [
    "\n",
    "---"
   ]
  },
  {
   "cell_type": "markdown",
   "metadata": {},
   "source": [
    "## d. Products"
   ]
  },
  {
   "cell_type": "markdown",
   "metadata": {},
   "source": [
    "*For this data set we are only interested in the* **product_id** * and **product_weight_g**  "
   ]
  },
  {
   "cell_type": "code",
   "execution_count": 49,
   "metadata": {},
   "outputs": [
    {
     "data": {
      "text/html": [
       "<div>\n",
       "<style scoped>\n",
       "    .dataframe tbody tr th:only-of-type {\n",
       "        vertical-align: middle;\n",
       "    }\n",
       "\n",
       "    .dataframe tbody tr th {\n",
       "        vertical-align: top;\n",
       "    }\n",
       "\n",
       "    .dataframe thead th {\n",
       "        text-align: right;\n",
       "    }\n",
       "</style>\n",
       "<table border=\"1\" class=\"dataframe\">\n",
       "  <thead>\n",
       "    <tr style=\"text-align: right;\">\n",
       "      <th></th>\n",
       "      <th>product_id</th>\n",
       "      <th>product_category_name</th>\n",
       "      <th>product_name_lenght</th>\n",
       "      <th>product_description_lenght</th>\n",
       "      <th>product_photos_qty</th>\n",
       "      <th>product_weight_g</th>\n",
       "      <th>product_length_cm</th>\n",
       "      <th>product_height_cm</th>\n",
       "      <th>product_width_cm</th>\n",
       "      <th>product_category_name_english</th>\n",
       "    </tr>\n",
       "  </thead>\n",
       "  <tbody>\n",
       "    <tr>\n",
       "      <th>0</th>\n",
       "      <td>1e9e8ef04dbcff4541ed26657ea517e5</td>\n",
       "      <td>perfumery</td>\n",
       "      <td>40.0</td>\n",
       "      <td>287.0</td>\n",
       "      <td>1.0</td>\n",
       "      <td>225.0</td>\n",
       "      <td>16.0</td>\n",
       "      <td>10.0</td>\n",
       "      <td>14.0</td>\n",
       "      <td>perfumery</td>\n",
       "    </tr>\n",
       "    <tr>\n",
       "      <th>1</th>\n",
       "      <td>3aa071139cb16b67ca9e5dea641aaa2f</td>\n",
       "      <td>art</td>\n",
       "      <td>44.0</td>\n",
       "      <td>276.0</td>\n",
       "      <td>1.0</td>\n",
       "      <td>1000.0</td>\n",
       "      <td>30.0</td>\n",
       "      <td>18.0</td>\n",
       "      <td>20.0</td>\n",
       "      <td>art</td>\n",
       "    </tr>\n",
       "    <tr>\n",
       "      <th>2</th>\n",
       "      <td>96bd76ec8810374ed1b65e291975717f</td>\n",
       "      <td>sports_leisure</td>\n",
       "      <td>46.0</td>\n",
       "      <td>250.0</td>\n",
       "      <td>1.0</td>\n",
       "      <td>154.0</td>\n",
       "      <td>18.0</td>\n",
       "      <td>9.0</td>\n",
       "      <td>15.0</td>\n",
       "      <td>sports_leisure</td>\n",
       "    </tr>\n",
       "  </tbody>\n",
       "</table>\n",
       "</div>"
      ],
      "text/plain": [
       "                         product_id product_category_name  \\\n",
       "0  1e9e8ef04dbcff4541ed26657ea517e5             perfumery   \n",
       "1  3aa071139cb16b67ca9e5dea641aaa2f                   art   \n",
       "2  96bd76ec8810374ed1b65e291975717f        sports_leisure   \n",
       "\n",
       "   product_name_lenght  product_description_lenght  product_photos_qty  \\\n",
       "0                 40.0                       287.0                 1.0   \n",
       "1                 44.0                       276.0                 1.0   \n",
       "2                 46.0                       250.0                 1.0   \n",
       "\n",
       "   product_weight_g  product_length_cm  product_height_cm  product_width_cm  \\\n",
       "0             225.0               16.0               10.0              14.0   \n",
       "1            1000.0               30.0               18.0              20.0   \n",
       "2             154.0               18.0                9.0              15.0   \n",
       "\n",
       "  product_category_name_english  \n",
       "0                     perfumery  \n",
       "1                           art  \n",
       "2                sports_leisure  "
      ]
     },
     "execution_count": 49,
     "metadata": {},
     "output_type": "execute_result"
    }
   ],
   "source": [
    "products.head(3)"
   ]
  },
  {
   "cell_type": "code",
   "execution_count": 50,
   "metadata": {},
   "outputs": [
    {
     "data": {
      "text/html": [
       "<div>\n",
       "<style scoped>\n",
       "    .dataframe tbody tr th:only-of-type {\n",
       "        vertical-align: middle;\n",
       "    }\n",
       "\n",
       "    .dataframe tbody tr th {\n",
       "        vertical-align: top;\n",
       "    }\n",
       "\n",
       "    .dataframe thead th {\n",
       "        text-align: right;\n",
       "    }\n",
       "</style>\n",
       "<table border=\"1\" class=\"dataframe\">\n",
       "  <thead>\n",
       "    <tr style=\"text-align: right;\">\n",
       "      <th></th>\n",
       "      <th>unique values</th>\n",
       "      <th>not null values</th>\n",
       "      <th>missing values</th>\n",
       "      <th>percentage</th>\n",
       "    </tr>\n",
       "  </thead>\n",
       "  <tbody>\n",
       "    <tr>\n",
       "      <th>product_id</th>\n",
       "      <td>32952.0</td>\n",
       "      <td>32952.0</td>\n",
       "      <td>0.0</td>\n",
       "      <td>0.000000</td>\n",
       "    </tr>\n",
       "    <tr>\n",
       "      <th>product_category_name</th>\n",
       "      <td>71.0</td>\n",
       "      <td>32328.0</td>\n",
       "      <td>624.0</td>\n",
       "      <td>1.930215</td>\n",
       "    </tr>\n",
       "    <tr>\n",
       "      <th>product_name_lenght</th>\n",
       "      <td>66.0</td>\n",
       "      <td>32341.0</td>\n",
       "      <td>611.0</td>\n",
       "      <td>1.889243</td>\n",
       "    </tr>\n",
       "    <tr>\n",
       "      <th>product_description_lenght</th>\n",
       "      <td>2960.0</td>\n",
       "      <td>32341.0</td>\n",
       "      <td>611.0</td>\n",
       "      <td>1.889243</td>\n",
       "    </tr>\n",
       "    <tr>\n",
       "      <th>product_photos_qty</th>\n",
       "      <td>20.0</td>\n",
       "      <td>32342.0</td>\n",
       "      <td>610.0</td>\n",
       "      <td>1.886092</td>\n",
       "    </tr>\n",
       "    <tr>\n",
       "      <th>product_weight_g</th>\n",
       "      <td>2205.0</td>\n",
       "      <td>32950.0</td>\n",
       "      <td>2.0</td>\n",
       "      <td>0.006070</td>\n",
       "    </tr>\n",
       "    <tr>\n",
       "      <th>product_length_cm</th>\n",
       "      <td>99.0</td>\n",
       "      <td>32950.0</td>\n",
       "      <td>2.0</td>\n",
       "      <td>0.006070</td>\n",
       "    </tr>\n",
       "    <tr>\n",
       "      <th>product_height_cm</th>\n",
       "      <td>102.0</td>\n",
       "      <td>32950.0</td>\n",
       "      <td>2.0</td>\n",
       "      <td>0.006070</td>\n",
       "    </tr>\n",
       "    <tr>\n",
       "      <th>product_width_cm</th>\n",
       "      <td>95.0</td>\n",
       "      <td>32949.0</td>\n",
       "      <td>3.0</td>\n",
       "      <td>0.009105</td>\n",
       "    </tr>\n",
       "    <tr>\n",
       "      <th>product_category_name_english</th>\n",
       "      <td>71.0</td>\n",
       "      <td>32328.0</td>\n",
       "      <td>624.0</td>\n",
       "      <td>1.930215</td>\n",
       "    </tr>\n",
       "  </tbody>\n",
       "</table>\n",
       "</div>"
      ],
      "text/plain": [
       "                               unique values  not null values  missing values  \\\n",
       "product_id                           32952.0          32952.0             0.0   \n",
       "product_category_name                   71.0          32328.0           624.0   \n",
       "product_name_lenght                     66.0          32341.0           611.0   \n",
       "product_description_lenght            2960.0          32341.0           611.0   \n",
       "product_photos_qty                      20.0          32342.0           610.0   \n",
       "product_weight_g                      2205.0          32950.0             2.0   \n",
       "product_length_cm                       99.0          32950.0             2.0   \n",
       "product_height_cm                      102.0          32950.0             2.0   \n",
       "product_width_cm                        95.0          32949.0             3.0   \n",
       "product_category_name_english           71.0          32328.0           624.0   \n",
       "\n",
       "                               percentage  \n",
       "product_id                       0.000000  \n",
       "product_category_name            1.930215  \n",
       "product_name_lenght              1.889243  \n",
       "product_description_lenght       1.889243  \n",
       "product_photos_qty               1.886092  \n",
       "product_weight_g                 0.006070  \n",
       "product_length_cm                0.006070  \n",
       "product_height_cm                0.006070  \n",
       "product_width_cm                 0.009105  \n",
       "product_category_name_english    1.930215  "
      ]
     },
     "execution_count": 50,
     "metadata": {},
     "output_type": "execute_result"
    }
   ],
   "source": [
    "missing = pd.DataFrame( data = [ products.nunique(),products.notnull().sum() , products.isna().sum() , ((products.isna().sum()/ products.count())*100)])\n",
    "missing.index=[ \"unique values\",\"not null values\",\"missing values\", \"percentage\"]\n",
    "missing.transpose()"
   ]
  },
  {
   "cell_type": "markdown",
   "metadata": {},
   "source": [
    "> product_id is perfect: no repeated nor missing values\n",
    "> product_weight has 2 missing vlaues lets check!"
   ]
  },
  {
   "cell_type": "code",
   "execution_count": 51,
   "metadata": {},
   "outputs": [
    {
     "data": {
      "text/html": [
       "<div>\n",
       "<style scoped>\n",
       "    .dataframe tbody tr th:only-of-type {\n",
       "        vertical-align: middle;\n",
       "    }\n",
       "\n",
       "    .dataframe tbody tr th {\n",
       "        vertical-align: top;\n",
       "    }\n",
       "\n",
       "    .dataframe thead th {\n",
       "        text-align: right;\n",
       "    }\n",
       "</style>\n",
       "<table border=\"1\" class=\"dataframe\">\n",
       "  <thead>\n",
       "    <tr style=\"text-align: right;\">\n",
       "      <th></th>\n",
       "      <th>product_id</th>\n",
       "      <th>product_category_name</th>\n",
       "      <th>product_name_lenght</th>\n",
       "      <th>product_description_lenght</th>\n",
       "      <th>product_photos_qty</th>\n",
       "      <th>product_weight_g</th>\n",
       "      <th>product_length_cm</th>\n",
       "      <th>product_height_cm</th>\n",
       "      <th>product_width_cm</th>\n",
       "      <th>product_category_name_english</th>\n",
       "    </tr>\n",
       "  </thead>\n",
       "  <tbody>\n",
       "    <tr>\n",
       "      <th>8579</th>\n",
       "      <td>09ff539a621711667c43eba6a3bd8466</td>\n",
       "      <td>baby</td>\n",
       "      <td>60.0</td>\n",
       "      <td>865.0</td>\n",
       "      <td>3.0</td>\n",
       "      <td>NaN</td>\n",
       "      <td>NaN</td>\n",
       "      <td>NaN</td>\n",
       "      <td>NaN</td>\n",
       "      <td>baby</td>\n",
       "    </tr>\n",
       "    <tr>\n",
       "      <th>18852</th>\n",
       "      <td>5eb564652db742ff8f28759cd8d2652a</td>\n",
       "      <td>NaN</td>\n",
       "      <td>NaN</td>\n",
       "      <td>NaN</td>\n",
       "      <td>NaN</td>\n",
       "      <td>NaN</td>\n",
       "      <td>NaN</td>\n",
       "      <td>NaN</td>\n",
       "      <td>NaN</td>\n",
       "      <td>NaN</td>\n",
       "    </tr>\n",
       "  </tbody>\n",
       "</table>\n",
       "</div>"
      ],
      "text/plain": [
       "                             product_id product_category_name  \\\n",
       "8579   09ff539a621711667c43eba6a3bd8466                  baby   \n",
       "18852  5eb564652db742ff8f28759cd8d2652a                   NaN   \n",
       "\n",
       "       product_name_lenght  product_description_lenght  product_photos_qty  \\\n",
       "8579                  60.0                       865.0                 3.0   \n",
       "18852                  NaN                         NaN                 NaN   \n",
       "\n",
       "       product_weight_g  product_length_cm  product_height_cm  \\\n",
       "8579                NaN                NaN                NaN   \n",
       "18852               NaN                NaN                NaN   \n",
       "\n",
       "       product_width_cm product_category_name_english  \n",
       "8579                NaN                          baby  \n",
       "18852               NaN                           NaN  "
      ]
     },
     "execution_count": 51,
     "metadata": {},
     "output_type": "execute_result"
    }
   ],
   "source": [
    "products[products['product_weight_g'].isna()]"
   ]
  },
  {
   "cell_type": "markdown",
   "metadata": {},
   "source": [
    "> not much help on these articles, the row 18852 is just useless and the 8579 wont give much information neither.  "
   ]
  },
  {
   "cell_type": "code",
   "execution_count": 52,
   "metadata": {},
   "outputs": [
    {
     "data": {
      "text/plain": [
       "(0.0, 40425.0)"
      ]
     },
     "execution_count": 52,
     "metadata": {},
     "output_type": "execute_result"
    }
   ],
   "source": [
    "#besides the 2 mising values showned before lets check other non valid values such as  negative ones?\n",
    "products['product_weight_g'].apply(pd.to_numeric, errors='raise').min(),products['product_weight_g'].apply(pd.to_numeric, errors='raise').max()"
   ]
  },
  {
   "cell_type": "markdown",
   "metadata": {},
   "source": [
    "> Values are normal"
   ]
  },
  {
   "cell_type": "markdown",
   "metadata": {},
   "source": [
    "\n",
    "#### Observations :\n",
    ">1) There are several missing values, however the main col 'order_id' has no missing values.\n",
    ">2) product weight can be uses with the exception of 2 products (negligable) and fixable."
   ]
  },
  {
   "cell_type": "markdown",
   "metadata": {},
   "source": [
    "# FIX - Products File "
   ]
  },
  {
   "cell_type": "code",
   "execution_count": 53,
   "metadata": {},
   "outputs": [],
   "source": [
    "#setting weights to zero\n",
    "products.loc[8579,'product_weight_g'] = 0"
   ]
  },
  {
   "cell_type": "code",
   "execution_count": 54,
   "metadata": {},
   "outputs": [],
   "source": [
    "products.loc[18852, 'product_weight_g'] = 0"
   ]
  },
  {
   "cell_type": "code",
   "execution_count": 55,
   "metadata": {},
   "outputs": [],
   "source": [
    "#exporting fixed file\n",
    "products.to_csv(r\"data//fixed//fixed_products.csv\",sep =',',index=False ) # exporting"
   ]
  },
  {
   "cell_type": "markdown",
   "metadata": {},
   "source": [
    "---\n",
    "---"
   ]
  },
  {
   "cell_type": "markdown",
   "metadata": {},
   "source": [
    "## EXTRA - Small analysis on the data"
   ]
  },
  {
   "cell_type": "markdown",
   "metadata": {},
   "source": [
    "## Customers"
   ]
  },
  {
   "cell_type": "code",
   "execution_count": 56,
   "metadata": {},
   "outputs": [
    {
     "name": "stdout",
     "output_type": "stream",
     "text": [
      "customer_city\n",
      "sao paulo         15540\n",
      "rio de janeiro     6882\n",
      "belo horizonte     2773\n",
      "brasilia           2131\n",
      "curitiba           1521\n",
      "Name: customer_id, dtype: int64 \n",
      "---\n",
      " count     4119.000000\n",
      "mean        24.142025\n",
      "std        279.272382\n",
      "min          1.000000\n",
      "25%          1.000000\n",
      "50%          3.000000\n",
      "75%          9.000000\n",
      "max      15540.000000\n",
      "Name: customer_id, dtype: float64 \n",
      "---\n"
     ]
    }
   ],
   "source": [
    "#Get top 5 Cities \n",
    "customer_count = customer.groupby('customer_city').count()['customer_id'].sort_values(ascending=False).head(5)\n",
    "\n",
    "# checking the cities distribution\n",
    "print(customer_count,'\\n---\\n', customer.groupby('customer_city').count()['customer_id'].describe(),'\\n---')\n"
   ]
  },
  {
   "cell_type": "markdown",
   "metadata": {},
   "source": [
    ">High concentration of customers on top cities (example : Sao Paulo 15.6%)."
   ]
  },
  {
   "cell_type": "markdown",
   "metadata": {},
   "source": [
    "## Items"
   ]
  },
  {
   "cell_type": "code",
   "execution_count": 57,
   "metadata": {},
   "outputs": [
    {
     "data": {
      "text/plain": [
       "count    112650.000000\n",
       "mean        120.653739\n",
       "std         183.633928\n",
       "min           0.850000\n",
       "25%          39.900000\n",
       "50%          74.990000\n",
       "75%         134.900000\n",
       "max        6735.000000\n",
       "Name: price, dtype: float64"
      ]
     },
     "execution_count": 57,
     "metadata": {},
     "output_type": "execute_result"
    }
   ],
   "source": [
    "items['price'].describe()"
   ]
  },
  {
   "cell_type": "code",
   "execution_count": 58,
   "metadata": {},
   "outputs": [
    {
     "name": "stdout",
     "output_type": "stream",
     "text": [
      "6.158011540168664\n",
      "3.762982689747004\n",
      "2.854860186418109\n",
      "2.0550377274744784\n"
     ]
    }
   ],
   "source": [
    "for x in [300,400,500,600]:\n",
    "    print(items[items['price']>x].count()[0]/112650*100)"
   ]
  },
  {
   "cell_type": "code",
   "execution_count": 59,
   "metadata": {},
   "outputs": [
    {
     "data": {
      "text/plain": [
       "6.158011540168664"
      ]
     },
     "execution_count": 59,
     "metadata": {},
     "output_type": "execute_result"
    }
   ],
   "source": [
    "6937/112650*100"
   ]
  },
  {
   "cell_type": "code",
   "execution_count": 60,
   "metadata": {},
   "outputs": [
    {
     "data": {
      "text/plain": [
       "<matplotlib.axes._subplots.AxesSubplot at 0x2435de22788>"
      ]
     },
     "execution_count": 60,
     "metadata": {},
     "output_type": "execute_result"
    },
    {
     "data": {
      "image/png": "[encoded data removed]",
      "text/plain": [
       "<Figure size 432x288 with 1 Axes>"
      ]
     },
     "metadata": {
      "needs_background": "light"
     },
     "output_type": "display_data"
    }
   ],
   "source": [
    "pd.DataFrame(np.sort(items['price'])).plot()"
   ]
  },
  {
   "cell_type": "markdown",
   "metadata": {},
   "source": [
    "> There is a tiny amount of price outliers. Only 6% of products are over 300 in price."
   ]
  },
  {
   "cell_type": "code",
   "execution_count": 61,
   "metadata": {},
   "outputs": [
    {
     "data": {
      "text/plain": [
       "(   counts  prod_cum_sum    prod_%  prod_cum_%\n",
       " 0     527           527  0.467821    0.467821\n",
       " 1     488          1015  0.433200    0.901021\n",
       " 2     484          1499  0.429649    1.330670,\n",
       "    counts  prod_cum_sum    prod_%  prod_cum_%\n",
       " 0     527           527  0.467821    0.467821\n",
       " 1     488          1015  0.433200    0.901021\n",
       " 2     484          1499  0.429649    1.330670)"
      ]
     },
     "execution_count": 61,
     "metadata": {},
     "output_type": "execute_result"
    }
   ],
   "source": [
    "itemdf= pd.DataFrame(items.groupby('product_id').count()['order_id'].sort_values(ascending=False)) #count products + sort from most used to least\n",
    "itemdf['prod_cum_sum']=items.groupby('product_id').count()['order_id'].sort_values(ascending=False).cumsum() #add a cumulative sum col\n",
    "itemdf['prod_%']=items.groupby('product_id').count()['order_id'].sort_values(ascending=False)/112650 *100 #with percentage\n",
    "itemdf['prod_cum_%']=itemdf['prod_%'].cumsum() #%cumulative sum\n",
    "itemdf.reset_index(level=0, inplace=True) #take out the prod_id and replace for 0,1,2..\n",
    "itemdf['counts'] = itemdf['order_id'] # change the name to counts\n",
    "itemdf.drop(['product_id','order_id'], axis =1, inplace=True) # drop the unused cols\n",
    "itemdf = itemdf.reindex(columns=['counts','prod_cum_sum', 'prod_%', 'prod_cum_%']) # order columns\n",
    "itemdf.head(3), itemdf.head(3) "
   ]
  },
  {
   "cell_type": "code",
   "execution_count": 62,
   "metadata": {},
   "outputs": [
    {
     "data": {
      "text/html": [
       "<div>\n",
       "<style scoped>\n",
       "    .dataframe tbody tr th:only-of-type {\n",
       "        vertical-align: middle;\n",
       "    }\n",
       "\n",
       "    .dataframe tbody tr th {\n",
       "        vertical-align: top;\n",
       "    }\n",
       "\n",
       "    .dataframe thead th {\n",
       "        text-align: right;\n",
       "    }\n",
       "</style>\n",
       "<table border=\"1\" class=\"dataframe\">\n",
       "  <thead>\n",
       "    <tr style=\"text-align: right;\">\n",
       "      <th></th>\n",
       "      <th>counts</th>\n",
       "      <th>prod_cum_sum</th>\n",
       "      <th>prod_%</th>\n",
       "      <th>prod_cum_%</th>\n",
       "    </tr>\n",
       "  </thead>\n",
       "  <tbody>\n",
       "    <tr>\n",
       "      <th>4587</th>\n",
       "      <td>5</td>\n",
       "      <td>67590</td>\n",
       "      <td>0.004439</td>\n",
       "      <td>60.0</td>\n",
       "    </tr>\n",
       "  </tbody>\n",
       "</table>\n",
       "</div>"
      ],
      "text/plain": [
       "      counts  prod_cum_sum    prod_%  prod_cum_%\n",
       "4587       5         67590  0.004439        60.0"
      ]
     },
     "execution_count": 62,
     "metadata": {},
     "output_type": "execute_result"
    }
   ],
   "source": [
    "itemdf[itemdf['prod_cum_%']>60].head(1)"
   ]
  },
  {
   "cell_type": "code",
   "execution_count": 63,
   "metadata": {},
   "outputs": [
    {
     "data": {
      "text/plain": [
       "<matplotlib.axes._subplots.AxesSubplot at 0x243607ed908>"
      ]
     },
     "execution_count": 63,
     "metadata": {},
     "output_type": "execute_result"
    },
    {
     "data": {
      "image/png": "[encoded data removed]",
      "text/plain": [
       "<Figure size 432x288 with 1 Axes>"
      ]
     },
     "metadata": {
      "needs_background": "light"
     },
     "output_type": "display_data"
    }
   ],
   "source": [
    " itemdf['prod_cum_%'].plot()"
   ]
  },
  {
   "cell_type": "markdown",
   "metadata": {},
   "source": [
    "> Pareto: The vast mayority of orders are from a small amount of products ( 14% of products make more than 60% of all orders)"
   ]
  },
  {
   "cell_type": "markdown",
   "metadata": {},
   "source": [
    "## Orders"
   ]
  },
  {
   "cell_type": "code",
   "execution_count": 64,
   "metadata": {},
   "outputs": [
    {
     "data": {
      "text/html": [
       "<div>\n",
       "<style scoped>\n",
       "    .dataframe tbody tr th:only-of-type {\n",
       "        vertical-align: middle;\n",
       "    }\n",
       "\n",
       "    .dataframe tbody tr th {\n",
       "        vertical-align: top;\n",
       "    }\n",
       "\n",
       "    .dataframe thead th {\n",
       "        text-align: right;\n",
       "    }\n",
       "</style>\n",
       "<table border=\"1\" class=\"dataframe\">\n",
       "  <thead>\n",
       "    <tr style=\"text-align: right;\">\n",
       "      <th></th>\n",
       "      <th>order_id</th>\n",
       "      <th>customer_id</th>\n",
       "      <th>order_status</th>\n",
       "      <th>order_purchase_timestamp</th>\n",
       "      <th>order_approved_at</th>\n",
       "      <th>order_delivered_carrier_date</th>\n",
       "      <th>order_delivered_customer_date</th>\n",
       "      <th>order_estimated_delivery_date</th>\n",
       "      <th>order_purchase_timestamp_day</th>\n",
       "      <th>order_approved_at_day</th>\n",
       "      <th>order_delivered_carrier_date_day</th>\n",
       "      <th>order_delivered_customer_date_day</th>\n",
       "      <th>order_estimated_delivery_date_day</th>\n",
       "    </tr>\n",
       "  </thead>\n",
       "  <tbody>\n",
       "    <tr>\n",
       "      <th>5323</th>\n",
       "      <td>e04abd8149ef81b95221e88f6ed9ab6a</td>\n",
       "      <td>2127dc6603ac33544953ef05ec155771</td>\n",
       "      <td>delivered</td>\n",
       "      <td>2017-02-18 14:40:00</td>\n",
       "      <td>NaN</td>\n",
       "      <td>2017-02-23 12:04:47</td>\n",
       "      <td>2017-03-01 13:25:33</td>\n",
       "      <td>2017-03-17 00:00:00</td>\n",
       "      <td>2017-02-18</td>\n",
       "      <td>None</td>\n",
       "      <td>2017-02-23</td>\n",
       "      <td>2017-03-01</td>\n",
       "      <td>2018-03-15 00:00:00</td>\n",
       "    </tr>\n",
       "    <tr>\n",
       "      <th>16567</th>\n",
       "      <td>8a9adc69528e1001fc68dd0aaebbb54a</td>\n",
       "      <td>4c1ccc74e00993733742a3c786dc3c1f</td>\n",
       "      <td>delivered</td>\n",
       "      <td>2017-02-18 12:45:31</td>\n",
       "      <td>NaN</td>\n",
       "      <td>2017-02-23 09:01:52</td>\n",
       "      <td>2017-03-02 10:05:06</td>\n",
       "      <td>2017-03-21 00:00:00</td>\n",
       "      <td>2017-02-18</td>\n",
       "      <td>None</td>\n",
       "      <td>2017-02-23</td>\n",
       "      <td>2017-03-02</td>\n",
       "      <td>2018-03-15 00:00:00</td>\n",
       "    </tr>\n",
       "    <tr>\n",
       "      <th>19031</th>\n",
       "      <td>7013bcfc1c97fe719a7b5e05e61c12db</td>\n",
       "      <td>2941af76d38100e0f8740a374f1a5dc3</td>\n",
       "      <td>delivered</td>\n",
       "      <td>2017-02-18 13:29:47</td>\n",
       "      <td>NaN</td>\n",
       "      <td>2017-02-22 16:25:25</td>\n",
       "      <td>2017-03-01 08:07:38</td>\n",
       "      <td>2017-03-17 00:00:00</td>\n",
       "      <td>2017-02-18</td>\n",
       "      <td>None</td>\n",
       "      <td>2017-02-22</td>\n",
       "      <td>2017-03-01</td>\n",
       "      <td>2018-03-15 00:00:00</td>\n",
       "    </tr>\n",
       "  </tbody>\n",
       "</table>\n",
       "</div>"
      ],
      "text/plain": [
       "                               order_id                       customer_id  \\\n",
       "5323   e04abd8149ef81b95221e88f6ed9ab6a  2127dc6603ac33544953ef05ec155771   \n",
       "16567  8a9adc69528e1001fc68dd0aaebbb54a  4c1ccc74e00993733742a3c786dc3c1f   \n",
       "19031  7013bcfc1c97fe719a7b5e05e61c12db  2941af76d38100e0f8740a374f1a5dc3   \n",
       "\n",
       "      order_status order_purchase_timestamp order_approved_at  \\\n",
       "5323     delivered      2017-02-18 14:40:00               NaN   \n",
       "16567    delivered      2017-02-18 12:45:31               NaN   \n",
       "19031    delivered      2017-02-18 13:29:47               NaN   \n",
       "\n",
       "      order_delivered_carrier_date order_delivered_customer_date  \\\n",
       "5323           2017-02-23 12:04:47           2017-03-01 13:25:33   \n",
       "16567          2017-02-23 09:01:52           2017-03-02 10:05:06   \n",
       "19031          2017-02-22 16:25:25           2017-03-01 08:07:38   \n",
       "\n",
       "      order_estimated_delivery_date order_purchase_timestamp_day  \\\n",
       "5323            2017-03-17 00:00:00                   2017-02-18   \n",
       "16567           2017-03-21 00:00:00                   2017-02-18   \n",
       "19031           2017-03-17 00:00:00                   2017-02-18   \n",
       "\n",
       "      order_approved_at_day order_delivered_carrier_date_day  \\\n",
       "5323                   None                       2017-02-23   \n",
       "16567                  None                       2017-02-23   \n",
       "19031                  None                       2017-02-22   \n",
       "\n",
       "      order_delivered_customer_date_day order_estimated_delivery_date_day  \n",
       "5323                         2017-03-01               2018-03-15 00:00:00  \n",
       "16567                        2017-03-02               2018-03-15 00:00:00  \n",
       "19031                        2017-03-01               2018-03-15 00:00:00  "
      ]
     },
     "execution_count": 64,
     "metadata": {},
     "output_type": "execute_result"
    }
   ],
   "source": [
    "d1 = orders[orders['order_status'] == 'delivered']\n",
    "m2 = orders[orders['order_status'] =='delivered']['order_approved_at'].isna()\n",
    "d1[m2].head(3)"
   ]
  },
  {
   "cell_type": "markdown",
   "metadata": {},
   "source": [
    "> There were 16 orders that were delivered and NOT approved."
   ]
  },
  {
   "cell_type": "code",
   "execution_count": null,
   "metadata": {},
   "outputs": [],
   "source": []
  }
 ],
 "metadata": {
  "kernelspec": {
   "display_name": "Python 3",
   "language": "python",
   "name": "python3"
  },
  "language_info": {
   "codemirror_mode": {
    "name": "ipython",
    "version": 3
   },
   "file_extension": ".py",
   "mimetype": "text/x-python",
   "name": "python",
   "nbconvert_exporter": "python",
   "pygments_lexer": "ipython3",
   "version": "3.7.6"
  }
 },
 "nbformat": 4,
 "nbformat_minor": 4
}
