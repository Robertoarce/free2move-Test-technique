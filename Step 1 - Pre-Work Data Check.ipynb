{
 "cells": [
  {
   "cell_type": "markdown",
   "metadata": {},
   "source": [
    "# Step 1 - Pre-Work Data Check"
   ]
  },
  {
   "cell_type": "markdown",
   "metadata": {},
   "source": [
    "## Agenda:\n",
    "\n",
    "    1) Data check:\n",
    "        a. Customers csv\n",
    "        b. Items csv\n",
    "        c. orders csv\n",
    "        d. products csv\n",
    "    2) Extra -  just for fun analysis\n",
    "\n",
    " We will be looking at the data given with the objective to:\n",
    "  \n",
    "     1) Detect the useful champs for our mission.\n",
    "     2) Evaluate data regarding:\n",
    "     \n",
    "        Values:          Values are in the right column.\n",
    "        Completeness:    No Missing values in a rows.\n",
    "        Format:          Same format.\n",
    "        Duplicates:      No row should be exact equal.\n",
    "  \n",
    "   "
   ]
  },
  {
   "cell_type": "markdown",
   "metadata": {},
   "source": [
    "##   Import Files and modules\n"
   ]
  },
  {
   "cell_type": "code",
   "execution_count": 458,
   "metadata": {},
   "outputs": [],
   "source": [
    "import pandas as pd\n",
    "import numpy as np\n",
    "\n",
    "customer    = pd.read_csv(\"customer.csv\")\n",
    "items       = pd.read_csv(\"items.csv\")\n",
    "orders      = pd.read_csv(\"orders.csv\")\n",
    "products    = pd.read_csv(\"products.csv\")"
   ]
  },
  {
   "cell_type": "markdown",
   "metadata": {},
   "source": [
    "## 2) Data check"
   ]
  },
  {
   "cell_type": "markdown",
   "metadata": {},
   "source": [
    "#### a. Customer csv"
   ]
  },
  {
   "cell_type": "markdown",
   "metadata": {},
   "source": [
    "*For this data set we are only interested in the customer_id and customer_unique_id.*"
   ]
  },
  {
   "cell_type": "code",
   "execution_count": 6,
   "metadata": {},
   "outputs": [
    {
     "data": {
      "text/html": [
       "<div>\n",
       "<style scoped>\n",
       "    .dataframe tbody tr th:only-of-type {\n",
       "        vertical-align: middle;\n",
       "    }\n",
       "\n",
       "    .dataframe tbody tr th {\n",
       "        vertical-align: top;\n",
       "    }\n",
       "\n",
       "    .dataframe thead th {\n",
       "        text-align: right;\n",
       "    }\n",
       "</style>\n",
       "<table border=\"1\" class=\"dataframe\">\n",
       "  <thead>\n",
       "    <tr style=\"text-align: right;\">\n",
       "      <th></th>\n",
       "      <th>customer_id</th>\n",
       "      <th>customer_unique_id</th>\n",
       "      <th>customer_zip_code_prefix</th>\n",
       "      <th>customer_city</th>\n",
       "      <th>customer_state</th>\n",
       "    </tr>\n",
       "  </thead>\n",
       "  <tbody>\n",
       "    <tr>\n",
       "      <th>0</th>\n",
       "      <td>06b8999e2fba1a1fbc88172c00ba8bc7</td>\n",
       "      <td>861eff4711a542e4b93843c6dd7febb0</td>\n",
       "      <td>14409.0</td>\n",
       "      <td>franca</td>\n",
       "      <td>SP</td>\n",
       "    </tr>\n",
       "    <tr>\n",
       "      <th>1</th>\n",
       "      <td>18955e83d337fd6b2def6b18a428ac77</td>\n",
       "      <td>290c77bc529b7ac935b93aa66c333dc3</td>\n",
       "      <td>9790.0</td>\n",
       "      <td>sao bernardo do campo</td>\n",
       "      <td>SP</td>\n",
       "    </tr>\n",
       "    <tr>\n",
       "      <th>2</th>\n",
       "      <td>4e7b3e00288586ebd08712fdd0374a03</td>\n",
       "      <td>060e732b5b29e8181a18229c7b0b2b5e</td>\n",
       "      <td>1151.0</td>\n",
       "      <td>sao paulo</td>\n",
       "      <td>SP</td>\n",
       "    </tr>\n",
       "  </tbody>\n",
       "</table>\n",
       "</div>"
      ],
      "text/plain": [
       "                        customer_id                customer_unique_id  \\\n",
       "0  06b8999e2fba1a1fbc88172c00ba8bc7  861eff4711a542e4b93843c6dd7febb0   \n",
       "1  18955e83d337fd6b2def6b18a428ac77  290c77bc529b7ac935b93aa66c333dc3   \n",
       "2  4e7b3e00288586ebd08712fdd0374a03  060e732b5b29e8181a18229c7b0b2b5e   \n",
       "\n",
       "   customer_zip_code_prefix          customer_city customer_state  \n",
       "0                   14409.0                 franca             SP  \n",
       "1                    9790.0  sao bernardo do campo             SP  \n",
       "2                    1151.0              sao paulo             SP  "
      ]
     },
     "execution_count": 6,
     "metadata": {},
     "output_type": "execute_result"
    }
   ],
   "source": [
    "customer.head(3)"
   ]
  },
  {
   "cell_type": "code",
   "execution_count": 413,
   "metadata": {},
   "outputs": [
    {
     "data": {
      "text/html": [
       "<div>\n",
       "<style scoped>\n",
       "    .dataframe tbody tr th:only-of-type {\n",
       "        vertical-align: middle;\n",
       "    }\n",
       "\n",
       "    .dataframe tbody tr th {\n",
       "        vertical-align: top;\n",
       "    }\n",
       "\n",
       "    .dataframe thead th {\n",
       "        text-align: right;\n",
       "    }\n",
       "</style>\n",
       "<table border=\"1\" class=\"dataframe\">\n",
       "  <thead>\n",
       "    <tr style=\"text-align: right;\">\n",
       "      <th></th>\n",
       "      <th>unique values</th>\n",
       "      <th>not null values</th>\n",
       "      <th>missing values</th>\n",
       "      <th>percentage</th>\n",
       "    </tr>\n",
       "  </thead>\n",
       "  <tbody>\n",
       "    <tr>\n",
       "      <th>customer_id</th>\n",
       "      <td>99441.0</td>\n",
       "      <td>99443.0</td>\n",
       "      <td>0.0</td>\n",
       "      <td>0.000000</td>\n",
       "    </tr>\n",
       "    <tr>\n",
       "      <th>customer_unique_id</th>\n",
       "      <td>96096.0</td>\n",
       "      <td>99442.0</td>\n",
       "      <td>1.0</td>\n",
       "      <td>0.001006</td>\n",
       "    </tr>\n",
       "    <tr>\n",
       "      <th>customer_zip_code_prefix</th>\n",
       "      <td>14994.0</td>\n",
       "      <td>99442.0</td>\n",
       "      <td>1.0</td>\n",
       "      <td>0.001006</td>\n",
       "    </tr>\n",
       "    <tr>\n",
       "      <th>customer_city</th>\n",
       "      <td>4119.0</td>\n",
       "      <td>99441.0</td>\n",
       "      <td>2.0</td>\n",
       "      <td>0.002011</td>\n",
       "    </tr>\n",
       "    <tr>\n",
       "      <th>customer_state</th>\n",
       "      <td>27.0</td>\n",
       "      <td>99443.0</td>\n",
       "      <td>0.0</td>\n",
       "      <td>0.000000</td>\n",
       "    </tr>\n",
       "  </tbody>\n",
       "</table>\n",
       "</div>"
      ],
      "text/plain": [
       "                          unique values  not null values  missing values  \\\n",
       "customer_id                     99441.0          99443.0             0.0   \n",
       "customer_unique_id              96096.0          99442.0             1.0   \n",
       "customer_zip_code_prefix        14994.0          99442.0             1.0   \n",
       "customer_city                    4119.0          99441.0             2.0   \n",
       "customer_state                     27.0          99443.0             0.0   \n",
       "\n",
       "                          percentage  \n",
       "customer_id                 0.000000  \n",
       "customer_unique_id          0.001006  \n",
       "customer_zip_code_prefix    0.001006  \n",
       "customer_city               0.002011  \n",
       "customer_state              0.000000  "
      ]
     },
     "execution_count": 413,
     "metadata": {},
     "output_type": "execute_result"
    }
   ],
   "source": [
    "#check missing/null/distinct values\n",
    "missing = pd.DataFrame( data = [ customer.nunique(),customer.notnull().sum() , customer.isna().sum() , ((customer.isna().sum()/ customer.count())*100)])\n",
    "missing.index=[ \"unique values\",\"not null values\",\"missing values\", \"percentage\"]\n",
    "missing.transpose()"
   ]
  },
  {
   "cell_type": "code",
   "execution_count": 416,
   "metadata": {},
   "outputs": [
    {
     "name": "stdout",
     "output_type": "stream",
     "text": [
      "unique cols = True \n",
      "unique index = True \n",
      "duplicated rows = 0\n"
     ]
    }
   ],
   "source": [
    "print(\"unique cols = \" + str(customer.columns.is_unique),\"\\nunique index = \" + str( customer.index.is_unique), \"\\nduplicated rows = \" + str(customer.duplicated().sum()) )"
   ]
  },
  {
   "cell_type": "markdown",
   "metadata": {},
   "source": [
    "#### Observations :\n",
    "1) Customer_unique_id is not as unique as customer_id (even if it has 2 repeated users).\n",
    "2) The amount of missing values in the rest of the columns is negligible (even if we will not use them). \n",
    "3) No duplicate Rows.\n",
    "\n",
    "\n",
    "\n",
    "\n"
   ]
  },
  {
   "cell_type": "markdown",
   "metadata": {},
   "source": [
    "\n",
    "\n",
    "\n",
    "---\n"
   ]
  },
  {
   "cell_type": "markdown",
   "metadata": {},
   "source": [
    "\n",
    "\n",
    "## b. Items"
   ]
  },
  {
   "cell_type": "markdown",
   "metadata": {},
   "source": [
    "*Here we are interested in the **order_id, order_item_id, price, frieght_value and shipping_limit_date** *"
   ]
  },
  {
   "cell_type": "code",
   "execution_count": 127,
   "metadata": {},
   "outputs": [
    {
     "data": {
      "text/html": [
       "<div>\n",
       "<style scoped>\n",
       "    .dataframe tbody tr th:only-of-type {\n",
       "        vertical-align: middle;\n",
       "    }\n",
       "\n",
       "    .dataframe tbody tr th {\n",
       "        vertical-align: top;\n",
       "    }\n",
       "\n",
       "    .dataframe thead th {\n",
       "        text-align: right;\n",
       "    }\n",
       "</style>\n",
       "<table border=\"1\" class=\"dataframe\">\n",
       "  <thead>\n",
       "    <tr style=\"text-align: right;\">\n",
       "      <th></th>\n",
       "      <th>order_id</th>\n",
       "      <th>order_item_id</th>\n",
       "      <th>product_id</th>\n",
       "      <th>seller_id</th>\n",
       "      <th>shipping_limit_date</th>\n",
       "      <th>price</th>\n",
       "      <th>freight_value</th>\n",
       "    </tr>\n",
       "  </thead>\n",
       "  <tbody>\n",
       "    <tr>\n",
       "      <th>0</th>\n",
       "      <td>00010242fe8c5a6d1ba2dd792cb16214</td>\n",
       "      <td>1</td>\n",
       "      <td>4244733e06e7ecb4970a6e2683c13e61</td>\n",
       "      <td>48436dade18ac8b2bce089ec2a041202</td>\n",
       "      <td>2017-09-19 09:45:35</td>\n",
       "      <td>58.9</td>\n",
       "      <td>13.29</td>\n",
       "    </tr>\n",
       "    <tr>\n",
       "      <th>1</th>\n",
       "      <td>00018f77f2f0320c557190d7a144bdd3</td>\n",
       "      <td>1</td>\n",
       "      <td>e5f2d52b802189ee658865ca93d83a8f</td>\n",
       "      <td>dd7ddc04e1b6c2c614352b383efe2d36</td>\n",
       "      <td>2017-05-03 11:05:13</td>\n",
       "      <td>239.9</td>\n",
       "      <td>19.93</td>\n",
       "    </tr>\n",
       "    <tr>\n",
       "      <th>2</th>\n",
       "      <td>000229ec398224ef6ca0657da4fc703e</td>\n",
       "      <td>1</td>\n",
       "      <td>c777355d18b72b67abbeef9df44fd0fd</td>\n",
       "      <td>5b51032eddd242adc84c38acab88f23d</td>\n",
       "      <td>2018-01-18 14:48:30</td>\n",
       "      <td>199.0</td>\n",
       "      <td>17.87</td>\n",
       "    </tr>\n",
       "  </tbody>\n",
       "</table>\n",
       "</div>"
      ],
      "text/plain": [
       "                           order_id  order_item_id  \\\n",
       "0  00010242fe8c5a6d1ba2dd792cb16214              1   \n",
       "1  00018f77f2f0320c557190d7a144bdd3              1   \n",
       "2  000229ec398224ef6ca0657da4fc703e              1   \n",
       "\n",
       "                         product_id                         seller_id  \\\n",
       "0  4244733e06e7ecb4970a6e2683c13e61  48436dade18ac8b2bce089ec2a041202   \n",
       "1  e5f2d52b802189ee658865ca93d83a8f  dd7ddc04e1b6c2c614352b383efe2d36   \n",
       "2  c777355d18b72b67abbeef9df44fd0fd  5b51032eddd242adc84c38acab88f23d   \n",
       "\n",
       "   shipping_limit_date  price  freight_value  \n",
       "0  2017-09-19 09:45:35   58.9          13.29  \n",
       "1  2017-05-03 11:05:13  239.9          19.93  \n",
       "2  2018-01-18 14:48:30  199.0          17.87  "
      ]
     },
     "execution_count": 127,
     "metadata": {},
     "output_type": "execute_result"
    }
   ],
   "source": [
    "items.head(3)"
   ]
  },
  {
   "cell_type": "code",
   "execution_count": 176,
   "metadata": {},
   "outputs": [
    {
     "data": {
      "text/html": [
       "<div>\n",
       "<style scoped>\n",
       "    .dataframe tbody tr th:only-of-type {\n",
       "        vertical-align: middle;\n",
       "    }\n",
       "\n",
       "    .dataframe tbody tr th {\n",
       "        vertical-align: top;\n",
       "    }\n",
       "\n",
       "    .dataframe thead th {\n",
       "        text-align: right;\n",
       "    }\n",
       "</style>\n",
       "<table border=\"1\" class=\"dataframe\">\n",
       "  <thead>\n",
       "    <tr style=\"text-align: right;\">\n",
       "      <th></th>\n",
       "      <th>unique values</th>\n",
       "      <th>not null values</th>\n",
       "      <th>missing values</th>\n",
       "      <th>percentage</th>\n",
       "      <th>distinct_%</th>\n",
       "    </tr>\n",
       "  </thead>\n",
       "  <tbody>\n",
       "    <tr>\n",
       "      <th>order_id</th>\n",
       "      <td>98666.0</td>\n",
       "      <td>112650.0</td>\n",
       "      <td>0.0</td>\n",
       "      <td>0.0</td>\n",
       "      <td>87.586329</td>\n",
       "    </tr>\n",
       "    <tr>\n",
       "      <th>order_item_id</th>\n",
       "      <td>21.0</td>\n",
       "      <td>112650.0</td>\n",
       "      <td>0.0</td>\n",
       "      <td>0.0</td>\n",
       "      <td>0.018642</td>\n",
       "    </tr>\n",
       "    <tr>\n",
       "      <th>product_id</th>\n",
       "      <td>32951.0</td>\n",
       "      <td>112650.0</td>\n",
       "      <td>0.0</td>\n",
       "      <td>0.0</td>\n",
       "      <td>29.250777</td>\n",
       "    </tr>\n",
       "    <tr>\n",
       "      <th>seller_id</th>\n",
       "      <td>3095.0</td>\n",
       "      <td>112650.0</td>\n",
       "      <td>0.0</td>\n",
       "      <td>0.0</td>\n",
       "      <td>2.747448</td>\n",
       "    </tr>\n",
       "    <tr>\n",
       "      <th>shipping_limit_date</th>\n",
       "      <td>93318.0</td>\n",
       "      <td>112650.0</td>\n",
       "      <td>0.0</td>\n",
       "      <td>0.0</td>\n",
       "      <td>82.838881</td>\n",
       "    </tr>\n",
       "    <tr>\n",
       "      <th>price</th>\n",
       "      <td>5968.0</td>\n",
       "      <td>112650.0</td>\n",
       "      <td>0.0</td>\n",
       "      <td>0.0</td>\n",
       "      <td>5.297825</td>\n",
       "    </tr>\n",
       "    <tr>\n",
       "      <th>freight_value</th>\n",
       "      <td>6999.0</td>\n",
       "      <td>112650.0</td>\n",
       "      <td>0.0</td>\n",
       "      <td>0.0</td>\n",
       "      <td>6.213049</td>\n",
       "    </tr>\n",
       "  </tbody>\n",
       "</table>\n",
       "</div>"
      ],
      "text/plain": [
       "                     unique values  not null values  missing values  \\\n",
       "order_id                   98666.0         112650.0             0.0   \n",
       "order_item_id                 21.0         112650.0             0.0   \n",
       "product_id                 32951.0         112650.0             0.0   \n",
       "seller_id                   3095.0         112650.0             0.0   \n",
       "shipping_limit_date        93318.0         112650.0             0.0   \n",
       "price                       5968.0         112650.0             0.0   \n",
       "freight_value               6999.0         112650.0             0.0   \n",
       "\n",
       "                     percentage  distinct_%  \n",
       "order_id                    0.0   87.586329  \n",
       "order_item_id               0.0    0.018642  \n",
       "product_id                  0.0   29.250777  \n",
       "seller_id                   0.0    2.747448  \n",
       "shipping_limit_date         0.0   82.838881  \n",
       "price                       0.0    5.297825  \n",
       "freight_value               0.0    6.213049  "
      ]
     },
     "execution_count": 176,
     "metadata": {},
     "output_type": "execute_result"
    }
   ],
   "source": [
    "missing = pd.DataFrame( data = [ items.nunique(),items.notnull().sum() , items.isna().sum() , ((items.isna().sum()/ items.count())*100), items.nunique()/items.notnull().sum()*100])\n",
    "missing.index=[ \"unique values\",\"not null values\",\"missing values\", \"percentage\", 'distinct_%']\n",
    "missing.transpose()"
   ]
  },
  {
   "cell_type": "markdown",
   "metadata": {},
   "source": [
    "##### >> order_item_id "
   ]
  },
  {
   "cell_type": "code",
   "execution_count": 452,
   "metadata": {},
   "outputs": [
    {
     "data": {
      "text/plain": [
       "array([ 1,  2,  3,  4,  5,  6,  7,  8,  9, 10, 11, 12, 13, 14, 15, 16, 17,\n",
       "       18, 19, 20, 21], dtype=int64)"
      ]
     },
     "execution_count": 452,
     "metadata": {},
     "output_type": "execute_result"
    }
   ],
   "source": [
    "#check the data is numeric and no irregular values\n",
    "items['order_item_id'].unique()"
   ]
  },
  {
   "cell_type": "markdown",
   "metadata": {},
   "source": [
    "##### >> price and freight_value"
   ]
  },
  {
   "cell_type": "code",
   "execution_count": 623,
   "metadata": {},
   "outputs": [
    {
     "data": {
      "text/plain": [
       "6735.0"
      ]
     },
     "execution_count": 623,
     "metadata": {},
     "output_type": "execute_result"
    }
   ],
   "source": [
    "#check if all rows have numeric values, if not a error should 'raise' otherwise the max number\n",
    "items['price'].apply(pd.to_numeric, errors='raise').max()"
   ]
  },
  {
   "cell_type": "code",
   "execution_count": 624,
   "metadata": {},
   "outputs": [
    {
     "data": {
      "text/plain": [
       "409.68"
      ]
     },
     "execution_count": 624,
     "metadata": {},
     "output_type": "execute_result"
    }
   ],
   "source": [
    "#Same as price \n",
    "items['freight_value'].apply(pd.to_numeric, errors='raise').max()"
   ]
  },
  {
   "cell_type": "markdown",
   "metadata": {},
   "source": [
    "##### >> shipping_limit_date"
   ]
  },
  {
   "cell_type": "code",
   "execution_count": 554,
   "metadata": {},
   "outputs": [
    {
     "data": {
      "text/plain": [
       "array([2017, 2018, 2016, 2020], dtype=int64)"
      ]
     },
     "execution_count": 554,
     "metadata": {},
     "output_type": "execute_result"
    }
   ],
   "source": [
    "#Check dates are ok : get all years in shipping limit date collumn\n",
    "items['shipping_limit_date'] = pd.to_datetime(items['shipping_limit_date'])\n",
    "items['shipping_limit_date'].dt.year.unique()"
   ]
  },
  {
   "cell_type": "markdown",
   "metadata": {},
   "source": [
    "\n",
    "\n",
    "#### Observations :\n",
    ">1) Order_id has duplicates because of re-order of the same item (found in order_item_id). Could be good idea to create a new champ to hava a unique_order_id.\n",
    ">2) No missing values/ nor duplicate rows. \n",
    ">3) Date time shipping_limit_date is well formated in 'shipping_limit_date'\n",
    ">4) Price and freight_value are well formated and no value is missing."
   ]
  },
  {
   "cell_type": "markdown",
   "metadata": {},
   "source": [
    "\n",
    "\n",
    "\n",
    "---"
   ]
  },
  {
   "cell_type": "markdown",
   "metadata": {},
   "source": [
    "## c. Orders"
   ]
  },
  {
   "cell_type": "markdown",
   "metadata": {},
   "source": [
    "*For this data set we are only interested in the* **order_id**, **customer_id**, **order_status, order_purchase_timestamp** and **order_estimated_delivery_date** *(since is the most non-missing date).* "
   ]
  },
  {
   "cell_type": "code",
   "execution_count": 194,
   "metadata": {},
   "outputs": [
    {
     "data": {
      "text/html": [
       "<div>\n",
       "<style scoped>\n",
       "    .dataframe tbody tr th:only-of-type {\n",
       "        vertical-align: middle;\n",
       "    }\n",
       "\n",
       "    .dataframe tbody tr th {\n",
       "        vertical-align: top;\n",
       "    }\n",
       "\n",
       "    .dataframe thead th {\n",
       "        text-align: right;\n",
       "    }\n",
       "</style>\n",
       "<table border=\"1\" class=\"dataframe\">\n",
       "  <thead>\n",
       "    <tr style=\"text-align: right;\">\n",
       "      <th></th>\n",
       "      <th>order_id</th>\n",
       "      <th>customer_id</th>\n",
       "      <th>order_status</th>\n",
       "      <th>order_purchase_timestamp</th>\n",
       "      <th>order_approved_at</th>\n",
       "      <th>order_delivered_carrier_date</th>\n",
       "      <th>order_delivered_customer_date</th>\n",
       "      <th>order_estimated_delivery_date</th>\n",
       "    </tr>\n",
       "  </thead>\n",
       "  <tbody>\n",
       "    <tr>\n",
       "      <th>0</th>\n",
       "      <td>e481f51cbdc54678b7cc49136f2d6af7</td>\n",
       "      <td>9ef432eb6251297304e76186b10a928d</td>\n",
       "      <td>delivered</td>\n",
       "      <td>2017-10-02 10:56:33</td>\n",
       "      <td>2017-10-02 11:07:15</td>\n",
       "      <td>2017-10-04 19:55:00</td>\n",
       "      <td>2017-10-10 21:25:13</td>\n",
       "      <td>2017-10-18 00:00:00</td>\n",
       "    </tr>\n",
       "    <tr>\n",
       "      <th>1</th>\n",
       "      <td>53cdb2fc8bc7dce0b6741e2150273451</td>\n",
       "      <td>b0830fb4747a6c6d20dea0b8c802d7ef</td>\n",
       "      <td>delivered</td>\n",
       "      <td>2018-07-24 20:41:37</td>\n",
       "      <td>2018-07-26 03:24:27</td>\n",
       "      <td>2018-07-26 14:31:00</td>\n",
       "      <td>2018-08-07 15:27:45</td>\n",
       "      <td>2018-08-13 00:00:00</td>\n",
       "    </tr>\n",
       "    <tr>\n",
       "      <th>2</th>\n",
       "      <td>47770eb9100c2d0c44946d9cf07ec65d</td>\n",
       "      <td>41ce2a54c0b03bf3443c3d931a367089</td>\n",
       "      <td>delivered</td>\n",
       "      <td>2018-08-08 08:38:49</td>\n",
       "      <td>2018-08-08 08:55:23</td>\n",
       "      <td>2018-08-08 13:50:00</td>\n",
       "      <td>2018-08-17 18:06:29</td>\n",
       "      <td>2018-09-04 00:00:00</td>\n",
       "    </tr>\n",
       "  </tbody>\n",
       "</table>\n",
       "</div>"
      ],
      "text/plain": [
       "                           order_id                       customer_id  \\\n",
       "0  e481f51cbdc54678b7cc49136f2d6af7  9ef432eb6251297304e76186b10a928d   \n",
       "1  53cdb2fc8bc7dce0b6741e2150273451  b0830fb4747a6c6d20dea0b8c802d7ef   \n",
       "2  47770eb9100c2d0c44946d9cf07ec65d  41ce2a54c0b03bf3443c3d931a367089   \n",
       "\n",
       "  order_status order_purchase_timestamp    order_approved_at  \\\n",
       "0    delivered      2017-10-02 10:56:33  2017-10-02 11:07:15   \n",
       "1    delivered      2018-07-24 20:41:37  2018-07-26 03:24:27   \n",
       "2    delivered      2018-08-08 08:38:49  2018-08-08 08:55:23   \n",
       "\n",
       "  order_delivered_carrier_date order_delivered_customer_date  \\\n",
       "0          2017-10-04 19:55:00           2017-10-10 21:25:13   \n",
       "1          2018-07-26 14:31:00           2018-08-07 15:27:45   \n",
       "2          2018-08-08 13:50:00           2018-08-17 18:06:29   \n",
       "\n",
       "  order_estimated_delivery_date  \n",
       "0           2017-10-18 00:00:00  \n",
       "1           2018-08-13 00:00:00  \n",
       "2           2018-09-04 00:00:00  "
      ]
     },
     "execution_count": 194,
     "metadata": {},
     "output_type": "execute_result"
    }
   ],
   "source": [
    "orders.head(3)"
   ]
  },
  {
   "cell_type": "code",
   "execution_count": 196,
   "metadata": {},
   "outputs": [
    {
     "data": {
      "text/html": [
       "<div>\n",
       "<style scoped>\n",
       "    .dataframe tbody tr th:only-of-type {\n",
       "        vertical-align: middle;\n",
       "    }\n",
       "\n",
       "    .dataframe tbody tr th {\n",
       "        vertical-align: top;\n",
       "    }\n",
       "\n",
       "    .dataframe thead th {\n",
       "        text-align: right;\n",
       "    }\n",
       "</style>\n",
       "<table border=\"1\" class=\"dataframe\">\n",
       "  <thead>\n",
       "    <tr style=\"text-align: right;\">\n",
       "      <th></th>\n",
       "      <th>unique values</th>\n",
       "      <th>not null values</th>\n",
       "      <th>missing values</th>\n",
       "      <th>percentage</th>\n",
       "    </tr>\n",
       "  </thead>\n",
       "  <tbody>\n",
       "    <tr>\n",
       "      <th>order_id</th>\n",
       "      <td>99441.0</td>\n",
       "      <td>99441.0</td>\n",
       "      <td>0.0</td>\n",
       "      <td>0.000000</td>\n",
       "    </tr>\n",
       "    <tr>\n",
       "      <th>customer_id</th>\n",
       "      <td>99441.0</td>\n",
       "      <td>99441.0</td>\n",
       "      <td>0.0</td>\n",
       "      <td>0.000000</td>\n",
       "    </tr>\n",
       "    <tr>\n",
       "      <th>order_status</th>\n",
       "      <td>9.0</td>\n",
       "      <td>99441.0</td>\n",
       "      <td>0.0</td>\n",
       "      <td>0.000000</td>\n",
       "    </tr>\n",
       "    <tr>\n",
       "      <th>order_purchase_timestamp</th>\n",
       "      <td>98876.0</td>\n",
       "      <td>99441.0</td>\n",
       "      <td>0.0</td>\n",
       "      <td>0.000000</td>\n",
       "    </tr>\n",
       "    <tr>\n",
       "      <th>order_approved_at</th>\n",
       "      <td>90734.0</td>\n",
       "      <td>99281.0</td>\n",
       "      <td>160.0</td>\n",
       "      <td>0.161159</td>\n",
       "    </tr>\n",
       "    <tr>\n",
       "      <th>order_delivered_carrier_date</th>\n",
       "      <td>81018.0</td>\n",
       "      <td>97658.0</td>\n",
       "      <td>1783.0</td>\n",
       "      <td>1.825759</td>\n",
       "    </tr>\n",
       "    <tr>\n",
       "      <th>order_delivered_customer_date</th>\n",
       "      <td>95664.0</td>\n",
       "      <td>96476.0</td>\n",
       "      <td>2965.0</td>\n",
       "      <td>3.073303</td>\n",
       "    </tr>\n",
       "    <tr>\n",
       "      <th>order_estimated_delivery_date</th>\n",
       "      <td>461.0</td>\n",
       "      <td>99440.0</td>\n",
       "      <td>1.0</td>\n",
       "      <td>0.001006</td>\n",
       "    </tr>\n",
       "  </tbody>\n",
       "</table>\n",
       "</div>"
      ],
      "text/plain": [
       "                               unique values  not null values  missing values  \\\n",
       "order_id                             99441.0          99441.0             0.0   \n",
       "customer_id                          99441.0          99441.0             0.0   \n",
       "order_status                             9.0          99441.0             0.0   \n",
       "order_purchase_timestamp             98876.0          99441.0             0.0   \n",
       "order_approved_at                    90734.0          99281.0           160.0   \n",
       "order_delivered_carrier_date         81018.0          97658.0          1783.0   \n",
       "order_delivered_customer_date        95664.0          96476.0          2965.0   \n",
       "order_estimated_delivery_date          461.0          99440.0             1.0   \n",
       "\n",
       "                               percentage  \n",
       "order_id                         0.000000  \n",
       "customer_id                      0.000000  \n",
       "order_status                     0.000000  \n",
       "order_purchase_timestamp         0.000000  \n",
       "order_approved_at                0.161159  \n",
       "order_delivered_carrier_date     1.825759  \n",
       "order_delivered_customer_date    3.073303  \n",
       "order_estimated_delivery_date    0.001006  "
      ]
     },
     "execution_count": 196,
     "metadata": {},
     "output_type": "execute_result"
    }
   ],
   "source": [
    "missing = pd.DataFrame( data = [ orders.nunique(),orders.notnull().sum() , orders.isna().sum() , ((orders.isna().sum()/ orders.count())*100)])\n",
    "missing.index=[ \"unique values\",\"not null values\",\"missing values\", \"percentage\"]\n",
    "missing.transpose()"
   ]
  },
  {
   "cell_type": "markdown",
   "metadata": {},
   "source": [
    "##### >> order status "
   ]
  },
  {
   "cell_type": "code",
   "execution_count": 418,
   "metadata": {},
   "outputs": [
    {
     "data": {
      "text/plain": [
       "array(['delivered', 'invoiced', 'shipped', 'processing', 'unavailable',\n",
       "       'canceled', 'created', 'approved', '2018-02-12 11:28:47'],\n",
       "      dtype=object)"
      ]
     },
     "execution_count": 418,
     "metadata": {},
     "output_type": "execute_result"
    }
   ],
   "source": [
    "#Check all different order status \n",
    "orders['order_status'].unique()"
   ]
  },
  {
   "cell_type": "code",
   "execution_count": 464,
   "metadata": {},
   "outputs": [
    {
     "data": {
      "text/html": [
       "<div>\n",
       "<style scoped>\n",
       "    .dataframe tbody tr th:only-of-type {\n",
       "        vertical-align: middle;\n",
       "    }\n",
       "\n",
       "    .dataframe tbody tr th {\n",
       "        vertical-align: top;\n",
       "    }\n",
       "\n",
       "    .dataframe thead th {\n",
       "        text-align: right;\n",
       "    }\n",
       "</style>\n",
       "<table border=\"1\" class=\"dataframe\">\n",
       "  <thead>\n",
       "    <tr style=\"text-align: right;\">\n",
       "      <th></th>\n",
       "      <th>order_id</th>\n",
       "      <th>customer_id</th>\n",
       "      <th>order_status</th>\n",
       "      <th>order_purchase_timestamp</th>\n",
       "      <th>order_approved_at</th>\n",
       "      <th>order_delivered_carrier_date</th>\n",
       "      <th>order_delivered_customer_date</th>\n",
       "      <th>order_estimated_delivery_date</th>\n",
       "      <th>order_estimated_delivery_date2</th>\n",
       "      <th>order_estimated_delivery_date_year</th>\n",
       "    </tr>\n",
       "  </thead>\n",
       "  <tbody>\n",
       "    <tr>\n",
       "      <th>73892</th>\n",
       "      <td>2d3ae8314361346376456addbeb7e5ed</td>\n",
       "      <td>99895a9b5ea7a5e7b2bd960ade35f89a</td>\n",
       "      <td>2018-02-12 11:28:47</td>\n",
       "      <td>2018-02-12 12:28:03</td>\n",
       "      <td>2018-02-14 20:17:57</td>\n",
       "      <td>2018-02-19 12:09:33</td>\n",
       "      <td>2018-03-15 00:00:00</td>\n",
       "      <td>NaN</td>\n",
       "      <td>NaN</td>\n",
       "      <td>nan</td>\n",
       "    </tr>\n",
       "  </tbody>\n",
       "</table>\n",
       "</div>"
      ],
      "text/plain": [
       "                               order_id                       customer_id  \\\n",
       "73892  2d3ae8314361346376456addbeb7e5ed  99895a9b5ea7a5e7b2bd960ade35f89a   \n",
       "\n",
       "              order_status order_purchase_timestamp    order_approved_at  \\\n",
       "73892  2018-02-12 11:28:47      2018-02-12 12:28:03  2018-02-14 20:17:57   \n",
       "\n",
       "      order_delivered_carrier_date order_delivered_customer_date  \\\n",
       "73892          2018-02-19 12:09:33           2018-03-15 00:00:00   \n",
       "\n",
       "      order_estimated_delivery_date order_estimated_delivery_date2  \\\n",
       "73892                           NaN                            NaN   \n",
       "\n",
       "      order_estimated_delivery_date_year  \n",
       "73892                                nan  "
      ]
     },
     "execution_count": 464,
     "metadata": {},
     "output_type": "execute_result"
    }
   ],
   "source": [
    "#how many wrong status exist? \n",
    "orders[orders['order_status'] == '2018-02-12 11:28:47' ]"
   ]
  },
  {
   "cell_type": "markdown",
   "metadata": {},
   "source": [
    "##### >> order_purchase_timestamp"
   ]
  },
  {
   "cell_type": "code",
   "execution_count": 454,
   "metadata": {},
   "outputs": [
    {
     "data": {
      "text/plain": [
       "array(['2017', '2018', '0000', '2016', '2077'], dtype=object)"
      ]
     },
     "execution_count": 454,
     "metadata": {},
     "output_type": "execute_result"
    }
   ],
   "source": [
    "# check dates are correct at 'order_delivered_carrier_date' \n",
    "orders['order_purchase_timestamp2']= pd.to_datetime(orders['order_purchase_timestamp'] ,errors='ignore')\n",
    "orders['order_purchase_timestamp2'].to_list()\n",
    "orders['order_purchase_timestamp_year'] = orders['order_purchase_timestamp2'].apply(lambda x: str(x)[0:4])\n",
    "orders['order_purchase_timestamp_year'].unique()"
   ]
  },
  {
   "cell_type": "code",
   "execution_count": 457,
   "metadata": {},
   "outputs": [
    {
     "data": {
      "text/html": [
       "<div>\n",
       "<style scoped>\n",
       "    .dataframe tbody tr th:only-of-type {\n",
       "        vertical-align: middle;\n",
       "    }\n",
       "\n",
       "    .dataframe tbody tr th {\n",
       "        vertical-align: top;\n",
       "    }\n",
       "\n",
       "    .dataframe thead th {\n",
       "        text-align: right;\n",
       "    }\n",
       "</style>\n",
       "<table border=\"1\" class=\"dataframe\">\n",
       "  <thead>\n",
       "    <tr style=\"text-align: right;\">\n",
       "      <th></th>\n",
       "      <th>order_id</th>\n",
       "      <th>customer_id</th>\n",
       "      <th>order_status</th>\n",
       "      <th>order_purchase_timestamp</th>\n",
       "      <th>order_approved_at</th>\n",
       "      <th>order_delivered_carrier_date</th>\n",
       "      <th>order_delivered_customer_date</th>\n",
       "      <th>order_estimated_delivery_date</th>\n",
       "      <th>order_estimated_delivery_date2</th>\n",
       "      <th>order_estimated_delivery_date_year</th>\n",
       "      <th>order_approved_at2</th>\n",
       "      <th>order_approved_at_year</th>\n",
       "      <th>order_delivered_carrier_date2</th>\n",
       "      <th>order_delivered_carrier_date_year</th>\n",
       "      <th>order_purchase_timestamp2</th>\n",
       "      <th>order_purchase_timestamp_year</th>\n",
       "    </tr>\n",
       "  </thead>\n",
       "  <tbody>\n",
       "    <tr>\n",
       "      <th>130</th>\n",
       "      <td>01855f880aae9a984c7c33b26fcf2e02</td>\n",
       "      <td>2e068340b3037f667ce3224bd59260af</td>\n",
       "      <td>delivered</td>\n",
       "      <td>0000-10-19 15:08:48</td>\n",
       "      <td>0000-10-19 15:35:35</td>\n",
       "      <td>0000-10-23 13:14:16</td>\n",
       "      <td>0000-10-24 15:57:46</td>\n",
       "      <td>0000-10-31 00:00:00</td>\n",
       "      <td>0000-10-31 00:00:00</td>\n",
       "      <td>0000</td>\n",
       "      <td>0000-10-19 15:35:35</td>\n",
       "      <td>0000</td>\n",
       "      <td>0000-10-23 13:14:16</td>\n",
       "      <td>0000</td>\n",
       "      <td>0000-10-19 15:08:48</td>\n",
       "      <td>0000</td>\n",
       "    </tr>\n",
       "    <tr>\n",
       "      <th>72442</th>\n",
       "      <td>e6a09c11fa9d7a43d90955406cab553c</td>\n",
       "      <td>ef2415ea1854ac041c3700df551dd63e</td>\n",
       "      <td>delivered</td>\n",
       "      <td>2077-08-15 07:55:36</td>\n",
       "      <td>2077-08-15 08:05:24</td>\n",
       "      <td>2077-08-17 15:31:03</td>\n",
       "      <td>2077-08-23 18:10:27</td>\n",
       "      <td>2077-09-04 00:00:00</td>\n",
       "      <td>2077-09-04 00:00:00</td>\n",
       "      <td>2077</td>\n",
       "      <td>2077-08-15 08:05:24</td>\n",
       "      <td>2077</td>\n",
       "      <td>2077-08-17 15:31:03</td>\n",
       "      <td>2077</td>\n",
       "      <td>2077-08-15 07:55:36</td>\n",
       "      <td>2077</td>\n",
       "    </tr>\n",
       "  </tbody>\n",
       "</table>\n",
       "</div>"
      ],
      "text/plain": [
       "                               order_id                       customer_id  \\\n",
       "130    01855f880aae9a984c7c33b26fcf2e02  2e068340b3037f667ce3224bd59260af   \n",
       "72442  e6a09c11fa9d7a43d90955406cab553c  ef2415ea1854ac041c3700df551dd63e   \n",
       "\n",
       "      order_status order_purchase_timestamp    order_approved_at  \\\n",
       "130      delivered      0000-10-19 15:08:48  0000-10-19 15:35:35   \n",
       "72442    delivered      2077-08-15 07:55:36  2077-08-15 08:05:24   \n",
       "\n",
       "      order_delivered_carrier_date order_delivered_customer_date  \\\n",
       "130            0000-10-23 13:14:16           0000-10-24 15:57:46   \n",
       "72442          2077-08-17 15:31:03           2077-08-23 18:10:27   \n",
       "\n",
       "      order_estimated_delivery_date order_estimated_delivery_date2  \\\n",
       "130             0000-10-31 00:00:00            0000-10-31 00:00:00   \n",
       "72442           2077-09-04 00:00:00            2077-09-04 00:00:00   \n",
       "\n",
       "      order_estimated_delivery_date_year   order_approved_at2  \\\n",
       "130                                 0000  0000-10-19 15:35:35   \n",
       "72442                               2077  2077-08-15 08:05:24   \n",
       "\n",
       "      order_approved_at_year order_delivered_carrier_date2  \\\n",
       "130                     0000           0000-10-23 13:14:16   \n",
       "72442                   2077           2077-08-17 15:31:03   \n",
       "\n",
       "      order_delivered_carrier_date_year order_purchase_timestamp2  \\\n",
       "130                                0000       0000-10-19 15:08:48   \n",
       "72442                              2077       2077-08-15 07:55:36   \n",
       "\n",
       "      order_purchase_timestamp_year  \n",
       "130                            0000  \n",
       "72442                          2077  "
      ]
     },
     "execution_count": 457,
     "metadata": {},
     "output_type": "execute_result"
    }
   ],
   "source": [
    "#how many 'order_purchase_timestamp_year' are wrong? \n",
    "m1 = (orders['order_purchase_timestamp_year'] == '2077') | (orders['order_purchase_timestamp_year'] == 'nan') | (orders['order_purchase_timestamp_year'] == '0000')\n",
    "orders[m1 ]"
   ]
  },
  {
   "cell_type": "markdown",
   "metadata": {},
   "source": [
    "##### >> order_estimated_delivery_date"
   ]
  },
  {
   "cell_type": "code",
   "execution_count": 460,
   "metadata": {},
   "outputs": [
    {
     "data": {
      "text/plain": [
       "array(['2017', '2018', '0000', '2016', '2077', 'nan'], dtype=object)"
      ]
     },
     "execution_count": 460,
     "metadata": {},
     "output_type": "execute_result"
    }
   ],
   "source": [
    "# get all the date years and check data \n",
    "orders['order_estimated_delivery_date2']= pd.to_datetime(orders['order_estimated_delivery_date'] ,errors='ignore')\n",
    "orders['order_estimated_delivery_date2'].to_list()\n",
    "orders['order_estimated_delivery_date_year'] = orders['order_estimated_delivery_date2'].apply(lambda x: str(x)[0:4])\n",
    "orders['order_estimated_delivery_date_year'].unique()"
   ]
  },
  {
   "cell_type": "code",
   "execution_count": 461,
   "metadata": {},
   "outputs": [
    {
     "data": {
      "text/html": [
       "<div>\n",
       "<style scoped>\n",
       "    .dataframe tbody tr th:only-of-type {\n",
       "        vertical-align: middle;\n",
       "    }\n",
       "\n",
       "    .dataframe tbody tr th {\n",
       "        vertical-align: top;\n",
       "    }\n",
       "\n",
       "    .dataframe thead th {\n",
       "        text-align: right;\n",
       "    }\n",
       "</style>\n",
       "<table border=\"1\" class=\"dataframe\">\n",
       "  <thead>\n",
       "    <tr style=\"text-align: right;\">\n",
       "      <th></th>\n",
       "      <th>order_id</th>\n",
       "      <th>customer_id</th>\n",
       "      <th>order_status</th>\n",
       "      <th>order_purchase_timestamp</th>\n",
       "      <th>order_approved_at</th>\n",
       "      <th>order_delivered_carrier_date</th>\n",
       "      <th>order_delivered_customer_date</th>\n",
       "      <th>order_estimated_delivery_date</th>\n",
       "      <th>order_estimated_delivery_date2</th>\n",
       "      <th>order_estimated_delivery_date_year</th>\n",
       "    </tr>\n",
       "  </thead>\n",
       "  <tbody>\n",
       "    <tr>\n",
       "      <th>130</th>\n",
       "      <td>01855f880aae9a984c7c33b26fcf2e02</td>\n",
       "      <td>2e068340b3037f667ce3224bd59260af</td>\n",
       "      <td>delivered</td>\n",
       "      <td>0000-10-19 15:08:48</td>\n",
       "      <td>0000-10-19 15:35:35</td>\n",
       "      <td>0000-10-23 13:14:16</td>\n",
       "      <td>0000-10-24 15:57:46</td>\n",
       "      <td>0000-10-31 00:00:00</td>\n",
       "      <td>0000-10-31 00:00:00</td>\n",
       "      <td>0000</td>\n",
       "    </tr>\n",
       "    <tr>\n",
       "      <th>72442</th>\n",
       "      <td>e6a09c11fa9d7a43d90955406cab553c</td>\n",
       "      <td>ef2415ea1854ac041c3700df551dd63e</td>\n",
       "      <td>delivered</td>\n",
       "      <td>2077-08-15 07:55:36</td>\n",
       "      <td>2077-08-15 08:05:24</td>\n",
       "      <td>2077-08-17 15:31:03</td>\n",
       "      <td>2077-08-23 18:10:27</td>\n",
       "      <td>2077-09-04 00:00:00</td>\n",
       "      <td>2077-09-04 00:00:00</td>\n",
       "      <td>2077</td>\n",
       "    </tr>\n",
       "    <tr>\n",
       "      <th>73892</th>\n",
       "      <td>2d3ae8314361346376456addbeb7e5ed</td>\n",
       "      <td>99895a9b5ea7a5e7b2bd960ade35f89a</td>\n",
       "      <td>2018-02-12 11:28:47</td>\n",
       "      <td>2018-02-12 12:28:03</td>\n",
       "      <td>2018-02-14 20:17:57</td>\n",
       "      <td>2018-02-19 12:09:33</td>\n",
       "      <td>2018-03-15 00:00:00</td>\n",
       "      <td>NaN</td>\n",
       "      <td>NaN</td>\n",
       "      <td>nan</td>\n",
       "    </tr>\n",
       "  </tbody>\n",
       "</table>\n",
       "</div>"
      ],
      "text/plain": [
       "                               order_id                       customer_id  \\\n",
       "130    01855f880aae9a984c7c33b26fcf2e02  2e068340b3037f667ce3224bd59260af   \n",
       "72442  e6a09c11fa9d7a43d90955406cab553c  ef2415ea1854ac041c3700df551dd63e   \n",
       "73892  2d3ae8314361346376456addbeb7e5ed  99895a9b5ea7a5e7b2bd960ade35f89a   \n",
       "\n",
       "              order_status order_purchase_timestamp    order_approved_at  \\\n",
       "130              delivered      0000-10-19 15:08:48  0000-10-19 15:35:35   \n",
       "72442            delivered      2077-08-15 07:55:36  2077-08-15 08:05:24   \n",
       "73892  2018-02-12 11:28:47      2018-02-12 12:28:03  2018-02-14 20:17:57   \n",
       "\n",
       "      order_delivered_carrier_date order_delivered_customer_date  \\\n",
       "130            0000-10-23 13:14:16           0000-10-24 15:57:46   \n",
       "72442          2077-08-17 15:31:03           2077-08-23 18:10:27   \n",
       "73892          2018-02-19 12:09:33           2018-03-15 00:00:00   \n",
       "\n",
       "      order_estimated_delivery_date order_estimated_delivery_date2  \\\n",
       "130             0000-10-31 00:00:00            0000-10-31 00:00:00   \n",
       "72442           2077-09-04 00:00:00            2077-09-04 00:00:00   \n",
       "73892                           NaN                            NaN   \n",
       "\n",
       "      order_estimated_delivery_date_year  \n",
       "130                                 0000  \n",
       "72442                               2077  \n",
       "73892                                nan  "
      ]
     },
     "execution_count": 461,
     "metadata": {},
     "output_type": "execute_result"
    }
   ],
   "source": [
    "orders[(orders['order_estimated_delivery_date_year'] == '2077') | (orders['order_estimated_delivery_date_year'] == 'nan') | (orders['order_estimated_delivery_date_year'] == '0000')]"
   ]
  },
  {
   "cell_type": "markdown",
   "metadata": {},
   "source": [
    "\n",
    "#### Observations :\n",
    ">1) There are several missing values, however the main col 'order_id' and 'customer_id' have no missing values.\n",
    ">2) Typo:  row = 73892 wrong order_status, and delivery date missing.\n",
    ">3) Typo:  row = 72442 has the wrong year, it cant be delivered already in year 2077.\n",
    ">4) Typo:  row = 130 th eyear is missing in all colls.\n"
   ]
  },
  {
   "cell_type": "markdown",
   "metadata": {},
   "source": [
    "\n",
    "\n",
    "\n",
    "---\n"
   ]
  },
  {
   "cell_type": "markdown",
   "metadata": {},
   "source": [
    "## d. Products"
   ]
  },
  {
   "cell_type": "markdown",
   "metadata": {},
   "source": [
    "*For this data set we are only interested in the* **product_id** * and **product_weight_g**  "
   ]
  },
  {
   "cell_type": "code",
   "execution_count": 471,
   "metadata": {},
   "outputs": [
    {
     "data": {
      "text/html": [
       "<div>\n",
       "<style scoped>\n",
       "    .dataframe tbody tr th:only-of-type {\n",
       "        vertical-align: middle;\n",
       "    }\n",
       "\n",
       "    .dataframe tbody tr th {\n",
       "        vertical-align: top;\n",
       "    }\n",
       "\n",
       "    .dataframe thead th {\n",
       "        text-align: right;\n",
       "    }\n",
       "</style>\n",
       "<table border=\"1\" class=\"dataframe\">\n",
       "  <thead>\n",
       "    <tr style=\"text-align: right;\">\n",
       "      <th></th>\n",
       "      <th>product_id</th>\n",
       "      <th>product_category_name</th>\n",
       "      <th>product_name_lenght</th>\n",
       "      <th>product_description_lenght</th>\n",
       "      <th>product_photos_qty</th>\n",
       "      <th>product_weight_g</th>\n",
       "      <th>product_length_cm</th>\n",
       "      <th>product_height_cm</th>\n",
       "      <th>product_width_cm</th>\n",
       "      <th>product_category_name_english</th>\n",
       "    </tr>\n",
       "  </thead>\n",
       "  <tbody>\n",
       "    <tr>\n",
       "      <th>0</th>\n",
       "      <td>1e9e8ef04dbcff4541ed26657ea517e5</td>\n",
       "      <td>perfumery</td>\n",
       "      <td>40.0</td>\n",
       "      <td>287.0</td>\n",
       "      <td>1.0</td>\n",
       "      <td>225.0</td>\n",
       "      <td>16.0</td>\n",
       "      <td>10.0</td>\n",
       "      <td>14.0</td>\n",
       "      <td>perfumery</td>\n",
       "    </tr>\n",
       "    <tr>\n",
       "      <th>1</th>\n",
       "      <td>3aa071139cb16b67ca9e5dea641aaa2f</td>\n",
       "      <td>art</td>\n",
       "      <td>44.0</td>\n",
       "      <td>276.0</td>\n",
       "      <td>1.0</td>\n",
       "      <td>1000.0</td>\n",
       "      <td>30.0</td>\n",
       "      <td>18.0</td>\n",
       "      <td>20.0</td>\n",
       "      <td>art</td>\n",
       "    </tr>\n",
       "    <tr>\n",
       "      <th>2</th>\n",
       "      <td>96bd76ec8810374ed1b65e291975717f</td>\n",
       "      <td>sports_leisure</td>\n",
       "      <td>46.0</td>\n",
       "      <td>250.0</td>\n",
       "      <td>1.0</td>\n",
       "      <td>154.0</td>\n",
       "      <td>18.0</td>\n",
       "      <td>9.0</td>\n",
       "      <td>15.0</td>\n",
       "      <td>sports_leisure</td>\n",
       "    </tr>\n",
       "  </tbody>\n",
       "</table>\n",
       "</div>"
      ],
      "text/plain": [
       "                         product_id product_category_name  \\\n",
       "0  1e9e8ef04dbcff4541ed26657ea517e5             perfumery   \n",
       "1  3aa071139cb16b67ca9e5dea641aaa2f                   art   \n",
       "2  96bd76ec8810374ed1b65e291975717f        sports_leisure   \n",
       "\n",
       "   product_name_lenght  product_description_lenght  product_photos_qty  \\\n",
       "0                 40.0                       287.0                 1.0   \n",
       "1                 44.0                       276.0                 1.0   \n",
       "2                 46.0                       250.0                 1.0   \n",
       "\n",
       "   product_weight_g  product_length_cm  product_height_cm  product_width_cm  \\\n",
       "0             225.0               16.0               10.0              14.0   \n",
       "1            1000.0               30.0               18.0              20.0   \n",
       "2             154.0               18.0                9.0              15.0   \n",
       "\n",
       "  product_category_name_english  \n",
       "0                     perfumery  \n",
       "1                           art  \n",
       "2                sports_leisure  "
      ]
     },
     "execution_count": 471,
     "metadata": {},
     "output_type": "execute_result"
    }
   ],
   "source": [
    "products.head(3)"
   ]
  },
  {
   "cell_type": "code",
   "execution_count": 479,
   "metadata": {},
   "outputs": [
    {
     "data": {
      "text/html": [
       "<div>\n",
       "<style scoped>\n",
       "    .dataframe tbody tr th:only-of-type {\n",
       "        vertical-align: middle;\n",
       "    }\n",
       "\n",
       "    .dataframe tbody tr th {\n",
       "        vertical-align: top;\n",
       "    }\n",
       "\n",
       "    .dataframe thead th {\n",
       "        text-align: right;\n",
       "    }\n",
       "</style>\n",
       "<table border=\"1\" class=\"dataframe\">\n",
       "  <thead>\n",
       "    <tr style=\"text-align: right;\">\n",
       "      <th></th>\n",
       "      <th>unique values</th>\n",
       "      <th>not null values</th>\n",
       "      <th>missing values</th>\n",
       "      <th>percentage</th>\n",
       "    </tr>\n",
       "  </thead>\n",
       "  <tbody>\n",
       "    <tr>\n",
       "      <th>product_id</th>\n",
       "      <td>32952.0</td>\n",
       "      <td>32952.0</td>\n",
       "      <td>0.0</td>\n",
       "      <td>0.000000</td>\n",
       "    </tr>\n",
       "    <tr>\n",
       "      <th>product_category_name</th>\n",
       "      <td>71.0</td>\n",
       "      <td>32328.0</td>\n",
       "      <td>624.0</td>\n",
       "      <td>1.930215</td>\n",
       "    </tr>\n",
       "    <tr>\n",
       "      <th>product_name_lenght</th>\n",
       "      <td>66.0</td>\n",
       "      <td>32341.0</td>\n",
       "      <td>611.0</td>\n",
       "      <td>1.889243</td>\n",
       "    </tr>\n",
       "    <tr>\n",
       "      <th>product_description_lenght</th>\n",
       "      <td>2960.0</td>\n",
       "      <td>32341.0</td>\n",
       "      <td>611.0</td>\n",
       "      <td>1.889243</td>\n",
       "    </tr>\n",
       "    <tr>\n",
       "      <th>product_photos_qty</th>\n",
       "      <td>20.0</td>\n",
       "      <td>32342.0</td>\n",
       "      <td>610.0</td>\n",
       "      <td>1.886092</td>\n",
       "    </tr>\n",
       "    <tr>\n",
       "      <th>product_weight_g</th>\n",
       "      <td>2205.0</td>\n",
       "      <td>32950.0</td>\n",
       "      <td>2.0</td>\n",
       "      <td>0.006070</td>\n",
       "    </tr>\n",
       "    <tr>\n",
       "      <th>product_length_cm</th>\n",
       "      <td>99.0</td>\n",
       "      <td>32950.0</td>\n",
       "      <td>2.0</td>\n",
       "      <td>0.006070</td>\n",
       "    </tr>\n",
       "    <tr>\n",
       "      <th>product_height_cm</th>\n",
       "      <td>102.0</td>\n",
       "      <td>32950.0</td>\n",
       "      <td>2.0</td>\n",
       "      <td>0.006070</td>\n",
       "    </tr>\n",
       "    <tr>\n",
       "      <th>product_width_cm</th>\n",
       "      <td>95.0</td>\n",
       "      <td>32949.0</td>\n",
       "      <td>3.0</td>\n",
       "      <td>0.009105</td>\n",
       "    </tr>\n",
       "    <tr>\n",
       "      <th>product_category_name_english</th>\n",
       "      <td>71.0</td>\n",
       "      <td>32328.0</td>\n",
       "      <td>624.0</td>\n",
       "      <td>1.930215</td>\n",
       "    </tr>\n",
       "  </tbody>\n",
       "</table>\n",
       "</div>"
      ],
      "text/plain": [
       "                               unique values  not null values  missing values  \\\n",
       "product_id                           32952.0          32952.0             0.0   \n",
       "product_category_name                   71.0          32328.0           624.0   \n",
       "product_name_lenght                     66.0          32341.0           611.0   \n",
       "product_description_lenght            2960.0          32341.0           611.0   \n",
       "product_photos_qty                      20.0          32342.0           610.0   \n",
       "product_weight_g                      2205.0          32950.0             2.0   \n",
       "product_length_cm                       99.0          32950.0             2.0   \n",
       "product_height_cm                      102.0          32950.0             2.0   \n",
       "product_width_cm                        95.0          32949.0             3.0   \n",
       "product_category_name_english           71.0          32328.0           624.0   \n",
       "\n",
       "                               percentage  \n",
       "product_id                       0.000000  \n",
       "product_category_name            1.930215  \n",
       "product_name_lenght              1.889243  \n",
       "product_description_lenght       1.889243  \n",
       "product_photos_qty               1.886092  \n",
       "product_weight_g                 0.006070  \n",
       "product_length_cm                0.006070  \n",
       "product_height_cm                0.006070  \n",
       "product_width_cm                 0.009105  \n",
       "product_category_name_english    1.930215  "
      ]
     },
     "execution_count": 479,
     "metadata": {},
     "output_type": "execute_result"
    }
   ],
   "source": [
    "missing = pd.DataFrame( data = [ products.nunique(),products.notnull().sum() , products.isna().sum() , ((products.isna().sum()/ products.count())*100)])\n",
    "missing.index=[ \"unique values\",\"not null values\",\"missing values\", \"percentage\"]\n",
    "missing.transpose()"
   ]
  },
  {
   "cell_type": "code",
   "execution_count": 487,
   "metadata": {},
   "outputs": [
    {
     "data": {
      "text/html": [
       "<div>\n",
       "<style scoped>\n",
       "    .dataframe tbody tr th:only-of-type {\n",
       "        vertical-align: middle;\n",
       "    }\n",
       "\n",
       "    .dataframe tbody tr th {\n",
       "        vertical-align: top;\n",
       "    }\n",
       "\n",
       "    .dataframe thead th {\n",
       "        text-align: right;\n",
       "    }\n",
       "</style>\n",
       "<table border=\"1\" class=\"dataframe\">\n",
       "  <thead>\n",
       "    <tr style=\"text-align: right;\">\n",
       "      <th></th>\n",
       "      <th>product_id</th>\n",
       "      <th>product_category_name</th>\n",
       "      <th>product_name_lenght</th>\n",
       "      <th>product_description_lenght</th>\n",
       "      <th>product_photos_qty</th>\n",
       "      <th>product_weight_g</th>\n",
       "      <th>product_length_cm</th>\n",
       "      <th>product_height_cm</th>\n",
       "      <th>product_width_cm</th>\n",
       "      <th>product_category_name_english</th>\n",
       "    </tr>\n",
       "  </thead>\n",
       "  <tbody>\n",
       "    <tr>\n",
       "      <th>8579</th>\n",
       "      <td>09ff539a621711667c43eba6a3bd8466</td>\n",
       "      <td>baby</td>\n",
       "      <td>60.0</td>\n",
       "      <td>865.0</td>\n",
       "      <td>3.0</td>\n",
       "      <td>NaN</td>\n",
       "      <td>NaN</td>\n",
       "      <td>NaN</td>\n",
       "      <td>NaN</td>\n",
       "      <td>baby</td>\n",
       "    </tr>\n",
       "    <tr>\n",
       "      <th>18852</th>\n",
       "      <td>5eb564652db742ff8f28759cd8d2652a</td>\n",
       "      <td>NaN</td>\n",
       "      <td>NaN</td>\n",
       "      <td>NaN</td>\n",
       "      <td>NaN</td>\n",
       "      <td>NaN</td>\n",
       "      <td>NaN</td>\n",
       "      <td>NaN</td>\n",
       "      <td>NaN</td>\n",
       "      <td>NaN</td>\n",
       "    </tr>\n",
       "  </tbody>\n",
       "</table>\n",
       "</div>"
      ],
      "text/plain": [
       "                             product_id product_category_name  \\\n",
       "8579   09ff539a621711667c43eba6a3bd8466                  baby   \n",
       "18852  5eb564652db742ff8f28759cd8d2652a                   NaN   \n",
       "\n",
       "       product_name_lenght  product_description_lenght  product_photos_qty  \\\n",
       "8579                  60.0                       865.0                 3.0   \n",
       "18852                  NaN                         NaN                 NaN   \n",
       "\n",
       "       product_weight_g  product_length_cm  product_height_cm  \\\n",
       "8579                NaN                NaN                NaN   \n",
       "18852               NaN                NaN                NaN   \n",
       "\n",
       "       product_width_cm product_category_name_english  \n",
       "8579                NaN                          baby  \n",
       "18852               NaN                           NaN  "
      ]
     },
     "execution_count": 487,
     "metadata": {},
     "output_type": "execute_result"
    }
   ],
   "source": [
    "products[products['product_weight_g'].isna()]"
   ]
  },
  {
   "cell_type": "code",
   "execution_count": 627,
   "metadata": {},
   "outputs": [
    {
     "data": {
      "text/plain": [
       "0.0"
      ]
     },
     "execution_count": 627,
     "metadata": {},
     "output_type": "execute_result"
    }
   ],
   "source": [
    "#besides the 2 mising values showned before lets check other values and negative ones\n",
    "products['product_weight_g'].apply(pd.to_numeric, errors='raise').min()"
   ]
  },
  {
   "cell_type": "code",
   "execution_count": 557,
   "metadata": {},
   "outputs": [
    {
     "data": {
      "text/plain": [
       "product_id                       09ff539a621711667c43eba6a3bd8466\n",
       "product_category_name                                        baby\n",
       "product_name_lenght                                            60\n",
       "product_description_lenght                                    865\n",
       "product_photos_qty                                              3\n",
       "product_weight_g                                              NaN\n",
       "product_length_cm                                             NaN\n",
       "product_height_cm                                             NaN\n",
       "product_width_cm                                              NaN\n",
       "product_category_name_english                                baby\n",
       "test                                                          NaN\n",
       "Name: 8579, dtype: object"
      ]
     },
     "execution_count": 557,
     "metadata": {},
     "output_type": "execute_result"
    }
   ],
   "source": [
    "products.iloc[8579] "
   ]
  },
  {
   "cell_type": "markdown",
   "metadata": {},
   "source": [
    "\n",
    "#### Observations :\n",
    ">1) There are several missing values, however the main col 'order_id' and 'customer_id' have no missing values.\n",
    ">2) Typo:  row = 73892 wrong order_status, and delivery date missing.\n",
    ">3) Typo:  row = 72442 has the wrong year, it cant be delivered already in year 2077.\n",
    ">4) Typo:  row = 130 th eyear is missing in all colls."
   ]
  },
  {
   "cell_type": "markdown",
   "metadata": {},
   "source": [
    "---\n",
    "---"
   ]
  },
  {
   "cell_type": "markdown",
   "metadata": {},
   "source": [
    "## EXTRA - Small analysis on the data"
   ]
  },
  {
   "cell_type": "markdown",
   "metadata": {},
   "source": [
    "## Customers"
   ]
  },
  {
   "cell_type": "code",
   "execution_count": 415,
   "metadata": {},
   "outputs": [
    {
     "name": "stdout",
     "output_type": "stream",
     "text": [
      "customer_city\n",
      "sao paulo         15540\n",
      "rio de janeiro     6882\n",
      "belo horizonte     2773\n",
      "brasilia           2131\n",
      "curitiba           1521\n",
      "Name: customer_id, dtype: int64 \n",
      "---\n",
      " count     4119.000000\n",
      "mean        24.142025\n",
      "std        279.272382\n",
      "min          1.000000\n",
      "25%          1.000000\n",
      "50%          3.000000\n",
      "75%          9.000000\n",
      "max      15540.000000\n",
      "Name: customer_id, dtype: float64 \n",
      "---\n"
     ]
    }
   ],
   "source": [
    "#Get top 5 Cities \n",
    "customer_count = customer.groupby('customer_city').count()['customer_id'].sort_values(ascending=False).head(5)\n",
    "\n",
    "# checking the cities distribution\n",
    "print(customer_count,'\\n---\\n', customer.groupby('customer_city').count()['customer_id'].describe(),'\\n---')\n"
   ]
  },
  {
   "cell_type": "markdown",
   "metadata": {},
   "source": [
    ">High concentration of customers on top cities (example : Sao Paulo 15.6%)."
   ]
  },
  {
   "cell_type": "markdown",
   "metadata": {},
   "source": [
    "## Items"
   ]
  },
  {
   "cell_type": "code",
   "execution_count": 326,
   "metadata": {},
   "outputs": [
    {
     "data": {
      "text/plain": [
       "count    112650.000000\n",
       "mean        120.653739\n",
       "std         183.633928\n",
       "min           0.850000\n",
       "25%          39.900000\n",
       "50%          74.990000\n",
       "75%         134.900000\n",
       "max        6735.000000\n",
       "Name: price, dtype: float64"
      ]
     },
     "execution_count": 326,
     "metadata": {},
     "output_type": "execute_result"
    }
   ],
   "source": [
    "items['price'].describe()"
   ]
  },
  {
   "cell_type": "code",
   "execution_count": 350,
   "metadata": {},
   "outputs": [
    {
     "name": "stdout",
     "output_type": "stream",
     "text": [
      "6.158011540168664\n",
      "3.762982689747004\n",
      "2.854860186418109\n",
      "2.0550377274744784\n"
     ]
    }
   ],
   "source": [
    "for x in [300,400,500,600]:\n",
    "    print(items[items['price']>x].count()[0]/112650*100)"
   ]
  },
  {
   "cell_type": "code",
   "execution_count": 347,
   "metadata": {},
   "outputs": [
    {
     "data": {
      "text/plain": [
       "6.158011540168664"
      ]
     },
     "execution_count": 347,
     "metadata": {},
     "output_type": "execute_result"
    }
   ],
   "source": [
    "6937/112650*100"
   ]
  },
  {
   "cell_type": "code",
   "execution_count": 338,
   "metadata": {},
   "outputs": [
    {
     "data": {
      "text/plain": [
       "<matplotlib.axes._subplots.AxesSubplot at 0x1dd53f302c8>"
      ]
     },
     "execution_count": 338,
     "metadata": {},
     "output_type": "execute_result"
    },
    {
     "data": {
      "image/png": "[encoded data removed]",
      "text/plain": [
       "<Figure size 432x288 with 1 Axes>"
      ]
     },
     "metadata": {
      "needs_background": "light"
     },
     "output_type": "display_data"
    }
   ],
   "source": [
    "pd.DataFrame(np.sort(items['price'])).plot()"
   ]
  },
  {
   "cell_type": "markdown",
   "metadata": {},
   "source": [
    "> There is a tiny amount of price outliers. Only 6% of products are over 300 in price."
   ]
  },
  {
   "cell_type": "code",
   "execution_count": 171,
   "metadata": {},
   "outputs": [
    {
     "data": {
      "text/plain": [
       "(   counts  prod_cum_sum    prod_%  prod_cum_%\n",
       " 0     527           527  0.467821    0.467821\n",
       " 1     488          1015  0.433200    0.901021\n",
       " 2     484          1499  0.429649    1.330670,\n",
       "        counts  prod_cum_sum    prod_%  prod_cum_%\n",
       " 32948       1        112648  0.000888   99.998225\n",
       " 32949       1        112649  0.000888   99.999112\n",
       " 32950       1        112650  0.000888  100.000000)"
      ]
     },
     "execution_count": 171,
     "metadata": {},
     "output_type": "execute_result"
    }
   ],
   "source": [
    "itemdf= pd.DataFrame(items.groupby('product_id').count()['order_id'].sort_values(ascending=False)) #count products + sort from most used to least\n",
    "itemdf['prod_cum_sum']=items.groupby('product_id').count()['order_id'].sort_values(ascending=False).cumsum() #add a cumulative sum col\n",
    "itemdf['prod_%']=items.groupby('product_id').count()['order_id'].sort_values(ascending=False)/112650 *100 #with percentage\n",
    "itemdf['prod_cum_%']=itemdf['prod_%'].cumsum() #%cumulative sum\n",
    "itemdf.reset_index(level=0, inplace=True) #take out the prod_id and replace for 0,1,2..\n",
    "itemdf['counts'] = itemdf['order_id'] # change the name to counts\n",
    "itemdf.drop(['product_id','order_id'], axis =1, inplace=True) # drop the unused cols\n",
    "itemdf = itemdf.reindex(columns=['counts','prod_cum_sum', 'prod_%', 'prod_cum_%']) # order columns\n",
    "itemdf.head(3), itemdf.head(3) "
   ]
  },
  {
   "cell_type": "code",
   "execution_count": 325,
   "metadata": {},
   "outputs": [
    {
     "data": {
      "text/html": [
       "<div>\n",
       "<style scoped>\n",
       "    .dataframe tbody tr th:only-of-type {\n",
       "        vertical-align: middle;\n",
       "    }\n",
       "\n",
       "    .dataframe tbody tr th {\n",
       "        vertical-align: top;\n",
       "    }\n",
       "\n",
       "    .dataframe thead th {\n",
       "        text-align: right;\n",
       "    }\n",
       "</style>\n",
       "<table border=\"1\" class=\"dataframe\">\n",
       "  <thead>\n",
       "    <tr style=\"text-align: right;\">\n",
       "      <th></th>\n",
       "      <th>counts</th>\n",
       "      <th>prod_cum_sum</th>\n",
       "      <th>prod_%</th>\n",
       "      <th>prod_cum_%</th>\n",
       "    </tr>\n",
       "  </thead>\n",
       "  <tbody>\n",
       "    <tr>\n",
       "      <th>4587</th>\n",
       "      <td>5</td>\n",
       "      <td>67590</td>\n",
       "      <td>0.004439</td>\n",
       "      <td>60.0</td>\n",
       "    </tr>\n",
       "  </tbody>\n",
       "</table>\n",
       "</div>"
      ],
      "text/plain": [
       "      counts  prod_cum_sum    prod_%  prod_cum_%\n",
       "4587       5         67590  0.004439        60.0"
      ]
     },
     "execution_count": 325,
     "metadata": {},
     "output_type": "execute_result"
    }
   ],
   "source": [
    "itemdf[itemdf['prod_cum_%']>60].head(1)"
   ]
  },
  {
   "cell_type": "code",
   "execution_count": 180,
   "metadata": {},
   "outputs": [
    {
     "data": {
      "text/plain": [
       "<matplotlib.axes._subplots.AxesSubplot at 0x1dd525fccc8>"
      ]
     },
     "execution_count": 180,
     "metadata": {},
     "output_type": "execute_result"
    },
    {
     "data": {
      "image/png": "[encoded data removed]",
      "text/plain": [
       "<Figure size 432x288 with 1 Axes>"
      ]
     },
     "metadata": {
      "needs_background": "light"
     },
     "output_type": "display_data"
    }
   ],
   "source": [
    " itemdf['prod_cum_%'].plot()"
   ]
  },
  {
   "cell_type": "markdown",
   "metadata": {},
   "source": [
    "> Pareto: The vast mayority of orders are from a small amount of products ( 14% of products make more than 60% of all orders)"
   ]
  },
  {
   "cell_type": "markdown",
   "metadata": {},
   "source": [
    "## Orders"
   ]
  },
  {
   "cell_type": "code",
   "execution_count": 463,
   "metadata": {},
   "outputs": [
    {
     "data": {
      "text/html": [
       "<div>\n",
       "<style scoped>\n",
       "    .dataframe tbody tr th:only-of-type {\n",
       "        vertical-align: middle;\n",
       "    }\n",
       "\n",
       "    .dataframe tbody tr th {\n",
       "        vertical-align: top;\n",
       "    }\n",
       "\n",
       "    .dataframe thead th {\n",
       "        text-align: right;\n",
       "    }\n",
       "</style>\n",
       "<table border=\"1\" class=\"dataframe\">\n",
       "  <thead>\n",
       "    <tr style=\"text-align: right;\">\n",
       "      <th></th>\n",
       "      <th>order_id</th>\n",
       "      <th>customer_id</th>\n",
       "      <th>order_status</th>\n",
       "      <th>order_purchase_timestamp</th>\n",
       "      <th>order_approved_at</th>\n",
       "      <th>order_delivered_carrier_date</th>\n",
       "      <th>order_delivered_customer_date</th>\n",
       "      <th>order_estimated_delivery_date</th>\n",
       "      <th>order_estimated_delivery_date2</th>\n",
       "      <th>order_estimated_delivery_date_year</th>\n",
       "    </tr>\n",
       "  </thead>\n",
       "  <tbody>\n",
       "    <tr>\n",
       "      <th>5323</th>\n",
       "      <td>e04abd8149ef81b95221e88f6ed9ab6a</td>\n",
       "      <td>2127dc6603ac33544953ef05ec155771</td>\n",
       "      <td>delivered</td>\n",
       "      <td>2017-02-18 14:40:00</td>\n",
       "      <td>NaN</td>\n",
       "      <td>2017-02-23 12:04:47</td>\n",
       "      <td>2017-03-01 13:25:33</td>\n",
       "      <td>2017-03-17 00:00:00</td>\n",
       "      <td>2017-03-17 00:00:00</td>\n",
       "      <td>2017</td>\n",
       "    </tr>\n",
       "    <tr>\n",
       "      <th>16567</th>\n",
       "      <td>8a9adc69528e1001fc68dd0aaebbb54a</td>\n",
       "      <td>4c1ccc74e00993733742a3c786dc3c1f</td>\n",
       "      <td>delivered</td>\n",
       "      <td>2017-02-18 12:45:31</td>\n",
       "      <td>NaN</td>\n",
       "      <td>2017-02-23 09:01:52</td>\n",
       "      <td>2017-03-02 10:05:06</td>\n",
       "      <td>2017-03-21 00:00:00</td>\n",
       "      <td>2017-03-21 00:00:00</td>\n",
       "      <td>2017</td>\n",
       "    </tr>\n",
       "    <tr>\n",
       "      <th>19031</th>\n",
       "      <td>7013bcfc1c97fe719a7b5e05e61c12db</td>\n",
       "      <td>2941af76d38100e0f8740a374f1a5dc3</td>\n",
       "      <td>delivered</td>\n",
       "      <td>2017-02-18 13:29:47</td>\n",
       "      <td>NaN</td>\n",
       "      <td>2017-02-22 16:25:25</td>\n",
       "      <td>2017-03-01 08:07:38</td>\n",
       "      <td>2017-03-17 00:00:00</td>\n",
       "      <td>2017-03-17 00:00:00</td>\n",
       "      <td>2017</td>\n",
       "    </tr>\n",
       "  </tbody>\n",
       "</table>\n",
       "</div>"
      ],
      "text/plain": [
       "                               order_id                       customer_id  \\\n",
       "5323   e04abd8149ef81b95221e88f6ed9ab6a  2127dc6603ac33544953ef05ec155771   \n",
       "16567  8a9adc69528e1001fc68dd0aaebbb54a  4c1ccc74e00993733742a3c786dc3c1f   \n",
       "19031  7013bcfc1c97fe719a7b5e05e61c12db  2941af76d38100e0f8740a374f1a5dc3   \n",
       "\n",
       "      order_status order_purchase_timestamp order_approved_at  \\\n",
       "5323     delivered      2017-02-18 14:40:00               NaN   \n",
       "16567    delivered      2017-02-18 12:45:31               NaN   \n",
       "19031    delivered      2017-02-18 13:29:47               NaN   \n",
       "\n",
       "      order_delivered_carrier_date order_delivered_customer_date  \\\n",
       "5323           2017-02-23 12:04:47           2017-03-01 13:25:33   \n",
       "16567          2017-02-23 09:01:52           2017-03-02 10:05:06   \n",
       "19031          2017-02-22 16:25:25           2017-03-01 08:07:38   \n",
       "\n",
       "      order_estimated_delivery_date order_estimated_delivery_date2  \\\n",
       "5323            2017-03-17 00:00:00            2017-03-17 00:00:00   \n",
       "16567           2017-03-21 00:00:00            2017-03-21 00:00:00   \n",
       "19031           2017-03-17 00:00:00            2017-03-17 00:00:00   \n",
       "\n",
       "      order_estimated_delivery_date_year  \n",
       "5323                                2017  \n",
       "16567                               2017  \n",
       "19031                               2017  "
      ]
     },
     "execution_count": 463,
     "metadata": {},
     "output_type": "execute_result"
    }
   ],
   "source": [
    "d1 = orders[orders['order_status'] == 'delivered']\n",
    "m2 = orders[orders['order_status'] =='delivered']['order_approved_at'].isna()\n",
    "d1[m2].head(3)"
   ]
  },
  {
   "cell_type": "markdown",
   "metadata": {},
   "source": [
    "> There were 16 orders that were delivered and NOT approved."
   ]
  },
  {
   "cell_type": "code",
   "execution_count": null,
   "metadata": {},
   "outputs": [],
   "source": []
  }
 ],
 "metadata": {
  "kernelspec": {
   "display_name": "Python 3",
   "language": "python",
   "name": "python3"
  },
  "language_info": {
   "codemirror_mode": {
    "name": "ipython",
    "version": 3
   },
   "file_extension": ".py",
   "mimetype": "text/x-python",
   "name": "python",
   "nbconvert_exporter": "python",
   "pygments_lexer": "ipython3",
   "version": "3.7.6"
  }
 },
 "nbformat": 4,
 "nbformat_minor": 4
}
